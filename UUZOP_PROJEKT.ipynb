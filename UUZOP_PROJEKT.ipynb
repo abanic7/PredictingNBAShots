{
  "nbformat": 4,
  "nbformat_minor": 0,
  "metadata": {
    "colab": {
      "provenance": [],
      "collapsed_sections": [],
      "toc_visible": true
    },
    "kernelspec": {
      "name": "python3",
      "display_name": "Python 3"
    },
    "language_info": {
      "name": "python"
    }
  },
  "cells": [
    {
      "cell_type": "markdown",
      "source": [
        "### **Početno učitavanje podataka**"
      ],
      "metadata": {
        "id": "ZZbFbROzZTWB"
      }
    },
    {
      "cell_type": "code",
      "source": [
        "import pandas as pd\n",
        "import matplotlib.pyplot as plt\n",
        "from sklearn.preprocessing import OneHotEncoder, LabelEncoder\n",
        "import seaborn as sns\n",
        "import numpy as np\n",
        "\n",
        "\n",
        "url = 'https://raw.githubusercontent.com/abanic7/PredictingNBAShots/main/shot_logs.csv?token=GHSAT0AAAAAABZ76MCM7RPX56VSQPO67LEAY3OAK3A'\n",
        "df_original = pd.read_csv(url)\n",
        "df = df_original.copy()\n",
        "print(plt.style.available)\n",
        "plt.style.use('seaborn')"
      ],
      "metadata": {
        "id": "LdEBeZTdQe8n",
        "colab": {
          "base_uri": "https://localhost:8080/"
        },
        "outputId": "e7c4a203-3dd7-4bc5-e53e-ea778808669d"
      },
      "execution_count": 2,
      "outputs": [
        {
          "output_type": "stream",
          "name": "stdout",
          "text": [
            "['Solarize_Light2', '_classic_test_patch', 'bmh', 'classic', 'dark_background', 'fast', 'fivethirtyeight', 'ggplot', 'grayscale', 'seaborn', 'seaborn-bright', 'seaborn-colorblind', 'seaborn-dark', 'seaborn-dark-palette', 'seaborn-darkgrid', 'seaborn-deep', 'seaborn-muted', 'seaborn-notebook', 'seaborn-paper', 'seaborn-pastel', 'seaborn-poster', 'seaborn-talk', 'seaborn-ticks', 'seaborn-white', 'seaborn-whitegrid', 'tableau-colorblind10']\n"
          ]
        }
      ]
    },
    {
      "cell_type": "markdown",
      "source": [
        "### **Pregled podataka**"
      ],
      "metadata": {
        "id": "iAsxCngzD0tb"
      }
    },
    {
      "cell_type": "code",
      "source": [
        "#postavljanje opcije za prikaz prvih 100 zapisa\n",
        "pd.set_option('display.max_columns',100)\n",
        "\n",
        "#prikaz prvih 5 zapisa\n",
        "df.head(5)\n"
      ],
      "metadata": {
        "id": "bH0I4nwiQdQy",
        "colab": {
          "base_uri": "https://localhost:8080/",
          "height": 617
        },
        "outputId": "fe673a11-dc2f-4b6c-f3cb-10aecf9cdaef"
      },
      "execution_count": 3,
      "outputs": [
        {
          "output_type": "execute_result",
          "data": {
            "text/plain": [
              "    GAME_ID                   MATCHUP LOCATION  W  FINAL_MARGIN  SHOT_NUMBER  \\\n",
              "0  21400899  MAR 04, 2015 - CHA @ BKN        A  W            24            1   \n",
              "1  21400899  MAR 04, 2015 - CHA @ BKN        A  W            24            2   \n",
              "2  21400899  MAR 04, 2015 - CHA @ BKN        A  W            24            3   \n",
              "3  21400899  MAR 04, 2015 - CHA @ BKN        A  W            24            4   \n",
              "4  21400899  MAR 04, 2015 - CHA @ BKN        A  W            24            5   \n",
              "\n",
              "   PERIOD GAME_CLOCK  SHOT_CLOCK  DRIBBLES  TOUCH_TIME  SHOT_DIST  PTS_TYPE  \\\n",
              "0       1       1:09        10.8         2         1.9        7.7         2   \n",
              "1       1       0:14         3.4         0         0.8       28.2         3   \n",
              "2       1       0:00         NaN         3         2.7       10.1         2   \n",
              "3       2      11:47        10.3         2         1.9       17.2         2   \n",
              "4       2      10:34        10.9         2         2.7        3.7         2   \n",
              "\n",
              "  SHOT_RESULT   CLOSEST_DEFENDER  CLOSEST_DEFENDER_PLAYER_ID  CLOSE_DEF_DIST  \\\n",
              "0        made     Anderson, Alan                      101187             1.3   \n",
              "1      missed  Bogdanovic, Bojan                      202711             6.1   \n",
              "2      missed  Bogdanovic, Bojan                      202711             0.9   \n",
              "3      missed      Brown, Markel                      203900             3.4   \n",
              "4      missed    Young, Thaddeus                      201152             1.1   \n",
              "\n",
              "   FGM  PTS    player_name  player_id  \n",
              "0    1    2  brian roberts     203148  \n",
              "1    0    0  brian roberts     203148  \n",
              "2    0    0  brian roberts     203148  \n",
              "3    0    0  brian roberts     203148  \n",
              "4    0    0  brian roberts     203148  "
            ],
            "text/html": [
              "\n",
              "  <div id=\"df-03c01d53-ce6a-446c-9193-e9be27e74dfa\">\n",
              "    <div class=\"colab-df-container\">\n",
              "      <div>\n",
              "<style scoped>\n",
              "    .dataframe tbody tr th:only-of-type {\n",
              "        vertical-align: middle;\n",
              "    }\n",
              "\n",
              "    .dataframe tbody tr th {\n",
              "        vertical-align: top;\n",
              "    }\n",
              "\n",
              "    .dataframe thead th {\n",
              "        text-align: right;\n",
              "    }\n",
              "</style>\n",
              "<table border=\"1\" class=\"dataframe\">\n",
              "  <thead>\n",
              "    <tr style=\"text-align: right;\">\n",
              "      <th></th>\n",
              "      <th>GAME_ID</th>\n",
              "      <th>MATCHUP</th>\n",
              "      <th>LOCATION</th>\n",
              "      <th>W</th>\n",
              "      <th>FINAL_MARGIN</th>\n",
              "      <th>SHOT_NUMBER</th>\n",
              "      <th>PERIOD</th>\n",
              "      <th>GAME_CLOCK</th>\n",
              "      <th>SHOT_CLOCK</th>\n",
              "      <th>DRIBBLES</th>\n",
              "      <th>TOUCH_TIME</th>\n",
              "      <th>SHOT_DIST</th>\n",
              "      <th>PTS_TYPE</th>\n",
              "      <th>SHOT_RESULT</th>\n",
              "      <th>CLOSEST_DEFENDER</th>\n",
              "      <th>CLOSEST_DEFENDER_PLAYER_ID</th>\n",
              "      <th>CLOSE_DEF_DIST</th>\n",
              "      <th>FGM</th>\n",
              "      <th>PTS</th>\n",
              "      <th>player_name</th>\n",
              "      <th>player_id</th>\n",
              "    </tr>\n",
              "  </thead>\n",
              "  <tbody>\n",
              "    <tr>\n",
              "      <th>0</th>\n",
              "      <td>21400899</td>\n",
              "      <td>MAR 04, 2015 - CHA @ BKN</td>\n",
              "      <td>A</td>\n",
              "      <td>W</td>\n",
              "      <td>24</td>\n",
              "      <td>1</td>\n",
              "      <td>1</td>\n",
              "      <td>1:09</td>\n",
              "      <td>10.8</td>\n",
              "      <td>2</td>\n",
              "      <td>1.9</td>\n",
              "      <td>7.7</td>\n",
              "      <td>2</td>\n",
              "      <td>made</td>\n",
              "      <td>Anderson, Alan</td>\n",
              "      <td>101187</td>\n",
              "      <td>1.3</td>\n",
              "      <td>1</td>\n",
              "      <td>2</td>\n",
              "      <td>brian roberts</td>\n",
              "      <td>203148</td>\n",
              "    </tr>\n",
              "    <tr>\n",
              "      <th>1</th>\n",
              "      <td>21400899</td>\n",
              "      <td>MAR 04, 2015 - CHA @ BKN</td>\n",
              "      <td>A</td>\n",
              "      <td>W</td>\n",
              "      <td>24</td>\n",
              "      <td>2</td>\n",
              "      <td>1</td>\n",
              "      <td>0:14</td>\n",
              "      <td>3.4</td>\n",
              "      <td>0</td>\n",
              "      <td>0.8</td>\n",
              "      <td>28.2</td>\n",
              "      <td>3</td>\n",
              "      <td>missed</td>\n",
              "      <td>Bogdanovic, Bojan</td>\n",
              "      <td>202711</td>\n",
              "      <td>6.1</td>\n",
              "      <td>0</td>\n",
              "      <td>0</td>\n",
              "      <td>brian roberts</td>\n",
              "      <td>203148</td>\n",
              "    </tr>\n",
              "    <tr>\n",
              "      <th>2</th>\n",
              "      <td>21400899</td>\n",
              "      <td>MAR 04, 2015 - CHA @ BKN</td>\n",
              "      <td>A</td>\n",
              "      <td>W</td>\n",
              "      <td>24</td>\n",
              "      <td>3</td>\n",
              "      <td>1</td>\n",
              "      <td>0:00</td>\n",
              "      <td>NaN</td>\n",
              "      <td>3</td>\n",
              "      <td>2.7</td>\n",
              "      <td>10.1</td>\n",
              "      <td>2</td>\n",
              "      <td>missed</td>\n",
              "      <td>Bogdanovic, Bojan</td>\n",
              "      <td>202711</td>\n",
              "      <td>0.9</td>\n",
              "      <td>0</td>\n",
              "      <td>0</td>\n",
              "      <td>brian roberts</td>\n",
              "      <td>203148</td>\n",
              "    </tr>\n",
              "    <tr>\n",
              "      <th>3</th>\n",
              "      <td>21400899</td>\n",
              "      <td>MAR 04, 2015 - CHA @ BKN</td>\n",
              "      <td>A</td>\n",
              "      <td>W</td>\n",
              "      <td>24</td>\n",
              "      <td>4</td>\n",
              "      <td>2</td>\n",
              "      <td>11:47</td>\n",
              "      <td>10.3</td>\n",
              "      <td>2</td>\n",
              "      <td>1.9</td>\n",
              "      <td>17.2</td>\n",
              "      <td>2</td>\n",
              "      <td>missed</td>\n",
              "      <td>Brown, Markel</td>\n",
              "      <td>203900</td>\n",
              "      <td>3.4</td>\n",
              "      <td>0</td>\n",
              "      <td>0</td>\n",
              "      <td>brian roberts</td>\n",
              "      <td>203148</td>\n",
              "    </tr>\n",
              "    <tr>\n",
              "      <th>4</th>\n",
              "      <td>21400899</td>\n",
              "      <td>MAR 04, 2015 - CHA @ BKN</td>\n",
              "      <td>A</td>\n",
              "      <td>W</td>\n",
              "      <td>24</td>\n",
              "      <td>5</td>\n",
              "      <td>2</td>\n",
              "      <td>10:34</td>\n",
              "      <td>10.9</td>\n",
              "      <td>2</td>\n",
              "      <td>2.7</td>\n",
              "      <td>3.7</td>\n",
              "      <td>2</td>\n",
              "      <td>missed</td>\n",
              "      <td>Young, Thaddeus</td>\n",
              "      <td>201152</td>\n",
              "      <td>1.1</td>\n",
              "      <td>0</td>\n",
              "      <td>0</td>\n",
              "      <td>brian roberts</td>\n",
              "      <td>203148</td>\n",
              "    </tr>\n",
              "  </tbody>\n",
              "</table>\n",
              "</div>\n",
              "      <button class=\"colab-df-convert\" onclick=\"convertToInteractive('df-03c01d53-ce6a-446c-9193-e9be27e74dfa')\"\n",
              "              title=\"Convert this dataframe to an interactive table.\"\n",
              "              style=\"display:none;\">\n",
              "        \n",
              "  <svg xmlns=\"http://www.w3.org/2000/svg\" height=\"24px\"viewBox=\"0 0 24 24\"\n",
              "       width=\"24px\">\n",
              "    <path d=\"M0 0h24v24H0V0z\" fill=\"none\"/>\n",
              "    <path d=\"M18.56 5.44l.94 2.06.94-2.06 2.06-.94-2.06-.94-.94-2.06-.94 2.06-2.06.94zm-11 1L8.5 8.5l.94-2.06 2.06-.94-2.06-.94L8.5 2.5l-.94 2.06-2.06.94zm10 10l.94 2.06.94-2.06 2.06-.94-2.06-.94-.94-2.06-.94 2.06-2.06.94z\"/><path d=\"M17.41 7.96l-1.37-1.37c-.4-.4-.92-.59-1.43-.59-.52 0-1.04.2-1.43.59L10.3 9.45l-7.72 7.72c-.78.78-.78 2.05 0 2.83L4 21.41c.39.39.9.59 1.41.59.51 0 1.02-.2 1.41-.59l7.78-7.78 2.81-2.81c.8-.78.8-2.07 0-2.86zM5.41 20L4 18.59l7.72-7.72 1.47 1.35L5.41 20z\"/>\n",
              "  </svg>\n",
              "      </button>\n",
              "      \n",
              "  <style>\n",
              "    .colab-df-container {\n",
              "      display:flex;\n",
              "      flex-wrap:wrap;\n",
              "      gap: 12px;\n",
              "    }\n",
              "\n",
              "    .colab-df-convert {\n",
              "      background-color: #E8F0FE;\n",
              "      border: none;\n",
              "      border-radius: 50%;\n",
              "      cursor: pointer;\n",
              "      display: none;\n",
              "      fill: #1967D2;\n",
              "      height: 32px;\n",
              "      padding: 0 0 0 0;\n",
              "      width: 32px;\n",
              "    }\n",
              "\n",
              "    .colab-df-convert:hover {\n",
              "      background-color: #E2EBFA;\n",
              "      box-shadow: 0px 1px 2px rgba(60, 64, 67, 0.3), 0px 1px 3px 1px rgba(60, 64, 67, 0.15);\n",
              "      fill: #174EA6;\n",
              "    }\n",
              "\n",
              "    [theme=dark] .colab-df-convert {\n",
              "      background-color: #3B4455;\n",
              "      fill: #D2E3FC;\n",
              "    }\n",
              "\n",
              "    [theme=dark] .colab-df-convert:hover {\n",
              "      background-color: #434B5C;\n",
              "      box-shadow: 0px 1px 3px 1px rgba(0, 0, 0, 0.15);\n",
              "      filter: drop-shadow(0px 1px 2px rgba(0, 0, 0, 0.3));\n",
              "      fill: #FFFFFF;\n",
              "    }\n",
              "  </style>\n",
              "\n",
              "      <script>\n",
              "        const buttonEl =\n",
              "          document.querySelector('#df-03c01d53-ce6a-446c-9193-e9be27e74dfa button.colab-df-convert');\n",
              "        buttonEl.style.display =\n",
              "          google.colab.kernel.accessAllowed ? 'block' : 'none';\n",
              "\n",
              "        async function convertToInteractive(key) {\n",
              "          const element = document.querySelector('#df-03c01d53-ce6a-446c-9193-e9be27e74dfa');\n",
              "          const dataTable =\n",
              "            await google.colab.kernel.invokeFunction('convertToInteractive',\n",
              "                                                     [key], {});\n",
              "          if (!dataTable) return;\n",
              "\n",
              "          const docLinkHtml = 'Like what you see? Visit the ' +\n",
              "            '<a target=\"_blank\" href=https://colab.research.google.com/notebooks/data_table.ipynb>data table notebook</a>'\n",
              "            + ' to learn more about interactive tables.';\n",
              "          element.innerHTML = '';\n",
              "          dataTable['output_type'] = 'display_data';\n",
              "          await google.colab.output.renderOutput(dataTable, element);\n",
              "          const docLink = document.createElement('div');\n",
              "          docLink.innerHTML = docLinkHtml;\n",
              "          element.appendChild(docLink);\n",
              "        }\n",
              "      </script>\n",
              "    </div>\n",
              "  </div>\n",
              "  "
            ]
          },
          "metadata": {},
          "execution_count": 3
        }
      ]
    },
    {
      "cell_type": "code",
      "source": [
        "df.describe(include='all')\n"
      ],
      "metadata": {
        "id": "6lmMVPlPGYWF",
        "colab": {
          "base_uri": "https://localhost:8080/",
          "height": 510
        },
        "outputId": "88b68ea3-636c-426c-b1b4-b276010b1878"
      },
      "execution_count": 4,
      "outputs": [
        {
          "output_type": "execute_result",
          "data": {
            "text/plain": [
              "             GAME_ID                     MATCHUP LOCATION       W  \\\n",
              "count   1.280690e+05                      128069   128069  128069   \n",
              "unique           NaN                        1808        2       2   \n",
              "top              NaN  FEB 07, 2015 - DAL vs. POR        A       W   \n",
              "freq             NaN                         105    64135   64595   \n",
              "mean    2.140045e+07                         NaN      NaN     NaN   \n",
              "std     2.578773e+02                         NaN      NaN     NaN   \n",
              "min     2.140000e+07                         NaN      NaN     NaN   \n",
              "25%     2.140023e+07                         NaN      NaN     NaN   \n",
              "50%     2.140045e+07                         NaN      NaN     NaN   \n",
              "75%     2.140067e+07                         NaN      NaN     NaN   \n",
              "max     2.140091e+07                         NaN      NaN     NaN   \n",
              "\n",
              "         FINAL_MARGIN    SHOT_NUMBER         PERIOD GAME_CLOCK     SHOT_CLOCK  \\\n",
              "count   128069.000000  128069.000000  128069.000000     128069  122502.000000   \n",
              "unique            NaN            NaN            NaN        719            NaN   \n",
              "top               NaN            NaN            NaN       0:01            NaN   \n",
              "freq              NaN            NaN            NaN        859            NaN   \n",
              "mean         0.208723       6.506899       2.469427        NaN      12.453344   \n",
              "std         13.233267       4.713260       1.139919        NaN       5.763265   \n",
              "min        -53.000000       1.000000       1.000000        NaN       0.000000   \n",
              "25%         -8.000000       3.000000       1.000000        NaN       8.200000   \n",
              "50%          1.000000       5.000000       2.000000        NaN      12.300000   \n",
              "75%          9.000000       9.000000       3.000000        NaN      16.675000   \n",
              "max         53.000000      38.000000       7.000000        NaN      24.000000   \n",
              "\n",
              "             DRIBBLES     TOUCH_TIME      SHOT_DIST       PTS_TYPE  \\\n",
              "count   128069.000000  128069.000000  128069.000000  128069.000000   \n",
              "unique            NaN            NaN            NaN            NaN   \n",
              "top               NaN            NaN            NaN            NaN   \n",
              "freq              NaN            NaN            NaN            NaN   \n",
              "mean         2.023355       2.765901      13.571504       2.264670   \n",
              "std          3.477760       3.043682       8.888964       0.441159   \n",
              "min          0.000000    -163.600000       0.000000       2.000000   \n",
              "25%          0.000000       0.900000       4.700000       2.000000   \n",
              "50%          1.000000       1.600000      13.700000       2.000000   \n",
              "75%          2.000000       3.700000      22.500000       3.000000   \n",
              "max         32.000000      24.900000      47.200000       3.000000   \n",
              "\n",
              "       SHOT_RESULT CLOSEST_DEFENDER  CLOSEST_DEFENDER_PLAYER_ID  \\\n",
              "count       128069           128069               128069.000000   \n",
              "unique           2              473                         NaN   \n",
              "top         missed     Ibaka, Serge                         NaN   \n",
              "freq         70164              814                         NaN   \n",
              "mean           NaN              NaN               159038.487284   \n",
              "std            NaN              NaN                78791.172947   \n",
              "min            NaN              NaN                  708.000000   \n",
              "25%            NaN              NaN               101249.000000   \n",
              "50%            NaN              NaN               201949.000000   \n",
              "75%            NaN              NaN               203079.000000   \n",
              "max            NaN              NaN               530027.000000   \n",
              "\n",
              "        CLOSE_DEF_DIST            FGM            PTS   player_name  \\\n",
              "count    128069.000000  128069.000000  128069.000000        128069   \n",
              "unique             NaN            NaN            NaN           281   \n",
              "top                NaN            NaN            NaN  james harden   \n",
              "freq               NaN            NaN            NaN          1054   \n",
              "mean          4.123015       0.452139       0.997314           NaN   \n",
              "std           2.756446       0.497706       1.130978           NaN   \n",
              "min           0.000000       0.000000       0.000000           NaN   \n",
              "25%           2.300000       0.000000       0.000000           NaN   \n",
              "50%           3.700000       0.000000       0.000000           NaN   \n",
              "75%           5.300000       1.000000       2.000000           NaN   \n",
              "max          53.200000       1.000000       3.000000           NaN   \n",
              "\n",
              "            player_id  \n",
              "count   128069.000000  \n",
              "unique            NaN  \n",
              "top               NaN  \n",
              "freq              NaN  \n",
              "mean    157238.251247  \n",
              "std      79362.389336  \n",
              "min        708.000000  \n",
              "25%     101162.000000  \n",
              "50%     201939.000000  \n",
              "75%     202704.000000  \n",
              "max     204060.000000  "
            ],
            "text/html": [
              "\n",
              "  <div id=\"df-b7aa962b-924d-45a9-930b-4dd038e538c2\">\n",
              "    <div class=\"colab-df-container\">\n",
              "      <div>\n",
              "<style scoped>\n",
              "    .dataframe tbody tr th:only-of-type {\n",
              "        vertical-align: middle;\n",
              "    }\n",
              "\n",
              "    .dataframe tbody tr th {\n",
              "        vertical-align: top;\n",
              "    }\n",
              "\n",
              "    .dataframe thead th {\n",
              "        text-align: right;\n",
              "    }\n",
              "</style>\n",
              "<table border=\"1\" class=\"dataframe\">\n",
              "  <thead>\n",
              "    <tr style=\"text-align: right;\">\n",
              "      <th></th>\n",
              "      <th>GAME_ID</th>\n",
              "      <th>MATCHUP</th>\n",
              "      <th>LOCATION</th>\n",
              "      <th>W</th>\n",
              "      <th>FINAL_MARGIN</th>\n",
              "      <th>SHOT_NUMBER</th>\n",
              "      <th>PERIOD</th>\n",
              "      <th>GAME_CLOCK</th>\n",
              "      <th>SHOT_CLOCK</th>\n",
              "      <th>DRIBBLES</th>\n",
              "      <th>TOUCH_TIME</th>\n",
              "      <th>SHOT_DIST</th>\n",
              "      <th>PTS_TYPE</th>\n",
              "      <th>SHOT_RESULT</th>\n",
              "      <th>CLOSEST_DEFENDER</th>\n",
              "      <th>CLOSEST_DEFENDER_PLAYER_ID</th>\n",
              "      <th>CLOSE_DEF_DIST</th>\n",
              "      <th>FGM</th>\n",
              "      <th>PTS</th>\n",
              "      <th>player_name</th>\n",
              "      <th>player_id</th>\n",
              "    </tr>\n",
              "  </thead>\n",
              "  <tbody>\n",
              "    <tr>\n",
              "      <th>count</th>\n",
              "      <td>1.280690e+05</td>\n",
              "      <td>128069</td>\n",
              "      <td>128069</td>\n",
              "      <td>128069</td>\n",
              "      <td>128069.000000</td>\n",
              "      <td>128069.000000</td>\n",
              "      <td>128069.000000</td>\n",
              "      <td>128069</td>\n",
              "      <td>122502.000000</td>\n",
              "      <td>128069.000000</td>\n",
              "      <td>128069.000000</td>\n",
              "      <td>128069.000000</td>\n",
              "      <td>128069.000000</td>\n",
              "      <td>128069</td>\n",
              "      <td>128069</td>\n",
              "      <td>128069.000000</td>\n",
              "      <td>128069.000000</td>\n",
              "      <td>128069.000000</td>\n",
              "      <td>128069.000000</td>\n",
              "      <td>128069</td>\n",
              "      <td>128069.000000</td>\n",
              "    </tr>\n",
              "    <tr>\n",
              "      <th>unique</th>\n",
              "      <td>NaN</td>\n",
              "      <td>1808</td>\n",
              "      <td>2</td>\n",
              "      <td>2</td>\n",
              "      <td>NaN</td>\n",
              "      <td>NaN</td>\n",
              "      <td>NaN</td>\n",
              "      <td>719</td>\n",
              "      <td>NaN</td>\n",
              "      <td>NaN</td>\n",
              "      <td>NaN</td>\n",
              "      <td>NaN</td>\n",
              "      <td>NaN</td>\n",
              "      <td>2</td>\n",
              "      <td>473</td>\n",
              "      <td>NaN</td>\n",
              "      <td>NaN</td>\n",
              "      <td>NaN</td>\n",
              "      <td>NaN</td>\n",
              "      <td>281</td>\n",
              "      <td>NaN</td>\n",
              "    </tr>\n",
              "    <tr>\n",
              "      <th>top</th>\n",
              "      <td>NaN</td>\n",
              "      <td>FEB 07, 2015 - DAL vs. POR</td>\n",
              "      <td>A</td>\n",
              "      <td>W</td>\n",
              "      <td>NaN</td>\n",
              "      <td>NaN</td>\n",
              "      <td>NaN</td>\n",
              "      <td>0:01</td>\n",
              "      <td>NaN</td>\n",
              "      <td>NaN</td>\n",
              "      <td>NaN</td>\n",
              "      <td>NaN</td>\n",
              "      <td>NaN</td>\n",
              "      <td>missed</td>\n",
              "      <td>Ibaka, Serge</td>\n",
              "      <td>NaN</td>\n",
              "      <td>NaN</td>\n",
              "      <td>NaN</td>\n",
              "      <td>NaN</td>\n",
              "      <td>james harden</td>\n",
              "      <td>NaN</td>\n",
              "    </tr>\n",
              "    <tr>\n",
              "      <th>freq</th>\n",
              "      <td>NaN</td>\n",
              "      <td>105</td>\n",
              "      <td>64135</td>\n",
              "      <td>64595</td>\n",
              "      <td>NaN</td>\n",
              "      <td>NaN</td>\n",
              "      <td>NaN</td>\n",
              "      <td>859</td>\n",
              "      <td>NaN</td>\n",
              "      <td>NaN</td>\n",
              "      <td>NaN</td>\n",
              "      <td>NaN</td>\n",
              "      <td>NaN</td>\n",
              "      <td>70164</td>\n",
              "      <td>814</td>\n",
              "      <td>NaN</td>\n",
              "      <td>NaN</td>\n",
              "      <td>NaN</td>\n",
              "      <td>NaN</td>\n",
              "      <td>1054</td>\n",
              "      <td>NaN</td>\n",
              "    </tr>\n",
              "    <tr>\n",
              "      <th>mean</th>\n",
              "      <td>2.140045e+07</td>\n",
              "      <td>NaN</td>\n",
              "      <td>NaN</td>\n",
              "      <td>NaN</td>\n",
              "      <td>0.208723</td>\n",
              "      <td>6.506899</td>\n",
              "      <td>2.469427</td>\n",
              "      <td>NaN</td>\n",
              "      <td>12.453344</td>\n",
              "      <td>2.023355</td>\n",
              "      <td>2.765901</td>\n",
              "      <td>13.571504</td>\n",
              "      <td>2.264670</td>\n",
              "      <td>NaN</td>\n",
              "      <td>NaN</td>\n",
              "      <td>159038.487284</td>\n",
              "      <td>4.123015</td>\n",
              "      <td>0.452139</td>\n",
              "      <td>0.997314</td>\n",
              "      <td>NaN</td>\n",
              "      <td>157238.251247</td>\n",
              "    </tr>\n",
              "    <tr>\n",
              "      <th>std</th>\n",
              "      <td>2.578773e+02</td>\n",
              "      <td>NaN</td>\n",
              "      <td>NaN</td>\n",
              "      <td>NaN</td>\n",
              "      <td>13.233267</td>\n",
              "      <td>4.713260</td>\n",
              "      <td>1.139919</td>\n",
              "      <td>NaN</td>\n",
              "      <td>5.763265</td>\n",
              "      <td>3.477760</td>\n",
              "      <td>3.043682</td>\n",
              "      <td>8.888964</td>\n",
              "      <td>0.441159</td>\n",
              "      <td>NaN</td>\n",
              "      <td>NaN</td>\n",
              "      <td>78791.172947</td>\n",
              "      <td>2.756446</td>\n",
              "      <td>0.497706</td>\n",
              "      <td>1.130978</td>\n",
              "      <td>NaN</td>\n",
              "      <td>79362.389336</td>\n",
              "    </tr>\n",
              "    <tr>\n",
              "      <th>min</th>\n",
              "      <td>2.140000e+07</td>\n",
              "      <td>NaN</td>\n",
              "      <td>NaN</td>\n",
              "      <td>NaN</td>\n",
              "      <td>-53.000000</td>\n",
              "      <td>1.000000</td>\n",
              "      <td>1.000000</td>\n",
              "      <td>NaN</td>\n",
              "      <td>0.000000</td>\n",
              "      <td>0.000000</td>\n",
              "      <td>-163.600000</td>\n",
              "      <td>0.000000</td>\n",
              "      <td>2.000000</td>\n",
              "      <td>NaN</td>\n",
              "      <td>NaN</td>\n",
              "      <td>708.000000</td>\n",
              "      <td>0.000000</td>\n",
              "      <td>0.000000</td>\n",
              "      <td>0.000000</td>\n",
              "      <td>NaN</td>\n",
              "      <td>708.000000</td>\n",
              "    </tr>\n",
              "    <tr>\n",
              "      <th>25%</th>\n",
              "      <td>2.140023e+07</td>\n",
              "      <td>NaN</td>\n",
              "      <td>NaN</td>\n",
              "      <td>NaN</td>\n",
              "      <td>-8.000000</td>\n",
              "      <td>3.000000</td>\n",
              "      <td>1.000000</td>\n",
              "      <td>NaN</td>\n",
              "      <td>8.200000</td>\n",
              "      <td>0.000000</td>\n",
              "      <td>0.900000</td>\n",
              "      <td>4.700000</td>\n",
              "      <td>2.000000</td>\n",
              "      <td>NaN</td>\n",
              "      <td>NaN</td>\n",
              "      <td>101249.000000</td>\n",
              "      <td>2.300000</td>\n",
              "      <td>0.000000</td>\n",
              "      <td>0.000000</td>\n",
              "      <td>NaN</td>\n",
              "      <td>101162.000000</td>\n",
              "    </tr>\n",
              "    <tr>\n",
              "      <th>50%</th>\n",
              "      <td>2.140045e+07</td>\n",
              "      <td>NaN</td>\n",
              "      <td>NaN</td>\n",
              "      <td>NaN</td>\n",
              "      <td>1.000000</td>\n",
              "      <td>5.000000</td>\n",
              "      <td>2.000000</td>\n",
              "      <td>NaN</td>\n",
              "      <td>12.300000</td>\n",
              "      <td>1.000000</td>\n",
              "      <td>1.600000</td>\n",
              "      <td>13.700000</td>\n",
              "      <td>2.000000</td>\n",
              "      <td>NaN</td>\n",
              "      <td>NaN</td>\n",
              "      <td>201949.000000</td>\n",
              "      <td>3.700000</td>\n",
              "      <td>0.000000</td>\n",
              "      <td>0.000000</td>\n",
              "      <td>NaN</td>\n",
              "      <td>201939.000000</td>\n",
              "    </tr>\n",
              "    <tr>\n",
              "      <th>75%</th>\n",
              "      <td>2.140067e+07</td>\n",
              "      <td>NaN</td>\n",
              "      <td>NaN</td>\n",
              "      <td>NaN</td>\n",
              "      <td>9.000000</td>\n",
              "      <td>9.000000</td>\n",
              "      <td>3.000000</td>\n",
              "      <td>NaN</td>\n",
              "      <td>16.675000</td>\n",
              "      <td>2.000000</td>\n",
              "      <td>3.700000</td>\n",
              "      <td>22.500000</td>\n",
              "      <td>3.000000</td>\n",
              "      <td>NaN</td>\n",
              "      <td>NaN</td>\n",
              "      <td>203079.000000</td>\n",
              "      <td>5.300000</td>\n",
              "      <td>1.000000</td>\n",
              "      <td>2.000000</td>\n",
              "      <td>NaN</td>\n",
              "      <td>202704.000000</td>\n",
              "    </tr>\n",
              "    <tr>\n",
              "      <th>max</th>\n",
              "      <td>2.140091e+07</td>\n",
              "      <td>NaN</td>\n",
              "      <td>NaN</td>\n",
              "      <td>NaN</td>\n",
              "      <td>53.000000</td>\n",
              "      <td>38.000000</td>\n",
              "      <td>7.000000</td>\n",
              "      <td>NaN</td>\n",
              "      <td>24.000000</td>\n",
              "      <td>32.000000</td>\n",
              "      <td>24.900000</td>\n",
              "      <td>47.200000</td>\n",
              "      <td>3.000000</td>\n",
              "      <td>NaN</td>\n",
              "      <td>NaN</td>\n",
              "      <td>530027.000000</td>\n",
              "      <td>53.200000</td>\n",
              "      <td>1.000000</td>\n",
              "      <td>3.000000</td>\n",
              "      <td>NaN</td>\n",
              "      <td>204060.000000</td>\n",
              "    </tr>\n",
              "  </tbody>\n",
              "</table>\n",
              "</div>\n",
              "      <button class=\"colab-df-convert\" onclick=\"convertToInteractive('df-b7aa962b-924d-45a9-930b-4dd038e538c2')\"\n",
              "              title=\"Convert this dataframe to an interactive table.\"\n",
              "              style=\"display:none;\">\n",
              "        \n",
              "  <svg xmlns=\"http://www.w3.org/2000/svg\" height=\"24px\"viewBox=\"0 0 24 24\"\n",
              "       width=\"24px\">\n",
              "    <path d=\"M0 0h24v24H0V0z\" fill=\"none\"/>\n",
              "    <path d=\"M18.56 5.44l.94 2.06.94-2.06 2.06-.94-2.06-.94-.94-2.06-.94 2.06-2.06.94zm-11 1L8.5 8.5l.94-2.06 2.06-.94-2.06-.94L8.5 2.5l-.94 2.06-2.06.94zm10 10l.94 2.06.94-2.06 2.06-.94-2.06-.94-.94-2.06-.94 2.06-2.06.94z\"/><path d=\"M17.41 7.96l-1.37-1.37c-.4-.4-.92-.59-1.43-.59-.52 0-1.04.2-1.43.59L10.3 9.45l-7.72 7.72c-.78.78-.78 2.05 0 2.83L4 21.41c.39.39.9.59 1.41.59.51 0 1.02-.2 1.41-.59l7.78-7.78 2.81-2.81c.8-.78.8-2.07 0-2.86zM5.41 20L4 18.59l7.72-7.72 1.47 1.35L5.41 20z\"/>\n",
              "  </svg>\n",
              "      </button>\n",
              "      \n",
              "  <style>\n",
              "    .colab-df-container {\n",
              "      display:flex;\n",
              "      flex-wrap:wrap;\n",
              "      gap: 12px;\n",
              "    }\n",
              "\n",
              "    .colab-df-convert {\n",
              "      background-color: #E8F0FE;\n",
              "      border: none;\n",
              "      border-radius: 50%;\n",
              "      cursor: pointer;\n",
              "      display: none;\n",
              "      fill: #1967D2;\n",
              "      height: 32px;\n",
              "      padding: 0 0 0 0;\n",
              "      width: 32px;\n",
              "    }\n",
              "\n",
              "    .colab-df-convert:hover {\n",
              "      background-color: #E2EBFA;\n",
              "      box-shadow: 0px 1px 2px rgba(60, 64, 67, 0.3), 0px 1px 3px 1px rgba(60, 64, 67, 0.15);\n",
              "      fill: #174EA6;\n",
              "    }\n",
              "\n",
              "    [theme=dark] .colab-df-convert {\n",
              "      background-color: #3B4455;\n",
              "      fill: #D2E3FC;\n",
              "    }\n",
              "\n",
              "    [theme=dark] .colab-df-convert:hover {\n",
              "      background-color: #434B5C;\n",
              "      box-shadow: 0px 1px 3px 1px rgba(0, 0, 0, 0.15);\n",
              "      filter: drop-shadow(0px 1px 2px rgba(0, 0, 0, 0.3));\n",
              "      fill: #FFFFFF;\n",
              "    }\n",
              "  </style>\n",
              "\n",
              "      <script>\n",
              "        const buttonEl =\n",
              "          document.querySelector('#df-b7aa962b-924d-45a9-930b-4dd038e538c2 button.colab-df-convert');\n",
              "        buttonEl.style.display =\n",
              "          google.colab.kernel.accessAllowed ? 'block' : 'none';\n",
              "\n",
              "        async function convertToInteractive(key) {\n",
              "          const element = document.querySelector('#df-b7aa962b-924d-45a9-930b-4dd038e538c2');\n",
              "          const dataTable =\n",
              "            await google.colab.kernel.invokeFunction('convertToInteractive',\n",
              "                                                     [key], {});\n",
              "          if (!dataTable) return;\n",
              "\n",
              "          const docLinkHtml = 'Like what you see? Visit the ' +\n",
              "            '<a target=\"_blank\" href=https://colab.research.google.com/notebooks/data_table.ipynb>data table notebook</a>'\n",
              "            + ' to learn more about interactive tables.';\n",
              "          element.innerHTML = '';\n",
              "          dataTable['output_type'] = 'display_data';\n",
              "          await google.colab.output.renderOutput(dataTable, element);\n",
              "          const docLink = document.createElement('div');\n",
              "          docLink.innerHTML = docLinkHtml;\n",
              "          element.appendChild(docLink);\n",
              "        }\n",
              "      </script>\n",
              "    </div>\n",
              "  </div>\n",
              "  "
            ]
          },
          "metadata": {},
          "execution_count": 4
        }
      ]
    },
    {
      "cell_type": "code",
      "source": [
        "df.columns.values"
      ],
      "metadata": {
        "id": "UM_rxF2CIyND",
        "colab": {
          "base_uri": "https://localhost:8080/"
        },
        "outputId": "4b881f68-bdf2-4f5a-a5fa-36cd0a4b0360"
      },
      "execution_count": 5,
      "outputs": [
        {
          "output_type": "execute_result",
          "data": {
            "text/plain": [
              "array(['GAME_ID', 'MATCHUP', 'LOCATION', 'W', 'FINAL_MARGIN',\n",
              "       'SHOT_NUMBER', 'PERIOD', 'GAME_CLOCK', 'SHOT_CLOCK', 'DRIBBLES',\n",
              "       'TOUCH_TIME', 'SHOT_DIST', 'PTS_TYPE', 'SHOT_RESULT',\n",
              "       'CLOSEST_DEFENDER', 'CLOSEST_DEFENDER_PLAYER_ID', 'CLOSE_DEF_DIST',\n",
              "       'FGM', 'PTS', 'player_name', 'player_id'], dtype=object)"
            ]
          },
          "metadata": {},
          "execution_count": 5
        }
      ]
    },
    {
      "cell_type": "code",
      "source": [
        "#Pregled podataka radi provjere postoje li nedostajuće vrijednosti\n",
        "#Vidimo da fali 5567 vrijednosti atributa SHOT_CLOCK\n",
        "df.info()\n",
        "df.isna().sum()"
      ],
      "metadata": {
        "id": "bM3DwHg5JCVp",
        "colab": {
          "base_uri": "https://localhost:8080/"
        },
        "outputId": "d6655576-8b0a-4a59-c58a-01f78f0c8a89"
      },
      "execution_count": 6,
      "outputs": [
        {
          "output_type": "stream",
          "name": "stdout",
          "text": [
            "<class 'pandas.core.frame.DataFrame'>\n",
            "RangeIndex: 128069 entries, 0 to 128068\n",
            "Data columns (total 21 columns):\n",
            " #   Column                      Non-Null Count   Dtype  \n",
            "---  ------                      --------------   -----  \n",
            " 0   GAME_ID                     128069 non-null  int64  \n",
            " 1   MATCHUP                     128069 non-null  object \n",
            " 2   LOCATION                    128069 non-null  object \n",
            " 3   W                           128069 non-null  object \n",
            " 4   FINAL_MARGIN                128069 non-null  int64  \n",
            " 5   SHOT_NUMBER                 128069 non-null  int64  \n",
            " 6   PERIOD                      128069 non-null  int64  \n",
            " 7   GAME_CLOCK                  128069 non-null  object \n",
            " 8   SHOT_CLOCK                  122502 non-null  float64\n",
            " 9   DRIBBLES                    128069 non-null  int64  \n",
            " 10  TOUCH_TIME                  128069 non-null  float64\n",
            " 11  SHOT_DIST                   128069 non-null  float64\n",
            " 12  PTS_TYPE                    128069 non-null  int64  \n",
            " 13  SHOT_RESULT                 128069 non-null  object \n",
            " 14  CLOSEST_DEFENDER            128069 non-null  object \n",
            " 15  CLOSEST_DEFENDER_PLAYER_ID  128069 non-null  int64  \n",
            " 16  CLOSE_DEF_DIST              128069 non-null  float64\n",
            " 17  FGM                         128069 non-null  int64  \n",
            " 18  PTS                         128069 non-null  int64  \n",
            " 19  player_name                 128069 non-null  object \n",
            " 20  player_id                   128069 non-null  int64  \n",
            "dtypes: float64(4), int64(10), object(7)\n",
            "memory usage: 20.5+ MB\n"
          ]
        },
        {
          "output_type": "execute_result",
          "data": {
            "text/plain": [
              "GAME_ID                          0\n",
              "MATCHUP                          0\n",
              "LOCATION                         0\n",
              "W                                0\n",
              "FINAL_MARGIN                     0\n",
              "SHOT_NUMBER                      0\n",
              "PERIOD                           0\n",
              "GAME_CLOCK                       0\n",
              "SHOT_CLOCK                    5567\n",
              "DRIBBLES                         0\n",
              "TOUCH_TIME                       0\n",
              "SHOT_DIST                        0\n",
              "PTS_TYPE                         0\n",
              "SHOT_RESULT                      0\n",
              "CLOSEST_DEFENDER                 0\n",
              "CLOSEST_DEFENDER_PLAYER_ID       0\n",
              "CLOSE_DEF_DIST                   0\n",
              "FGM                              0\n",
              "PTS                              0\n",
              "player_name                      0\n",
              "player_id                        0\n",
              "dtype: int64"
            ]
          },
          "metadata": {},
          "execution_count": 6
        }
      ]
    },
    {
      "cell_type": "code",
      "source": [
        "#Pregled radi provjere monotonih podataka\n",
        "df.nunique()"
      ],
      "metadata": {
        "id": "xaw9qhwHLATg",
        "colab": {
          "base_uri": "https://localhost:8080/"
        },
        "outputId": "f8716910-72b8-4b3a-c967-0da9518fe440"
      },
      "execution_count": 7,
      "outputs": [
        {
          "output_type": "execute_result",
          "data": {
            "text/plain": [
              "GAME_ID                        904\n",
              "MATCHUP                       1808\n",
              "LOCATION                         2\n",
              "W                                2\n",
              "FINAL_MARGIN                    88\n",
              "SHOT_NUMBER                     38\n",
              "PERIOD                           7\n",
              "GAME_CLOCK                     719\n",
              "SHOT_CLOCK                     241\n",
              "DRIBBLES                        33\n",
              "TOUCH_TIME                     313\n",
              "SHOT_DIST                      448\n",
              "PTS_TYPE                         2\n",
              "SHOT_RESULT                      2\n",
              "CLOSEST_DEFENDER               473\n",
              "CLOSEST_DEFENDER_PLAYER_ID     474\n",
              "CLOSE_DEF_DIST                 299\n",
              "FGM                              2\n",
              "PTS                              3\n",
              "player_name                    281\n",
              "player_id                      281\n",
              "dtype: int64"
            ]
          },
          "metadata": {},
          "execution_count": 7
        }
      ]
    },
    {
      "cell_type": "markdown",
      "source": [
        "### **Čišćenje i pretvaranje podataka**"
      ],
      "metadata": {
        "id": "CpNBFVa7EFjl"
      }
    },
    {
      "cell_type": "markdown",
      "source": [
        "Vidimo da nedostaje 5567 SHOT_CLOCK vrijednosti pa imamo više mogućnosti za rješavanje problema nedostajućih vrijednost. \n",
        "\n",
        "Možemo:\n",
        "*   u potpunosti izbaciti te značajke iz skupa podataka\n",
        "*   interpolacija\n",
        "*   pronalazak točnih vrijednosti iz drugih izvora podataka\n",
        "*   zamijeniti srednjom vrijednošću\n",
        "*   u potpunosti izbaciti te zapise iz skupa podataka\n",
        " item\n",
        "\n",
        "\n",
        "Odlučio sam se za izbacivanje tih zapisa iz skupa podataka pošto su ostale opcije vrlo teške za izvesti, a ovako gubimo oko 4% zapisa što je prihvatljivo.\n",
        "\n"
      ],
      "metadata": {
        "id": "xTypRF3NN2Ek"
      }
    },
    {
      "cell_type": "code",
      "source": [
        "df = df[df.SHOT_CLOCK.notnull()]\n",
        "df.info()\n"
      ],
      "metadata": {
        "id": "8GQGSey4LAdV",
        "colab": {
          "base_uri": "https://localhost:8080/"
        },
        "outputId": "4a83da10-9044-4f3e-b654-87754fc4656a"
      },
      "execution_count": 8,
      "outputs": [
        {
          "output_type": "stream",
          "name": "stdout",
          "text": [
            "<class 'pandas.core.frame.DataFrame'>\n",
            "Int64Index: 122502 entries, 0 to 128067\n",
            "Data columns (total 21 columns):\n",
            " #   Column                      Non-Null Count   Dtype  \n",
            "---  ------                      --------------   -----  \n",
            " 0   GAME_ID                     122502 non-null  int64  \n",
            " 1   MATCHUP                     122502 non-null  object \n",
            " 2   LOCATION                    122502 non-null  object \n",
            " 3   W                           122502 non-null  object \n",
            " 4   FINAL_MARGIN                122502 non-null  int64  \n",
            " 5   SHOT_NUMBER                 122502 non-null  int64  \n",
            " 6   PERIOD                      122502 non-null  int64  \n",
            " 7   GAME_CLOCK                  122502 non-null  object \n",
            " 8   SHOT_CLOCK                  122502 non-null  float64\n",
            " 9   DRIBBLES                    122502 non-null  int64  \n",
            " 10  TOUCH_TIME                  122502 non-null  float64\n",
            " 11  SHOT_DIST                   122502 non-null  float64\n",
            " 12  PTS_TYPE                    122502 non-null  int64  \n",
            " 13  SHOT_RESULT                 122502 non-null  object \n",
            " 14  CLOSEST_DEFENDER            122502 non-null  object \n",
            " 15  CLOSEST_DEFENDER_PLAYER_ID  122502 non-null  int64  \n",
            " 16  CLOSE_DEF_DIST              122502 non-null  float64\n",
            " 17  FGM                         122502 non-null  int64  \n",
            " 18  PTS                         122502 non-null  int64  \n",
            " 19  player_name                 122502 non-null  object \n",
            " 20  player_id                   122502 non-null  int64  \n",
            "dtypes: float64(4), int64(10), object(7)\n",
            "memory usage: 20.6+ MB\n"
          ]
        }
      ]
    },
    {
      "cell_type": "markdown",
      "source": [
        "###**Pronalazak stršećih vrijednosti** \n"
      ],
      "metadata": {
        "id": "d7cU0ID4h3e0"
      }
    },
    {
      "cell_type": "code",
      "source": [
        "df['TOUCH_TIME'].describe()\n"
      ],
      "metadata": {
        "colab": {
          "base_uri": "https://localhost:8080/"
        },
        "id": "4XBwPGGxaRMg",
        "outputId": "55b85c14-8474-4d47-faab-43ac71f4e015"
      },
      "execution_count": 9,
      "outputs": [
        {
          "output_type": "execute_result",
          "data": {
            "text/plain": [
              "count    122502.000000\n",
              "mean          2.748202\n",
              "std           2.957237\n",
              "min        -100.500000\n",
              "25%           0.900000\n",
              "50%           1.600000\n",
              "75%           3.700000\n",
              "max          24.900000\n",
              "Name: TOUCH_TIME, dtype: float64"
            ]
          },
          "metadata": {},
          "execution_count": 9
        }
      ]
    },
    {
      "cell_type": "code",
      "source": [
        "tt = df['TOUCH_TIME']\n",
        "plt.boxplot(tt)\n",
        "plt.show()"
      ],
      "metadata": {
        "id": "TqF7To3Ngpvs",
        "colab": {
          "base_uri": "https://localhost:8080/",
          "height": 347
        },
        "outputId": "b0388acf-5191-4ec1-da7e-7e1438ef3d78"
      },
      "execution_count": 10,
      "outputs": [
        {
          "output_type": "display_data",
          "data": {
            "text/plain": [
              "<Figure size 576x396 with 1 Axes>"
            ],
            "image/png": "[encoded data removed]"
          },
          "metadata": {}
        }
      ]
    },
    {
      "cell_type": "markdown",
      "source": [
        "Vidimo kako značajka TOUCH_TIME ima stršeće vrijednosti, ali također ima i negativne vrijednosti što je definitivno krivo."
      ],
      "metadata": {
        "id": "n6_kMvHSIfGM"
      }
    },
    {
      "cell_type": "code",
      "source": [
        "filt = df['TOUCH_TIME'] < 0\n",
        "df.loc[filt,['TOUCH_TIME']]"
      ],
      "metadata": {
        "id": "2248mA2liBhY",
        "colab": {
          "base_uri": "https://localhost:8080/",
          "height": 424
        },
        "outputId": "232c6840-512a-441a-906e-cc0c27cb04c9"
      },
      "execution_count": 11,
      "outputs": [
        {
          "output_type": "execute_result",
          "data": {
            "text/plain": [
              "        TOUCH_TIME\n",
              "748           -4.3\n",
              "775           -0.4\n",
              "1118          -3.2\n",
              "1260          -1.3\n",
              "1860          -0.2\n",
              "...            ...\n",
              "124820        -4.2\n",
              "125018        -1.2\n",
              "125057        -8.8\n",
              "125059        -0.4\n",
              "128061        -0.2\n",
              "\n",
              "[299 rows x 1 columns]"
            ],
            "text/html": [
              "\n",
              "  <div id=\"df-57a9b9a3-687d-448d-85f8-22062c96ef98\">\n",
              "    <div class=\"colab-df-container\">\n",
              "      <div>\n",
              "<style scoped>\n",
              "    .dataframe tbody tr th:only-of-type {\n",
              "        vertical-align: middle;\n",
              "    }\n",
              "\n",
              "    .dataframe tbody tr th {\n",
              "        vertical-align: top;\n",
              "    }\n",
              "\n",
              "    .dataframe thead th {\n",
              "        text-align: right;\n",
              "    }\n",
              "</style>\n",
              "<table border=\"1\" class=\"dataframe\">\n",
              "  <thead>\n",
              "    <tr style=\"text-align: right;\">\n",
              "      <th></th>\n",
              "      <th>TOUCH_TIME</th>\n",
              "    </tr>\n",
              "  </thead>\n",
              "  <tbody>\n",
              "    <tr>\n",
              "      <th>748</th>\n",
              "      <td>-4.3</td>\n",
              "    </tr>\n",
              "    <tr>\n",
              "      <th>775</th>\n",
              "      <td>-0.4</td>\n",
              "    </tr>\n",
              "    <tr>\n",
              "      <th>1118</th>\n",
              "      <td>-3.2</td>\n",
              "    </tr>\n",
              "    <tr>\n",
              "      <th>1260</th>\n",
              "      <td>-1.3</td>\n",
              "    </tr>\n",
              "    <tr>\n",
              "      <th>1860</th>\n",
              "      <td>-0.2</td>\n",
              "    </tr>\n",
              "    <tr>\n",
              "      <th>...</th>\n",
              "      <td>...</td>\n",
              "    </tr>\n",
              "    <tr>\n",
              "      <th>124820</th>\n",
              "      <td>-4.2</td>\n",
              "    </tr>\n",
              "    <tr>\n",
              "      <th>125018</th>\n",
              "      <td>-1.2</td>\n",
              "    </tr>\n",
              "    <tr>\n",
              "      <th>125057</th>\n",
              "      <td>-8.8</td>\n",
              "    </tr>\n",
              "    <tr>\n",
              "      <th>125059</th>\n",
              "      <td>-0.4</td>\n",
              "    </tr>\n",
              "    <tr>\n",
              "      <th>128061</th>\n",
              "      <td>-0.2</td>\n",
              "    </tr>\n",
              "  </tbody>\n",
              "</table>\n",
              "<p>299 rows × 1 columns</p>\n",
              "</div>\n",
              "      <button class=\"colab-df-convert\" onclick=\"convertToInteractive('df-57a9b9a3-687d-448d-85f8-22062c96ef98')\"\n",
              "              title=\"Convert this dataframe to an interactive table.\"\n",
              "              style=\"display:none;\">\n",
              "        \n",
              "  <svg xmlns=\"http://www.w3.org/2000/svg\" height=\"24px\"viewBox=\"0 0 24 24\"\n",
              "       width=\"24px\">\n",
              "    <path d=\"M0 0h24v24H0V0z\" fill=\"none\"/>\n",
              "    <path d=\"M18.56 5.44l.94 2.06.94-2.06 2.06-.94-2.06-.94-.94-2.06-.94 2.06-2.06.94zm-11 1L8.5 8.5l.94-2.06 2.06-.94-2.06-.94L8.5 2.5l-.94 2.06-2.06.94zm10 10l.94 2.06.94-2.06 2.06-.94-2.06-.94-.94-2.06-.94 2.06-2.06.94z\"/><path d=\"M17.41 7.96l-1.37-1.37c-.4-.4-.92-.59-1.43-.59-.52 0-1.04.2-1.43.59L10.3 9.45l-7.72 7.72c-.78.78-.78 2.05 0 2.83L4 21.41c.39.39.9.59 1.41.59.51 0 1.02-.2 1.41-.59l7.78-7.78 2.81-2.81c.8-.78.8-2.07 0-2.86zM5.41 20L4 18.59l7.72-7.72 1.47 1.35L5.41 20z\"/>\n",
              "  </svg>\n",
              "      </button>\n",
              "      \n",
              "  <style>\n",
              "    .colab-df-container {\n",
              "      display:flex;\n",
              "      flex-wrap:wrap;\n",
              "      gap: 12px;\n",
              "    }\n",
              "\n",
              "    .colab-df-convert {\n",
              "      background-color: #E8F0FE;\n",
              "      border: none;\n",
              "      border-radius: 50%;\n",
              "      cursor: pointer;\n",
              "      display: none;\n",
              "      fill: #1967D2;\n",
              "      height: 32px;\n",
              "      padding: 0 0 0 0;\n",
              "      width: 32px;\n",
              "    }\n",
              "\n",
              "    .colab-df-convert:hover {\n",
              "      background-color: #E2EBFA;\n",
              "      box-shadow: 0px 1px 2px rgba(60, 64, 67, 0.3), 0px 1px 3px 1px rgba(60, 64, 67, 0.15);\n",
              "      fill: #174EA6;\n",
              "    }\n",
              "\n",
              "    [theme=dark] .colab-df-convert {\n",
              "      background-color: #3B4455;\n",
              "      fill: #D2E3FC;\n",
              "    }\n",
              "\n",
              "    [theme=dark] .colab-df-convert:hover {\n",
              "      background-color: #434B5C;\n",
              "      box-shadow: 0px 1px 3px 1px rgba(0, 0, 0, 0.15);\n",
              "      filter: drop-shadow(0px 1px 2px rgba(0, 0, 0, 0.3));\n",
              "      fill: #FFFFFF;\n",
              "    }\n",
              "  </style>\n",
              "\n",
              "      <script>\n",
              "        const buttonEl =\n",
              "          document.querySelector('#df-57a9b9a3-687d-448d-85f8-22062c96ef98 button.colab-df-convert');\n",
              "        buttonEl.style.display =\n",
              "          google.colab.kernel.accessAllowed ? 'block' : 'none';\n",
              "\n",
              "        async function convertToInteractive(key) {\n",
              "          const element = document.querySelector('#df-57a9b9a3-687d-448d-85f8-22062c96ef98');\n",
              "          const dataTable =\n",
              "            await google.colab.kernel.invokeFunction('convertToInteractive',\n",
              "                                                     [key], {});\n",
              "          if (!dataTable) return;\n",
              "\n",
              "          const docLinkHtml = 'Like what you see? Visit the ' +\n",
              "            '<a target=\"_blank\" href=https://colab.research.google.com/notebooks/data_table.ipynb>data table notebook</a>'\n",
              "            + ' to learn more about interactive tables.';\n",
              "          element.innerHTML = '';\n",
              "          dataTable['output_type'] = 'display_data';\n",
              "          await google.colab.output.renderOutput(dataTable, element);\n",
              "          const docLink = document.createElement('div');\n",
              "          docLink.innerHTML = docLinkHtml;\n",
              "          element.appendChild(docLink);\n",
              "        }\n",
              "      </script>\n",
              "    </div>\n",
              "  </div>\n",
              "  "
            ]
          },
          "metadata": {},
          "execution_count": 11
        }
      ]
    },
    {
      "cell_type": "markdown",
      "source": [
        "Imamo 300 zapisa s negativnim vrijednostima atributa TOUCH_TIME pa ćemo ih promijeniti tako da umjesto negativne vrijednosti imaju prosjek ostalih zapisa atributa."
      ],
      "metadata": {
        "id": "0zVbjUi4Z_Fq"
      }
    },
    {
      "cell_type": "code",
      "source": [
        "\n",
        "df.loc[df['TOUCH_TIME']< 0,'TOUCH_TIME'] = df['TOUCH_TIME'].mean()\n",
        "df['TOUCH_TIME'].describe()\n"
      ],
      "metadata": {
        "id": "hG6XpPK2kHU2",
        "colab": {
          "base_uri": "https://localhost:8080/"
        },
        "outputId": "9c01f686-6014-43ef-ad23-d1966d7c547c"
      },
      "execution_count": 12,
      "outputs": [
        {
          "output_type": "execute_result",
          "data": {
            "text/plain": [
              "count    122502.000000\n",
              "mean          2.759757\n",
              "std           2.931794\n",
              "min           0.000000\n",
              "25%           0.900000\n",
              "50%           1.600000\n",
              "75%           3.700000\n",
              "max          24.900000\n",
              "Name: TOUCH_TIME, dtype: float64"
            ]
          },
          "metadata": {},
          "execution_count": 12
        }
      ]
    },
    {
      "cell_type": "code",
      "source": [
        "tt = df['TOUCH_TIME']\n",
        "plt.boxplot(tt)\n",
        "plt.show()"
      ],
      "metadata": {
        "id": "hXS0sgFilRXe",
        "colab": {
          "base_uri": "https://localhost:8080/",
          "height": 347
        },
        "outputId": "fc50fd93-64fd-4a06-8c80-91aa3fc0b814"
      },
      "execution_count": 13,
      "outputs": [
        {
          "output_type": "display_data",
          "data": {
            "text/plain": [
              "<Figure size 576x396 with 1 Axes>"
            ],
            "image/png": "[encoded data removed]"
          },
          "metadata": {}
        }
      ]
    },
    {
      "cell_type": "markdown",
      "source": [
        "Pretvaranje vrijednosti značajke GAME_CLOCK iz stringa u sekunde kao cijeli broj."
      ],
      "metadata": {
        "id": "Bmw4XdRHJN7p"
      }
    },
    {
      "cell_type": "code",
      "source": [
        "df.loc[:,'GAME_CLOCK']\n",
        "\n",
        "def changeGameClockToSeconds(time):\n",
        "  time = time.split(\":\")\n",
        "  seconds = int(time[0]) * 60 + int(time[1])\n",
        "  return seconds\n",
        "\n",
        "\n",
        "#DRUGI NAČIN\n",
        "\n",
        "# for i, row in df.iterrows():\n",
        "#     time = row['GAME_CLOCK']\n",
        "#     time = time.split(\":\")\n",
        "#     seconds = int(time[0]) * 60 + int(time[1])\n",
        "#     # if i < 5:\n",
        "#     #   print(time)\n",
        "#     #   print(seconds)\n",
        "#     df.at[i,'GAME_CLOCK'] = seconds\n",
        "\n",
        "\n",
        "df['GAME_CLOCK'] = df['GAME_CLOCK'].apply(changeGameClockToSeconds)\n"
      ],
      "metadata": {
        "id": "xFol9ecAnkE_"
      },
      "execution_count": 14,
      "outputs": []
    },
    {
      "cell_type": "code",
      "source": [
        "df['GAME_CLOCK']"
      ],
      "metadata": {
        "id": "VWHUfeR3ueg7",
        "colab": {
          "base_uri": "https://localhost:8080/"
        },
        "outputId": "a3ff038b-57ac-446c-efdf-b2d5080b710a"
      },
      "execution_count": 15,
      "outputs": [
        {
          "output_type": "execute_result",
          "data": {
            "text/plain": [
              "0          69\n",
              "1          14\n",
              "3         707\n",
              "4         634\n",
              "5         495\n",
              "         ... \n",
              "128063    305\n",
              "128064    112\n",
              "128065    688\n",
              "128066    670\n",
              "128067    157\n",
              "Name: GAME_CLOCK, Length: 122502, dtype: int64"
            ]
          },
          "metadata": {},
          "execution_count": 15
        }
      ]
    },
    {
      "cell_type": "code",
      "source": [
        "#Pretvaranje udaljenosti iz feeta u metre\n",
        "def changeFeetToMeters(distance):\n",
        "  return distance * 0.3048 \n",
        "\n",
        "df['SHOT_DIST'] = df['SHOT_DIST'].apply(changeFeetToMeters)\n",
        "df['CLOSE_DEF_DIST'] = df['CLOSE_DEF_DIST'].apply(changeFeetToMeters)"
      ],
      "metadata": {
        "id": "0VfFR4XfbMTc"
      },
      "execution_count": 16,
      "outputs": []
    },
    {
      "cell_type": "code",
      "source": [
        "#Izbacivanje nepotrebnih značajki\n",
        "df_cleaned = df.drop(columns =['GAME_ID', 'MATCHUP','W','FINAL_MARGIN','SHOT_RESULT','CLOSEST_DEFENDER_PLAYER_ID','player_id'])\n",
        "df_cleaned.head(5)"
      ],
      "metadata": {
        "id": "4z7h9a1nJamj",
        "colab": {
          "base_uri": "https://localhost:8080/",
          "height": 206
        },
        "outputId": "e75db1d2-da35-4d76-f742-8526cc6705ec"
      },
      "execution_count": 17,
      "outputs": [
        {
          "output_type": "execute_result",
          "data": {
            "text/plain": [
              "  LOCATION  SHOT_NUMBER  PERIOD  GAME_CLOCK  SHOT_CLOCK  DRIBBLES  TOUCH_TIME  \\\n",
              "0        A            1       1          69        10.8         2         1.9   \n",
              "1        A            2       1          14         3.4         0         0.8   \n",
              "3        A            4       2         707        10.3         2         1.9   \n",
              "4        A            5       2         634        10.9         2         2.7   \n",
              "5        A            6       2         495         9.1         2         4.4   \n",
              "\n",
              "   SHOT_DIST  PTS_TYPE   CLOSEST_DEFENDER  CLOSE_DEF_DIST  FGM  PTS  \\\n",
              "0    2.34696         2     Anderson, Alan         0.39624    1    2   \n",
              "1    8.59536         3  Bogdanovic, Bojan         1.85928    0    0   \n",
              "3    5.24256         2      Brown, Markel         1.03632    0    0   \n",
              "4    1.12776         2    Young, Thaddeus         0.33528    0    0   \n",
              "5    5.60832         2    Williams, Deron         0.79248    0    0   \n",
              "\n",
              "     player_name  \n",
              "0  brian roberts  \n",
              "1  brian roberts  \n",
              "3  brian roberts  \n",
              "4  brian roberts  \n",
              "5  brian roberts  "
            ],
            "text/html": [
              "\n",
              "  <div id=\"df-4277388a-5e48-4ace-ad71-9ec76a1c5098\">\n",
              "    <div class=\"colab-df-container\">\n",
              "      <div>\n",
              "<style scoped>\n",
              "    .dataframe tbody tr th:only-of-type {\n",
              "        vertical-align: middle;\n",
              "    }\n",
              "\n",
              "    .dataframe tbody tr th {\n",
              "        vertical-align: top;\n",
              "    }\n",
              "\n",
              "    .dataframe thead th {\n",
              "        text-align: right;\n",
              "    }\n",
              "</style>\n",
              "<table border=\"1\" class=\"dataframe\">\n",
              "  <thead>\n",
              "    <tr style=\"text-align: right;\">\n",
              "      <th></th>\n",
              "      <th>LOCATION</th>\n",
              "      <th>SHOT_NUMBER</th>\n",
              "      <th>PERIOD</th>\n",
              "      <th>GAME_CLOCK</th>\n",
              "      <th>SHOT_CLOCK</th>\n",
              "      <th>DRIBBLES</th>\n",
              "      <th>TOUCH_TIME</th>\n",
              "      <th>SHOT_DIST</th>\n",
              "      <th>PTS_TYPE</th>\n",
              "      <th>CLOSEST_DEFENDER</th>\n",
              "      <th>CLOSE_DEF_DIST</th>\n",
              "      <th>FGM</th>\n",
              "      <th>PTS</th>\n",
              "      <th>player_name</th>\n",
              "    </tr>\n",
              "  </thead>\n",
              "  <tbody>\n",
              "    <tr>\n",
              "      <th>0</th>\n",
              "      <td>A</td>\n",
              "      <td>1</td>\n",
              "      <td>1</td>\n",
              "      <td>69</td>\n",
              "      <td>10.8</td>\n",
              "      <td>2</td>\n",
              "      <td>1.9</td>\n",
              "      <td>2.34696</td>\n",
              "      <td>2</td>\n",
              "      <td>Anderson, Alan</td>\n",
              "      <td>0.39624</td>\n",
              "      <td>1</td>\n",
              "      <td>2</td>\n",
              "      <td>brian roberts</td>\n",
              "    </tr>\n",
              "    <tr>\n",
              "      <th>1</th>\n",
              "      <td>A</td>\n",
              "      <td>2</td>\n",
              "      <td>1</td>\n",
              "      <td>14</td>\n",
              "      <td>3.4</td>\n",
              "      <td>0</td>\n",
              "      <td>0.8</td>\n",
              "      <td>8.59536</td>\n",
              "      <td>3</td>\n",
              "      <td>Bogdanovic, Bojan</td>\n",
              "      <td>1.85928</td>\n",
              "      <td>0</td>\n",
              "      <td>0</td>\n",
              "      <td>brian roberts</td>\n",
              "    </tr>\n",
              "    <tr>\n",
              "      <th>3</th>\n",
              "      <td>A</td>\n",
              "      <td>4</td>\n",
              "      <td>2</td>\n",
              "      <td>707</td>\n",
              "      <td>10.3</td>\n",
              "      <td>2</td>\n",
              "      <td>1.9</td>\n",
              "      <td>5.24256</td>\n",
              "      <td>2</td>\n",
              "      <td>Brown, Markel</td>\n",
              "      <td>1.03632</td>\n",
              "      <td>0</td>\n",
              "      <td>0</td>\n",
              "      <td>brian roberts</td>\n",
              "    </tr>\n",
              "    <tr>\n",
              "      <th>4</th>\n",
              "      <td>A</td>\n",
              "      <td>5</td>\n",
              "      <td>2</td>\n",
              "      <td>634</td>\n",
              "      <td>10.9</td>\n",
              "      <td>2</td>\n",
              "      <td>2.7</td>\n",
              "      <td>1.12776</td>\n",
              "      <td>2</td>\n",
              "      <td>Young, Thaddeus</td>\n",
              "      <td>0.33528</td>\n",
              "      <td>0</td>\n",
              "      <td>0</td>\n",
              "      <td>brian roberts</td>\n",
              "    </tr>\n",
              "    <tr>\n",
              "      <th>5</th>\n",
              "      <td>A</td>\n",
              "      <td>6</td>\n",
              "      <td>2</td>\n",
              "      <td>495</td>\n",
              "      <td>9.1</td>\n",
              "      <td>2</td>\n",
              "      <td>4.4</td>\n",
              "      <td>5.60832</td>\n",
              "      <td>2</td>\n",
              "      <td>Williams, Deron</td>\n",
              "      <td>0.79248</td>\n",
              "      <td>0</td>\n",
              "      <td>0</td>\n",
              "      <td>brian roberts</td>\n",
              "    </tr>\n",
              "  </tbody>\n",
              "</table>\n",
              "</div>\n",
              "      <button class=\"colab-df-convert\" onclick=\"convertToInteractive('df-4277388a-5e48-4ace-ad71-9ec76a1c5098')\"\n",
              "              title=\"Convert this dataframe to an interactive table.\"\n",
              "              style=\"display:none;\">\n",
              "        \n",
              "  <svg xmlns=\"http://www.w3.org/2000/svg\" height=\"24px\"viewBox=\"0 0 24 24\"\n",
              "       width=\"24px\">\n",
              "    <path d=\"M0 0h24v24H0V0z\" fill=\"none\"/>\n",
              "    <path d=\"M18.56 5.44l.94 2.06.94-2.06 2.06-.94-2.06-.94-.94-2.06-.94 2.06-2.06.94zm-11 1L8.5 8.5l.94-2.06 2.06-.94-2.06-.94L8.5 2.5l-.94 2.06-2.06.94zm10 10l.94 2.06.94-2.06 2.06-.94-2.06-.94-.94-2.06-.94 2.06-2.06.94z\"/><path d=\"M17.41 7.96l-1.37-1.37c-.4-.4-.92-.59-1.43-.59-.52 0-1.04.2-1.43.59L10.3 9.45l-7.72 7.72c-.78.78-.78 2.05 0 2.83L4 21.41c.39.39.9.59 1.41.59.51 0 1.02-.2 1.41-.59l7.78-7.78 2.81-2.81c.8-.78.8-2.07 0-2.86zM5.41 20L4 18.59l7.72-7.72 1.47 1.35L5.41 20z\"/>\n",
              "  </svg>\n",
              "      </button>\n",
              "      \n",
              "  <style>\n",
              "    .colab-df-container {\n",
              "      display:flex;\n",
              "      flex-wrap:wrap;\n",
              "      gap: 12px;\n",
              "    }\n",
              "\n",
              "    .colab-df-convert {\n",
              "      background-color: #E8F0FE;\n",
              "      border: none;\n",
              "      border-radius: 50%;\n",
              "      cursor: pointer;\n",
              "      display: none;\n",
              "      fill: #1967D2;\n",
              "      height: 32px;\n",
              "      padding: 0 0 0 0;\n",
              "      width: 32px;\n",
              "    }\n",
              "\n",
              "    .colab-df-convert:hover {\n",
              "      background-color: #E2EBFA;\n",
              "      box-shadow: 0px 1px 2px rgba(60, 64, 67, 0.3), 0px 1px 3px 1px rgba(60, 64, 67, 0.15);\n",
              "      fill: #174EA6;\n",
              "    }\n",
              "\n",
              "    [theme=dark] .colab-df-convert {\n",
              "      background-color: #3B4455;\n",
              "      fill: #D2E3FC;\n",
              "    }\n",
              "\n",
              "    [theme=dark] .colab-df-convert:hover {\n",
              "      background-color: #434B5C;\n",
              "      box-shadow: 0px 1px 3px 1px rgba(0, 0, 0, 0.15);\n",
              "      filter: drop-shadow(0px 1px 2px rgba(0, 0, 0, 0.3));\n",
              "      fill: #FFFFFF;\n",
              "    }\n",
              "  </style>\n",
              "\n",
              "      <script>\n",
              "        const buttonEl =\n",
              "          document.querySelector('#df-4277388a-5e48-4ace-ad71-9ec76a1c5098 button.colab-df-convert');\n",
              "        buttonEl.style.display =\n",
              "          google.colab.kernel.accessAllowed ? 'block' : 'none';\n",
              "\n",
              "        async function convertToInteractive(key) {\n",
              "          const element = document.querySelector('#df-4277388a-5e48-4ace-ad71-9ec76a1c5098');\n",
              "          const dataTable =\n",
              "            await google.colab.kernel.invokeFunction('convertToInteractive',\n",
              "                                                     [key], {});\n",
              "          if (!dataTable) return;\n",
              "\n",
              "          const docLinkHtml = 'Like what you see? Visit the ' +\n",
              "            '<a target=\"_blank\" href=https://colab.research.google.com/notebooks/data_table.ipynb>data table notebook</a>'\n",
              "            + ' to learn more about interactive tables.';\n",
              "          element.innerHTML = '';\n",
              "          dataTable['output_type'] = 'display_data';\n",
              "          await google.colab.output.renderOutput(dataTable, element);\n",
              "          const docLink = document.createElement('div');\n",
              "          docLink.innerHTML = docLinkHtml;\n",
              "          element.appendChild(docLink);\n",
              "        }\n",
              "      </script>\n",
              "    </div>\n",
              "  </div>\n",
              "  "
            ]
          },
          "metadata": {},
          "execution_count": 17
        }
      ]
    },
    {
      "cell_type": "markdown",
      "source": [
        "Izbacio sam neke od značajki pošto ne igraju nikakvu ulogu u daljnjem dijelu projekta pošto ne služe za predikciju šuta.\n",
        "Ti atributi su:\n",
        "\n",
        "GAME_ID => izbačen jer je to samo ID\n",
        "\n",
        "MATCHUP => Nije bitno s kim je igrana utakmica odnosno koja momčad je protivnička\n",
        "\n",
        "W => Nije bitno je li na kraju utakmica pobijeđena ili nije\n",
        "\n",
        "FINAL_MARGIN => Nije bitan ukupan rezultat\n",
        "\n",
        "SHOT_RESULT => Ova značajka je već sadržana u FGM\n",
        "\n",
        "CLOSEST_DEFENDER_PLAYER_ID => ID obrambenog igrača je nebitan\n",
        "\n",
        "PLAYER_ID => ID igrača je nebitan"
      ],
      "metadata": {
        "id": "eO7b9NNla224"
      }
    },
    {
      "cell_type": "markdown",
      "source": [
        "### **Mijenjanje formata značajki Label encoderom**"
      ],
      "metadata": {
        "id": "zl85okndcP9E"
      }
    },
    {
      "cell_type": "code",
      "source": [
        "#Mijenjanje zapisa gdje je utakmica igrana(A,H => 0,1)\n",
        "le = LabelEncoder()\n",
        "\n",
        "le.fit(df_cleaned.loc[:,'LOCATION'])\n",
        "#print(le.classes_)\n",
        "\n",
        "df_cleaned.loc[:,'LOCATION'] = le.transform(df_cleaned.loc[:,'LOCATION'])\n",
        "\n",
        "df_cleaned['LOCATION']"
      ],
      "metadata": {
        "id": "aj7hPAvMio_P",
        "colab": {
          "base_uri": "https://localhost:8080/"
        },
        "outputId": "4ca6b0d0-d7c0-4747-8a02-1c7b1ddc510d"
      },
      "execution_count": 18,
      "outputs": [
        {
          "output_type": "execute_result",
          "data": {
            "text/plain": [
              "0         0\n",
              "1         0\n",
              "3         0\n",
              "4         0\n",
              "5         0\n",
              "         ..\n",
              "128063    0\n",
              "128064    0\n",
              "128065    0\n",
              "128066    0\n",
              "128067    0\n",
              "Name: LOCATION, Length: 122502, dtype: int64"
            ]
          },
          "metadata": {},
          "execution_count": 18
        }
      ]
    },
    {
      "cell_type": "code",
      "source": [
        "df_cleaned.describe()"
      ],
      "metadata": {
        "colab": {
          "base_uri": "https://localhost:8080/",
          "height": 300
        },
        "id": "nfoquIT9d4nG",
        "outputId": "ddcbd43d-3126-4a7d-8bb1-3f175c0a3b39"
      },
      "execution_count": 19,
      "outputs": [
        {
          "output_type": "execute_result",
          "data": {
            "text/plain": [
              "            LOCATION    SHOT_NUMBER         PERIOD     GAME_CLOCK  \\\n",
              "count  122502.000000  122502.000000  122502.000000  122502.000000   \n",
              "mean        0.499478       6.476164       2.471454     361.068529   \n",
              "std         0.500002       4.681245       1.137898     202.024393   \n",
              "min         0.000000       1.000000       1.000000       1.000000   \n",
              "25%         0.000000       3.000000       1.000000     187.000000   \n",
              "50%         0.000000       5.000000       2.000000     362.000000   \n",
              "75%         1.000000       9.000000       3.000000     536.000000   \n",
              "max         1.000000      37.000000       7.000000     720.000000   \n",
              "\n",
              "          SHOT_CLOCK       DRIBBLES     TOUCH_TIME      SHOT_DIST  \\\n",
              "count  122502.000000  122502.000000  122502.000000  122502.000000   \n",
              "mean       12.453344       1.989233       2.759757       4.097657   \n",
              "std         5.763265       3.411188       2.931794       2.675264   \n",
              "min         0.000000       0.000000       0.000000       0.000000   \n",
              "25%         8.200000       0.000000       0.900000       1.432560   \n",
              "50%        12.300000       1.000000       1.600000       4.084320   \n",
              "75%        16.675000       2.000000       3.700000       6.827520   \n",
              "max        24.000000      32.000000      24.900000      13.258800   \n",
              "\n",
              "            PTS_TYPE  CLOSE_DEF_DIST            FGM            PTS  \n",
              "count  122502.000000   122502.000000  122502.000000  122502.000000  \n",
              "mean        2.258363        1.256296       0.456156       1.005469  \n",
              "std         0.437736        0.838684       0.498076       1.131129  \n",
              "min         2.000000        0.000000       0.000000       0.000000  \n",
              "25%         2.000000        0.701040       0.000000       0.000000  \n",
              "50%         2.000000        1.127760       0.000000       0.000000  \n",
              "75%         3.000000        1.615440       1.000000       2.000000  \n",
              "max         3.000000       16.215360       1.000000       3.000000  "
            ],
            "text/html": [
              "\n",
              "  <div id=\"df-25312548-ab1a-4452-be6e-83994ab240e8\">\n",
              "    <div class=\"colab-df-container\">\n",
              "      <div>\n",
              "<style scoped>\n",
              "    .dataframe tbody tr th:only-of-type {\n",
              "        vertical-align: middle;\n",
              "    }\n",
              "\n",
              "    .dataframe tbody tr th {\n",
              "        vertical-align: top;\n",
              "    }\n",
              "\n",
              "    .dataframe thead th {\n",
              "        text-align: right;\n",
              "    }\n",
              "</style>\n",
              "<table border=\"1\" class=\"dataframe\">\n",
              "  <thead>\n",
              "    <tr style=\"text-align: right;\">\n",
              "      <th></th>\n",
              "      <th>LOCATION</th>\n",
              "      <th>SHOT_NUMBER</th>\n",
              "      <th>PERIOD</th>\n",
              "      <th>GAME_CLOCK</th>\n",
              "      <th>SHOT_CLOCK</th>\n",
              "      <th>DRIBBLES</th>\n",
              "      <th>TOUCH_TIME</th>\n",
              "      <th>SHOT_DIST</th>\n",
              "      <th>PTS_TYPE</th>\n",
              "      <th>CLOSE_DEF_DIST</th>\n",
              "      <th>FGM</th>\n",
              "      <th>PTS</th>\n",
              "    </tr>\n",
              "  </thead>\n",
              "  <tbody>\n",
              "    <tr>\n",
              "      <th>count</th>\n",
              "      <td>122502.000000</td>\n",
              "      <td>122502.000000</td>\n",
              "      <td>122502.000000</td>\n",
              "      <td>122502.000000</td>\n",
              "      <td>122502.000000</td>\n",
              "      <td>122502.000000</td>\n",
              "      <td>122502.000000</td>\n",
              "      <td>122502.000000</td>\n",
              "      <td>122502.000000</td>\n",
              "      <td>122502.000000</td>\n",
              "      <td>122502.000000</td>\n",
              "      <td>122502.000000</td>\n",
              "    </tr>\n",
              "    <tr>\n",
              "      <th>mean</th>\n",
              "      <td>0.499478</td>\n",
              "      <td>6.476164</td>\n",
              "      <td>2.471454</td>\n",
              "      <td>361.068529</td>\n",
              "      <td>12.453344</td>\n",
              "      <td>1.989233</td>\n",
              "      <td>2.759757</td>\n",
              "      <td>4.097657</td>\n",
              "      <td>2.258363</td>\n",
              "      <td>1.256296</td>\n",
              "      <td>0.456156</td>\n",
              "      <td>1.005469</td>\n",
              "    </tr>\n",
              "    <tr>\n",
              "      <th>std</th>\n",
              "      <td>0.500002</td>\n",
              "      <td>4.681245</td>\n",
              "      <td>1.137898</td>\n",
              "      <td>202.024393</td>\n",
              "      <td>5.763265</td>\n",
              "      <td>3.411188</td>\n",
              "      <td>2.931794</td>\n",
              "      <td>2.675264</td>\n",
              "      <td>0.437736</td>\n",
              "      <td>0.838684</td>\n",
              "      <td>0.498076</td>\n",
              "      <td>1.131129</td>\n",
              "    </tr>\n",
              "    <tr>\n",
              "      <th>min</th>\n",
              "      <td>0.000000</td>\n",
              "      <td>1.000000</td>\n",
              "      <td>1.000000</td>\n",
              "      <td>1.000000</td>\n",
              "      <td>0.000000</td>\n",
              "      <td>0.000000</td>\n",
              "      <td>0.000000</td>\n",
              "      <td>0.000000</td>\n",
              "      <td>2.000000</td>\n",
              "      <td>0.000000</td>\n",
              "      <td>0.000000</td>\n",
              "      <td>0.000000</td>\n",
              "    </tr>\n",
              "    <tr>\n",
              "      <th>25%</th>\n",
              "      <td>0.000000</td>\n",
              "      <td>3.000000</td>\n",
              "      <td>1.000000</td>\n",
              "      <td>187.000000</td>\n",
              "      <td>8.200000</td>\n",
              "      <td>0.000000</td>\n",
              "      <td>0.900000</td>\n",
              "      <td>1.432560</td>\n",
              "      <td>2.000000</td>\n",
              "      <td>0.701040</td>\n",
              "      <td>0.000000</td>\n",
              "      <td>0.000000</td>\n",
              "    </tr>\n",
              "    <tr>\n",
              "      <th>50%</th>\n",
              "      <td>0.000000</td>\n",
              "      <td>5.000000</td>\n",
              "      <td>2.000000</td>\n",
              "      <td>362.000000</td>\n",
              "      <td>12.300000</td>\n",
              "      <td>1.000000</td>\n",
              "      <td>1.600000</td>\n",
              "      <td>4.084320</td>\n",
              "      <td>2.000000</td>\n",
              "      <td>1.127760</td>\n",
              "      <td>0.000000</td>\n",
              "      <td>0.000000</td>\n",
              "    </tr>\n",
              "    <tr>\n",
              "      <th>75%</th>\n",
              "      <td>1.000000</td>\n",
              "      <td>9.000000</td>\n",
              "      <td>3.000000</td>\n",
              "      <td>536.000000</td>\n",
              "      <td>16.675000</td>\n",
              "      <td>2.000000</td>\n",
              "      <td>3.700000</td>\n",
              "      <td>6.827520</td>\n",
              "      <td>3.000000</td>\n",
              "      <td>1.615440</td>\n",
              "      <td>1.000000</td>\n",
              "      <td>2.000000</td>\n",
              "    </tr>\n",
              "    <tr>\n",
              "      <th>max</th>\n",
              "      <td>1.000000</td>\n",
              "      <td>37.000000</td>\n",
              "      <td>7.000000</td>\n",
              "      <td>720.000000</td>\n",
              "      <td>24.000000</td>\n",
              "      <td>32.000000</td>\n",
              "      <td>24.900000</td>\n",
              "      <td>13.258800</td>\n",
              "      <td>3.000000</td>\n",
              "      <td>16.215360</td>\n",
              "      <td>1.000000</td>\n",
              "      <td>3.000000</td>\n",
              "    </tr>\n",
              "  </tbody>\n",
              "</table>\n",
              "</div>\n",
              "      <button class=\"colab-df-convert\" onclick=\"convertToInteractive('df-25312548-ab1a-4452-be6e-83994ab240e8')\"\n",
              "              title=\"Convert this dataframe to an interactive table.\"\n",
              "              style=\"display:none;\">\n",
              "        \n",
              "  <svg xmlns=\"http://www.w3.org/2000/svg\" height=\"24px\"viewBox=\"0 0 24 24\"\n",
              "       width=\"24px\">\n",
              "    <path d=\"M0 0h24v24H0V0z\" fill=\"none\"/>\n",
              "    <path d=\"M18.56 5.44l.94 2.06.94-2.06 2.06-.94-2.06-.94-.94-2.06-.94 2.06-2.06.94zm-11 1L8.5 8.5l.94-2.06 2.06-.94-2.06-.94L8.5 2.5l-.94 2.06-2.06.94zm10 10l.94 2.06.94-2.06 2.06-.94-2.06-.94-.94-2.06-.94 2.06-2.06.94z\"/><path d=\"M17.41 7.96l-1.37-1.37c-.4-.4-.92-.59-1.43-.59-.52 0-1.04.2-1.43.59L10.3 9.45l-7.72 7.72c-.78.78-.78 2.05 0 2.83L4 21.41c.39.39.9.59 1.41.59.51 0 1.02-.2 1.41-.59l7.78-7.78 2.81-2.81c.8-.78.8-2.07 0-2.86zM5.41 20L4 18.59l7.72-7.72 1.47 1.35L5.41 20z\"/>\n",
              "  </svg>\n",
              "      </button>\n",
              "      \n",
              "  <style>\n",
              "    .colab-df-container {\n",
              "      display:flex;\n",
              "      flex-wrap:wrap;\n",
              "      gap: 12px;\n",
              "    }\n",
              "\n",
              "    .colab-df-convert {\n",
              "      background-color: #E8F0FE;\n",
              "      border: none;\n",
              "      border-radius: 50%;\n",
              "      cursor: pointer;\n",
              "      display: none;\n",
              "      fill: #1967D2;\n",
              "      height: 32px;\n",
              "      padding: 0 0 0 0;\n",
              "      width: 32px;\n",
              "    }\n",
              "\n",
              "    .colab-df-convert:hover {\n",
              "      background-color: #E2EBFA;\n",
              "      box-shadow: 0px 1px 2px rgba(60, 64, 67, 0.3), 0px 1px 3px 1px rgba(60, 64, 67, 0.15);\n",
              "      fill: #174EA6;\n",
              "    }\n",
              "\n",
              "    [theme=dark] .colab-df-convert {\n",
              "      background-color: #3B4455;\n",
              "      fill: #D2E3FC;\n",
              "    }\n",
              "\n",
              "    [theme=dark] .colab-df-convert:hover {\n",
              "      background-color: #434B5C;\n",
              "      box-shadow: 0px 1px 3px 1px rgba(0, 0, 0, 0.15);\n",
              "      filter: drop-shadow(0px 1px 2px rgba(0, 0, 0, 0.3));\n",
              "      fill: #FFFFFF;\n",
              "    }\n",
              "  </style>\n",
              "\n",
              "      <script>\n",
              "        const buttonEl =\n",
              "          document.querySelector('#df-25312548-ab1a-4452-be6e-83994ab240e8 button.colab-df-convert');\n",
              "        buttonEl.style.display =\n",
              "          google.colab.kernel.accessAllowed ? 'block' : 'none';\n",
              "\n",
              "        async function convertToInteractive(key) {\n",
              "          const element = document.querySelector('#df-25312548-ab1a-4452-be6e-83994ab240e8');\n",
              "          const dataTable =\n",
              "            await google.colab.kernel.invokeFunction('convertToInteractive',\n",
              "                                                     [key], {});\n",
              "          if (!dataTable) return;\n",
              "\n",
              "          const docLinkHtml = 'Like what you see? Visit the ' +\n",
              "            '<a target=\"_blank\" href=https://colab.research.google.com/notebooks/data_table.ipynb>data table notebook</a>'\n",
              "            + ' to learn more about interactive tables.';\n",
              "          element.innerHTML = '';\n",
              "          dataTable['output_type'] = 'display_data';\n",
              "          await google.colab.output.renderOutput(dataTable, element);\n",
              "          const docLink = document.createElement('div');\n",
              "          docLink.innerHTML = docLinkHtml;\n",
              "          element.appendChild(docLink);\n",
              "        }\n",
              "      </script>\n",
              "    </div>\n",
              "  </div>\n",
              "  "
            ]
          },
          "metadata": {},
          "execution_count": 19
        }
      ]
    },
    {
      "cell_type": "markdown",
      "source": [
        "# **Vizualizacija podataka**"
      ],
      "metadata": {
        "id": "rXYMBvGWctdL"
      }
    },
    {
      "cell_type": "code",
      "source": [
        "#Broj promašaja i pogodaka\n",
        "df_cleaned['FGM'].value_counts().plot(kind=\"bar\",title=\"Number of misses and hits\")\n",
        "plt.xticks((0,1),('MISS','HIT'),rotation='horizontal')\n",
        "plt.show()\n"
      ],
      "metadata": {
        "id": "iMkg9BSlePnR",
        "colab": {
          "base_uri": "https://localhost:8080/",
          "height": 362
        },
        "outputId": "99a090cc-30f4-4cad-bbff-f18ab75dc768"
      },
      "execution_count": 20,
      "outputs": [
        {
          "output_type": "display_data",
          "data": {
            "text/plain": [
              "<Figure size 576x396 with 1 Axes>"
            ],
            "image/png": "[encoded data removed]"
          },
          "metadata": {}
        }
      ]
    },
    {
      "cell_type": "code",
      "source": [
        "np.round((df_cleaned['FGM'].value_counts() / len(df_cleaned) * 100),2).astype(str) + '%'"
      ],
      "metadata": {
        "colab": {
          "base_uri": "https://localhost:8080/"
        },
        "id": "EkB0drE3dupq",
        "outputId": "31b10c2b-64fb-4085-91b5-63959aabd2a1"
      },
      "execution_count": 21,
      "outputs": [
        {
          "output_type": "execute_result",
          "data": {
            "text/plain": [
              "0    54.38%\n",
              "1    45.62%\n",
              "Name: FGM, dtype: object"
            ]
          },
          "metadata": {},
          "execution_count": 21
        }
      ]
    },
    {
      "cell_type": "code",
      "source": [
        "#Pregledom podataka shvatio sam da postoji anomalija gdje su šutevi dalje od trice, a prikazani su kao 2 poena\n",
        "df_cleaned[df_cleaned['SHOT_DIST'] > 8].sort_values('PTS_TYPE')"
      ],
      "metadata": {
        "colab": {
          "base_uri": "https://localhost:8080/",
          "height": 424
        },
        "id": "atgNeBCsa4yj",
        "outputId": "bfd26c86-3dca-4da0-ebca-3f3ecdc2e403"
      },
      "execution_count": 22,
      "outputs": [
        {
          "output_type": "execute_result",
          "data": {
            "text/plain": [
              "        LOCATION  SHOT_NUMBER  PERIOD  GAME_CLOCK  SHOT_CLOCK  DRIBBLES  \\\n",
              "53117          0            7       3         688        13.3         4   \n",
              "101269         0            1       1         701         6.0         0   \n",
              "40004          0            7       2         647        16.9         8   \n",
              "29537          1           13       4         237        19.5         0   \n",
              "119756         0            4       2         587        24.0         0   \n",
              "...          ...          ...     ...         ...         ...       ...   \n",
              "40870          0            3       3         344         9.5         0   \n",
              "40879          1            7       3         231        17.4         0   \n",
              "40887          1            5       3          73         0.2         1   \n",
              "40851          1            3       2         552        21.0         0   \n",
              "127887         1            2       2         310         9.8         0   \n",
              "\n",
              "        TOUCH_TIME  SHOT_DIST  PTS_TYPE    CLOSEST_DEFENDER  CLOSE_DEF_DIST  \\\n",
              "53117          5.2    8.16864         2     Chalmers, Mario         3.16992   \n",
              "101269         0.1    8.53440         2     Hayward, Gordon         3.32232   \n",
              "40004          6.7    8.86968         2         Exum, Dante         2.04216   \n",
              "29537          0.0    8.71728         2   Henderson, Gerald         3.26136   \n",
              "119756         2.4    8.41248         2  Stoudemire, Amar'e         1.58496   \n",
              "...            ...        ...       ...                 ...             ...   \n",
              "40870          1.0    8.13816         3       Adams, Steven         2.10312   \n",
              "40879          0.9    8.41248         3        Ellis, Monta         2.16408   \n",
              "40887          1.9    8.65632         3          Mayo, O.J.         0.91440   \n",
              "40851          1.0    8.22960         3       Brooks, Aaron         1.61544   \n",
              "127887         1.4    8.10768         3     Chalmers, Mario         1.24968   \n",
              "\n",
              "        FGM  PTS     player_name  \n",
              "53117     0    0   avery bradley  \n",
              "101269    0    0        rudy gay  \n",
              "40004     1    2  dirk nowtizski  \n",
              "29537     1    2    tyreke evans  \n",
              "119756    1    2     chris kaman  \n",
              "...     ...  ...             ...  \n",
              "40870     0    0   evan fournier  \n",
              "40879     1    3   evan fournier  \n",
              "40887     0    0   evan fournier  \n",
              "40851     0    0   evan fournier  \n",
              "127887    0    0    jarrett jack  \n",
              "\n",
              "[2552 rows x 14 columns]"
            ],
            "text/html": [
              "\n",
              "  <div id=\"df-5fcc89e1-41c6-47dd-aa35-fcd3ac41b8ef\">\n",
              "    <div class=\"colab-df-container\">\n",
              "      <div>\n",
              "<style scoped>\n",
              "    .dataframe tbody tr th:only-of-type {\n",
              "        vertical-align: middle;\n",
              "    }\n",
              "\n",
              "    .dataframe tbody tr th {\n",
              "        vertical-align: top;\n",
              "    }\n",
              "\n",
              "    .dataframe thead th {\n",
              "        text-align: right;\n",
              "    }\n",
              "</style>\n",
              "<table border=\"1\" class=\"dataframe\">\n",
              "  <thead>\n",
              "    <tr style=\"text-align: right;\">\n",
              "      <th></th>\n",
              "      <th>LOCATION</th>\n",
              "      <th>SHOT_NUMBER</th>\n",
              "      <th>PERIOD</th>\n",
              "      <th>GAME_CLOCK</th>\n",
              "      <th>SHOT_CLOCK</th>\n",
              "      <th>DRIBBLES</th>\n",
              "      <th>TOUCH_TIME</th>\n",
              "      <th>SHOT_DIST</th>\n",
              "      <th>PTS_TYPE</th>\n",
              "      <th>CLOSEST_DEFENDER</th>\n",
              "      <th>CLOSE_DEF_DIST</th>\n",
              "      <th>FGM</th>\n",
              "      <th>PTS</th>\n",
              "      <th>player_name</th>\n",
              "    </tr>\n",
              "  </thead>\n",
              "  <tbody>\n",
              "    <tr>\n",
              "      <th>53117</th>\n",
              "      <td>0</td>\n",
              "      <td>7</td>\n",
              "      <td>3</td>\n",
              "      <td>688</td>\n",
              "      <td>13.3</td>\n",
              "      <td>4</td>\n",
              "      <td>5.2</td>\n",
              "      <td>8.16864</td>\n",
              "      <td>2</td>\n",
              "      <td>Chalmers, Mario</td>\n",
              "      <td>3.16992</td>\n",
              "      <td>0</td>\n",
              "      <td>0</td>\n",
              "      <td>avery bradley</td>\n",
              "    </tr>\n",
              "    <tr>\n",
              "      <th>101269</th>\n",
              "      <td>0</td>\n",
              "      <td>1</td>\n",
              "      <td>1</td>\n",
              "      <td>701</td>\n",
              "      <td>6.0</td>\n",
              "      <td>0</td>\n",
              "      <td>0.1</td>\n",
              "      <td>8.53440</td>\n",
              "      <td>2</td>\n",
              "      <td>Hayward, Gordon</td>\n",
              "      <td>3.32232</td>\n",
              "      <td>0</td>\n",
              "      <td>0</td>\n",
              "      <td>rudy gay</td>\n",
              "    </tr>\n",
              "    <tr>\n",
              "      <th>40004</th>\n",
              "      <td>0</td>\n",
              "      <td>7</td>\n",
              "      <td>2</td>\n",
              "      <td>647</td>\n",
              "      <td>16.9</td>\n",
              "      <td>8</td>\n",
              "      <td>6.7</td>\n",
              "      <td>8.86968</td>\n",
              "      <td>2</td>\n",
              "      <td>Exum, Dante</td>\n",
              "      <td>2.04216</td>\n",
              "      <td>1</td>\n",
              "      <td>2</td>\n",
              "      <td>dirk nowtizski</td>\n",
              "    </tr>\n",
              "    <tr>\n",
              "      <th>29537</th>\n",
              "      <td>1</td>\n",
              "      <td>13</td>\n",
              "      <td>4</td>\n",
              "      <td>237</td>\n",
              "      <td>19.5</td>\n",
              "      <td>0</td>\n",
              "      <td>0.0</td>\n",
              "      <td>8.71728</td>\n",
              "      <td>2</td>\n",
              "      <td>Henderson, Gerald</td>\n",
              "      <td>3.26136</td>\n",
              "      <td>1</td>\n",
              "      <td>2</td>\n",
              "      <td>tyreke evans</td>\n",
              "    </tr>\n",
              "    <tr>\n",
              "      <th>119756</th>\n",
              "      <td>0</td>\n",
              "      <td>4</td>\n",
              "      <td>2</td>\n",
              "      <td>587</td>\n",
              "      <td>24.0</td>\n",
              "      <td>0</td>\n",
              "      <td>2.4</td>\n",
              "      <td>8.41248</td>\n",
              "      <td>2</td>\n",
              "      <td>Stoudemire, Amar'e</td>\n",
              "      <td>1.58496</td>\n",
              "      <td>1</td>\n",
              "      <td>2</td>\n",
              "      <td>chris kaman</td>\n",
              "    </tr>\n",
              "    <tr>\n",
              "      <th>...</th>\n",
              "      <td>...</td>\n",
              "      <td>...</td>\n",
              "      <td>...</td>\n",
              "      <td>...</td>\n",
              "      <td>...</td>\n",
              "      <td>...</td>\n",
              "      <td>...</td>\n",
              "      <td>...</td>\n",
              "      <td>...</td>\n",
              "      <td>...</td>\n",
              "      <td>...</td>\n",
              "      <td>...</td>\n",
              "      <td>...</td>\n",
              "      <td>...</td>\n",
              "    </tr>\n",
              "    <tr>\n",
              "      <th>40870</th>\n",
              "      <td>0</td>\n",
              "      <td>3</td>\n",
              "      <td>3</td>\n",
              "      <td>344</td>\n",
              "      <td>9.5</td>\n",
              "      <td>0</td>\n",
              "      <td>1.0</td>\n",
              "      <td>8.13816</td>\n",
              "      <td>3</td>\n",
              "      <td>Adams, Steven</td>\n",
              "      <td>2.10312</td>\n",
              "      <td>0</td>\n",
              "      <td>0</td>\n",
              "      <td>evan fournier</td>\n",
              "    </tr>\n",
              "    <tr>\n",
              "      <th>40879</th>\n",
              "      <td>1</td>\n",
              "      <td>7</td>\n",
              "      <td>3</td>\n",
              "      <td>231</td>\n",
              "      <td>17.4</td>\n",
              "      <td>0</td>\n",
              "      <td>0.9</td>\n",
              "      <td>8.41248</td>\n",
              "      <td>3</td>\n",
              "      <td>Ellis, Monta</td>\n",
              "      <td>2.16408</td>\n",
              "      <td>1</td>\n",
              "      <td>3</td>\n",
              "      <td>evan fournier</td>\n",
              "    </tr>\n",
              "    <tr>\n",
              "      <th>40887</th>\n",
              "      <td>1</td>\n",
              "      <td>5</td>\n",
              "      <td>3</td>\n",
              "      <td>73</td>\n",
              "      <td>0.2</td>\n",
              "      <td>1</td>\n",
              "      <td>1.9</td>\n",
              "      <td>8.65632</td>\n",
              "      <td>3</td>\n",
              "      <td>Mayo, O.J.</td>\n",
              "      <td>0.91440</td>\n",
              "      <td>0</td>\n",
              "      <td>0</td>\n",
              "      <td>evan fournier</td>\n",
              "    </tr>\n",
              "    <tr>\n",
              "      <th>40851</th>\n",
              "      <td>1</td>\n",
              "      <td>3</td>\n",
              "      <td>2</td>\n",
              "      <td>552</td>\n",
              "      <td>21.0</td>\n",
              "      <td>0</td>\n",
              "      <td>1.0</td>\n",
              "      <td>8.22960</td>\n",
              "      <td>3</td>\n",
              "      <td>Brooks, Aaron</td>\n",
              "      <td>1.61544</td>\n",
              "      <td>0</td>\n",
              "      <td>0</td>\n",
              "      <td>evan fournier</td>\n",
              "    </tr>\n",
              "    <tr>\n",
              "      <th>127887</th>\n",
              "      <td>1</td>\n",
              "      <td>2</td>\n",
              "      <td>2</td>\n",
              "      <td>310</td>\n",
              "      <td>9.8</td>\n",
              "      <td>0</td>\n",
              "      <td>1.4</td>\n",
              "      <td>8.10768</td>\n",
              "      <td>3</td>\n",
              "      <td>Chalmers, Mario</td>\n",
              "      <td>1.24968</td>\n",
              "      <td>0</td>\n",
              "      <td>0</td>\n",
              "      <td>jarrett jack</td>\n",
              "    </tr>\n",
              "  </tbody>\n",
              "</table>\n",
              "<p>2552 rows × 14 columns</p>\n",
              "</div>\n",
              "      <button class=\"colab-df-convert\" onclick=\"convertToInteractive('df-5fcc89e1-41c6-47dd-aa35-fcd3ac41b8ef')\"\n",
              "              title=\"Convert this dataframe to an interactive table.\"\n",
              "              style=\"display:none;\">\n",
              "        \n",
              "  <svg xmlns=\"http://www.w3.org/2000/svg\" height=\"24px\"viewBox=\"0 0 24 24\"\n",
              "       width=\"24px\">\n",
              "    <path d=\"M0 0h24v24H0V0z\" fill=\"none\"/>\n",
              "    <path d=\"M18.56 5.44l.94 2.06.94-2.06 2.06-.94-2.06-.94-.94-2.06-.94 2.06-2.06.94zm-11 1L8.5 8.5l.94-2.06 2.06-.94-2.06-.94L8.5 2.5l-.94 2.06-2.06.94zm10 10l.94 2.06.94-2.06 2.06-.94-2.06-.94-.94-2.06-.94 2.06-2.06.94z\"/><path d=\"M17.41 7.96l-1.37-1.37c-.4-.4-.92-.59-1.43-.59-.52 0-1.04.2-1.43.59L10.3 9.45l-7.72 7.72c-.78.78-.78 2.05 0 2.83L4 21.41c.39.39.9.59 1.41.59.51 0 1.02-.2 1.41-.59l7.78-7.78 2.81-2.81c.8-.78.8-2.07 0-2.86zM5.41 20L4 18.59l7.72-7.72 1.47 1.35L5.41 20z\"/>\n",
              "  </svg>\n",
              "      </button>\n",
              "      \n",
              "  <style>\n",
              "    .colab-df-container {\n",
              "      display:flex;\n",
              "      flex-wrap:wrap;\n",
              "      gap: 12px;\n",
              "    }\n",
              "\n",
              "    .colab-df-convert {\n",
              "      background-color: #E8F0FE;\n",
              "      border: none;\n",
              "      border-radius: 50%;\n",
              "      cursor: pointer;\n",
              "      display: none;\n",
              "      fill: #1967D2;\n",
              "      height: 32px;\n",
              "      padding: 0 0 0 0;\n",
              "      width: 32px;\n",
              "    }\n",
              "\n",
              "    .colab-df-convert:hover {\n",
              "      background-color: #E2EBFA;\n",
              "      box-shadow: 0px 1px 2px rgba(60, 64, 67, 0.3), 0px 1px 3px 1px rgba(60, 64, 67, 0.15);\n",
              "      fill: #174EA6;\n",
              "    }\n",
              "\n",
              "    [theme=dark] .colab-df-convert {\n",
              "      background-color: #3B4455;\n",
              "      fill: #D2E3FC;\n",
              "    }\n",
              "\n",
              "    [theme=dark] .colab-df-convert:hover {\n",
              "      background-color: #434B5C;\n",
              "      box-shadow: 0px 1px 3px 1px rgba(0, 0, 0, 0.15);\n",
              "      filter: drop-shadow(0px 1px 2px rgba(0, 0, 0, 0.3));\n",
              "      fill: #FFFFFF;\n",
              "    }\n",
              "  </style>\n",
              "\n",
              "      <script>\n",
              "        const buttonEl =\n",
              "          document.querySelector('#df-5fcc89e1-41c6-47dd-aa35-fcd3ac41b8ef button.colab-df-convert');\n",
              "        buttonEl.style.display =\n",
              "          google.colab.kernel.accessAllowed ? 'block' : 'none';\n",
              "\n",
              "        async function convertToInteractive(key) {\n",
              "          const element = document.querySelector('#df-5fcc89e1-41c6-47dd-aa35-fcd3ac41b8ef');\n",
              "          const dataTable =\n",
              "            await google.colab.kernel.invokeFunction('convertToInteractive',\n",
              "                                                     [key], {});\n",
              "          if (!dataTable) return;\n",
              "\n",
              "          const docLinkHtml = 'Like what you see? Visit the ' +\n",
              "            '<a target=\"_blank\" href=https://colab.research.google.com/notebooks/data_table.ipynb>data table notebook</a>'\n",
              "            + ' to learn more about interactive tables.';\n",
              "          element.innerHTML = '';\n",
              "          dataTable['output_type'] = 'display_data';\n",
              "          await google.colab.output.renderOutput(dataTable, element);\n",
              "          const docLink = document.createElement('div');\n",
              "          docLink.innerHTML = docLinkHtml;\n",
              "          element.appendChild(docLink);\n",
              "        }\n",
              "      </script>\n",
              "    </div>\n",
              "  </div>\n",
              "  "
            ]
          },
          "metadata": {},
          "execution_count": 22
        }
      ]
    },
    {
      "cell_type": "code",
      "source": [
        "df_cleaned[df_cleaned['SHOT_DIST'] > 8 ]['PTS_TYPE'].value_counts().plot(kind=\"bar\",title='Shots over 8 meters')\n",
        "plt.show()\n"
      ],
      "metadata": {
        "colab": {
          "base_uri": "https://localhost:8080/",
          "height": 358
        },
        "id": "icGfoUoUZWoZ",
        "outputId": "7d60d176-6b4d-4e4e-bed8-2a50b598c158"
      },
      "execution_count": 23,
      "outputs": [
        {
          "output_type": "display_data",
          "data": {
            "text/plain": [
              "<Figure size 576x396 with 1 Axes>"
            ],
            "image/png": "[encoded data removed]"
          },
          "metadata": {}
        }
      ]
    },
    {
      "cell_type": "markdown",
      "source": [
        "Možemo vidjeti da ovdje nešto ne valja. Šutevi koji su preko 8 metara sigurno moraju biti za 3 poena, ali vidimo da ih ima i koji su za 2 poena."
      ],
      "metadata": {
        "id": "O2ihmmRuaNxf"
      }
    },
    {
      "cell_type": "code",
      "source": [
        "df.plot('SHOT_DIST'[:50],'PTS_TYPE'[:50],style='o')\n",
        "plt.show()\n"
      ],
      "metadata": {
        "colab": {
          "base_uri": "https://localhost:8080/",
          "height": 361
        },
        "id": "YiODzKTcaOyR",
        "outputId": "4898fd59-16be-465e-8eb6-a3b3c0e0f85a"
      },
      "execution_count": 24,
      "outputs": [
        {
          "output_type": "display_data",
          "data": {
            "text/plain": [
              "<Figure size 576x396 with 1 Axes>"
            ],
            "image/png": "[encoded data removed]"
          },
          "metadata": {}
        }
      ]
    },
    {
      "cell_type": "code",
      "source": [
        "df_cleaned[df_cleaned['SHOT_DIST'] < 6.5 ]['PTS_TYPE'].value_counts().plot(kind=\"bar\",title='Shots under 6.5 meters')\n",
        "plt.yscale('log')\n"
      ],
      "metadata": {
        "colab": {
          "base_uri": "https://localhost:8080/",
          "height": 358
        },
        "id": "vjxn-uczbGyi",
        "outputId": "91ca6081-938c-461b-bf3c-17feeff43583"
      },
      "execution_count": 25,
      "outputs": [
        {
          "output_type": "display_data",
          "data": {
            "text/plain": [
              "<Figure size 576x396 with 1 Axes>"
            ],
            "image/png": "[encoded data removed]"
          },
          "metadata": {}
        }
      ]
    },
    {
      "cell_type": "markdown",
      "source": [
        "Vidimo da postoje anomalije u podacima. Kasnije ćemo odlučiti što ćemo napraviti s tim."
      ],
      "metadata": {
        "id": "bjQer0nCcIrt"
      }
    },
    {
      "cell_type": "code",
      "source": [
        "fig, (ax1, ax2, ax3,ax4) = plt.subplots(1,4,figsize=(30, 5))\n",
        "\n",
        "ax1 = df_cleaned['LOCATION'].value_counts().plot(kind=\"bar\",title='Distribution of home and away games',ax=ax1)\n",
        "ax1.set_xticks((0,1))\n",
        "ax1.set_xticklabels(('Away','Home'),rotation='horizontal')\n",
        "\n",
        "\n",
        "ax2 = df_cleaned['PERIOD'].value_counts().plot(kind=\"bar\",title='Distribution of shots per period',ax=ax2)\n",
        "ax2.set_xticklabels(([i for i in range(1,8)]),rotation='horizontal')\n",
        "\n",
        "ax3 = df_cleaned['GAME_CLOCK'].plot(kind=\"hist\",bins=50,histtype='step',title=\"Game clock histogram\",ax=ax3)\n",
        "\n",
        "ax4= df_cleaned['SHOT_CLOCK'].plot(kind=\"hist\",bins=30,histtype='step',title=\"Shot clock histogram\",ax=ax4)\n",
        "\n",
        "\n",
        "\n",
        "\n",
        "plt.show()"
      ],
      "metadata": {
        "colab": {
          "base_uri": "https://localhost:8080/",
          "height": 293
        },
        "id": "EpPa0IroghgN",
        "outputId": "f2a4549f-af56-4edc-a7ac-8af3688be165"
      },
      "execution_count": 26,
      "outputs": [
        {
          "output_type": "display_data",
          "data": {
            "text/plain": [
              "<Figure size 2160x360 with 4 Axes>"
            ],
            "image/png": "[encoded data removed]"
          },
          "metadata": {}
        }
      ]
    },
    {
      "cell_type": "code",
      "source": [
        "fig, axs = plt.subplots(2,2,figsize=(15, 8))\n",
        "\n",
        "ax1 = df_cleaned['SHOT_DIST'].plot.hist(bins=30,ax=axs[0,0])\n",
        "ax1.set_title(\"Shooting distance [m]\")\n",
        "\n",
        "ax2 = df_cleaned['CLOSE_DEF_DIST'].plot.hist(bins=30,ax=axs[0,1])\n",
        "ax2.set_title(\"Closest defender distance [m]\")\n",
        "\n",
        "ax3 = df_cleaned['DRIBBLES'].plot.hist(bins=30,ax=axs[1,0])\n",
        "ax3.set_title(\"Number of dribbles\")\n",
        "\n",
        "ax4 = df_cleaned['TOUCH_TIME'].plot.hist(bins=30,ax=axs[1,1])\n",
        "ax4.set_title(\"Ball in hand [s]\")\n",
        "\n",
        "plt.show()"
      ],
      "metadata": {
        "colab": {
          "base_uri": "https://localhost:8080/",
          "height": 498
        },
        "id": "AEw3ExEPw5Nl",
        "outputId": "7b7b8c82-dcb9-4024-f9b1-849cefb23f74"
      },
      "execution_count": 27,
      "outputs": [
        {
          "output_type": "display_data",
          "data": {
            "text/plain": [
              "<Figure size 1080x576 with 4 Axes>"
            ],
            "image/png": "[encoded data removed]"
          },
          "metadata": {}
        }
      ]
    },
    {
      "cell_type": "code",
      "source": [
        "fig, axs = plt.subplots(1,2,figsize=(15, 8))\n",
        "\n",
        "\n",
        "ax1 = df_cleaned['PTS_TYPE'].value_counts().plot(kind=\"bar\",title=\"Number of 2 and 3 pointers\",ax=axs[0])\n",
        "ax1.set_xticklabels((2,3),rotation='horizontal')\n",
        "\n",
        "ax2 = df_cleaned['SHOT_NUMBER'].plot.hist(bins=20,ax=axs[1])\n",
        "ax2.set_title(\"Shot number\")\n",
        "\n",
        "plt.show()"
      ],
      "metadata": {
        "colab": {
          "base_uri": "https://localhost:8080/",
          "height": 498
        },
        "id": "hV8dvT84v2ob",
        "outputId": "6479a72e-818c-4603-e630-569f186535b9"
      },
      "execution_count": 28,
      "outputs": [
        {
          "output_type": "display_data",
          "data": {
            "text/plain": [
              "<Figure size 1080x576 with 2 Axes>"
            ],
            "image/png": "[encoded data removed]"
          },
          "metadata": {}
        }
      ]
    },
    {
      "cell_type": "code",
      "source": [
        "#Broj šuteva za 2 u odnosu na broj šuteva za 3\n",
        "np.round((df_cleaned['PTS_TYPE'].value_counts() / len(df_cleaned) * 100),2).astype(str) + '%'"
      ],
      "metadata": {
        "colab": {
          "base_uri": "https://localhost:8080/"
        },
        "id": "qcyL-KXQwj3w",
        "outputId": "449280cb-f100-4918-c158-f06da08f2511"
      },
      "execution_count": 32,
      "outputs": [
        {
          "output_type": "execute_result",
          "data": {
            "text/plain": [
              "2    74.16%\n",
              "3    25.84%\n",
              "Name: PTS_TYPE, dtype: object"
            ]
          },
          "metadata": {},
          "execution_count": 32
        }
      ]
    },
    {
      "cell_type": "markdown",
      "source": [
        "Pogledajmo udaljenost protivnika s obzirom na vrstu šuta"
      ],
      "metadata": {
        "id": "kucyN0Ev9FgS"
      }
    },
    {
      "cell_type": "code",
      "source": [
        "plt.figure(figsize = [12, 6]);\n",
        "bins = np.arange(0.0, 6.0, 0.2)\n",
        "plt.hist(df_cleaned[df_cleaned['PTS_TYPE'] == 2]['CLOSE_DEF_DIST'],bins=bins,alpha=0.5,label=\"Two pointers\",color=\"blue\")\n",
        "plt.hist(df_cleaned[df_cleaned['PTS_TYPE'] == 3]['CLOSE_DEF_DIST'],bins=bins,alpha=0.4,label=\"Three pointers\",color=\"red\")\n",
        "plt.xlim(0,5.5)\n",
        "plt.xlabel(\"Distance [m]\")\n",
        "plt.legend()\n",
        "plt.show()"
      ],
      "metadata": {
        "colab": {
          "base_uri": "https://localhost:8080/",
          "height": 397
        },
        "id": "0ynW70Ps9XnC",
        "outputId": "1004c601-bcee-4eb1-f27a-c55d463891ac"
      },
      "execution_count": 139,
      "outputs": [
        {
          "output_type": "display_data",
          "data": {
            "text/plain": [
              "<Figure size 864x432 with 1 Axes>"
            ],
            "image/png": "[encoded data removed]"
          },
          "metadata": {}
        }
      ]
    },
    {
      "cell_type": "markdown",
      "source": [
        "## Odnos postotka pogotka s ostalim relevantnim značajkama"
      ],
      "metadata": {
        "id": "BJI49Tq722hY"
      }
    },
    {
      "cell_type": "code",
      "source": [
        "fig, axs = plt.subplots(1,4,figsize=(25, 8))\n",
        "score_clock = df_cleaned.groupby('SHOT_CLOCK').mean()\n",
        "axs[0].scatter(score_clock['FGM'].index,score_clock['FGM'].values)\n",
        "axs[0].invert_xaxis()\n",
        "axs[0].set_title(\"Hit percentage in relation to shot clock\")\n",
        "axs[0].set_xlabel(\"Shot clock [s]\")\n",
        "axs[0].set_ylabel(\"Hit percentage\")\n",
        "\n",
        "score_dribble = df_cleaned.groupby('DRIBBLES').mean()\n",
        "axs[1].scatter(score_dribble['FGM'].index,score_dribble['FGM'].values)\n",
        "axs[1].set_title(\"Hit percentage in relation to dribbles\")\n",
        "axs[1].set_xlabel(\"Dribbles\")\n",
        "axs[1].set_ylabel(\"Hit percentage\")\n",
        "\n",
        "score_distance = df_cleaned.groupby('SHOT_DIST').mean()\n",
        "axs[2].scatter(score_distance['FGM'].index,score_distance['FGM'].values)\n",
        "axs[2].set_title(\"Hit percentage in relation to distance\")\n",
        "axs[2].set_xlabel(\"Distance\")\n",
        "axs[2].set_ylabel(\"Hit percentage\")\n",
        "\n",
        "\n",
        "score_def_distance = df_cleaned.groupby('CLOSE_DEF_DIST').mean()\n",
        "axs[3].scatter(score_def_distance['FGM'].index,score_def_distance['FGM'].values)\n",
        "axs[3].set_title(\"Hit percentage in relation to defender distance\")\n",
        "axs[3].set_xlabel(\"Defender distance\")\n",
        "axs[3].set_ylabel(\"Hit percentage\")\n",
        "\n",
        "\n",
        "plt.show()"
      ],
      "metadata": {
        "colab": {
          "base_uri": "https://localhost:8080/",
          "height": 522
        },
        "id": "p4JrpdfXu0Sk",
        "outputId": "a7ccacdc-d626-4eb6-bc35-741edb695a95"
      },
      "execution_count": 141,
      "outputs": [
        {
          "output_type": "display_data",
          "data": {
            "text/plain": [
              "<Figure size 1800x576 with 4 Axes>"
            ],
            "image/png": "[encoded data removed]"
          },
          "metadata": {}
        }
      ]
    },
    {
      "cell_type": "markdown",
      "source": [
        "# Pogledajmo odnos vrijednosti nekih značajki u usporedbi je li koš zabijen ili promašen."
      ],
      "metadata": {
        "id": "SycZ1Pww6R_N"
      }
    },
    {
      "cell_type": "code",
      "source": [
        "fig, axs = plt.subplots(1,4,figsize=(20, 8))\n",
        "\n",
        "my_pal = {1: \"g\", 0: \"r\"}\n",
        "\n",
        "\n",
        "ax1 = sns.boxplot(x=df_cleaned['FGM'],y=df_cleaned['SHOT_DIST'],ax=axs[0],palette=my_pal)\n",
        "ax1.title.set_text('Hit or miss in relation to shooting distance')\n",
        "\n",
        "ax2 = sns.boxplot(x=df_cleaned['FGM'],y=df_cleaned['CLOSE_DEF_DIST'],ax=axs[1],palette=my_pal)\n",
        "ax2.title.set_text('Hit or miss in relation to defender distance')\n",
        "\n",
        "ax3 = sns.boxplot(x=df_cleaned['FGM'],y=df_cleaned['TOUCH_TIME'],ax=axs[2],palette=my_pal)\n",
        "ax3.title.set_text('Hit or miss in relation to ball time in hands')\n",
        "\n",
        "ax4 = sns.boxplot(x=df_cleaned['FGM'],y=df_cleaned['DRIBBLES'],ax=axs[3],palette=my_pal)\n",
        "ax4.title.set_text('Hit or miss in relation to number of dribbles')\n",
        "\n",
        "plt.show()"
      ],
      "metadata": {
        "colab": {
          "base_uri": "https://localhost:8080/",
          "height": 512
        },
        "id": "-O6htR7i6y9x",
        "outputId": "6e87ca75-1381-4428-b5ed-0c6621515dfa"
      },
      "execution_count": 30,
      "outputs": [
        {
          "output_type": "display_data",
          "data": {
            "text/plain": [
              "<Figure size 1440x576 with 4 Axes>"
            ],
            "image/png": "[encoded data removed]"
          },
          "metadata": {}
        }
      ]
    },
    {
      "cell_type": "markdown",
      "source": [
        "### Analiza korelacije značajki"
      ],
      "metadata": {
        "id": "J3ar1OdTI2-h"
      }
    },
    {
      "cell_type": "code",
      "source": [
        "sns.set(rc={'figure.figsize':(25,10)})\n",
        "sns.heatmap(df_cleaned.corr(), annot=True, fmt=\".2f\", cmap=\"YlGnBu\", linewidths=.5)\n",
        "plt.show()"
      ],
      "metadata": {
        "colab": {
          "base_uri": "https://localhost:8080/",
          "height": 602
        },
        "id": "ZrWBips3I8Qz",
        "outputId": "f8e5f1a8-c887-4a80-fc09-ffb0bd332da4"
      },
      "execution_count": 31,
      "outputs": [
        {
          "output_type": "display_data",
          "data": {
            "text/plain": [
              "<Figure size 1800x720 with 2 Axes>"
            ],
            "image/png": "[encoded data removed]"
          },
          "metadata": {}
        }
      ]
    }
  ]
}