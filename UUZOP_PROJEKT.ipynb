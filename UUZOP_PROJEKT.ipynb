{
  "nbformat": 4,
  "nbformat_minor": 0,
  "metadata": {
    "colab": {
      "provenance": [],
      "collapsed_sections": []
    },
    "kernelspec": {
      "name": "python3",
      "display_name": "Python 3"
    },
    "language_info": {
      "name": "python"
    }
  },
  "cells": [
    {
      "cell_type": "markdown",
      "source": [
        "### **Početno učitavanje podataka**"
      ],
      "metadata": {
        "id": "ZZbFbROzZTWB"
      }
    },
    {
      "cell_type": "code",
      "source": [
        "import pandas as pd\n",
        "import matplotlib.pyplot as plt\n",
        "from sklearn.preprocessing import OneHotEncoder, LabelEncoder\n",
        "import seaborn as sns\n",
        "import numpy as np\n",
        "\n",
        "\n",
        "url = 'https://raw.githubusercontent.com/abanic7/PredictingNBAShots/main/shot_logs.csv?token=GHSAT0AAAAAABZ76MCNO7ZZ2PMMQK3JYFCEY3A6V2A'\n",
        "df_original = pd.read_csv(url)\n",
        "df = df_original.copy()\n",
        "print(plt.style.available)\n",
        "plt.style.use('seaborn')"
      ],
      "metadata": {
        "id": "LdEBeZTdQe8n",
        "colab": {
          "base_uri": "https://localhost:8080/"
        },
        "outputId": "976e682b-06de-48a6-dcf6-be430aa13ebf"
      },
      "execution_count": 359,
      "outputs": [
        {
          "output_type": "stream",
          "name": "stdout",
          "text": [
            "['Solarize_Light2', '_classic_test_patch', 'bmh', 'classic', 'dark_background', 'fast', 'fivethirtyeight', 'ggplot', 'grayscale', 'seaborn', 'seaborn-bright', 'seaborn-colorblind', 'seaborn-dark', 'seaborn-dark-palette', 'seaborn-darkgrid', 'seaborn-deep', 'seaborn-muted', 'seaborn-notebook', 'seaborn-paper', 'seaborn-pastel', 'seaborn-poster', 'seaborn-talk', 'seaborn-ticks', 'seaborn-white', 'seaborn-whitegrid', 'tableau-colorblind10']\n"
          ]
        }
      ]
    },
    {
      "cell_type": "markdown",
      "source": [
        "### **Pregled podataka**"
      ],
      "metadata": {
        "id": "iAsxCngzD0tb"
      }
    },
    {
      "cell_type": "code",
      "source": [
        "df.head()\n",
        "pd.set_option('display.max_columns',100)"
      ],
      "metadata": {
        "id": "bH0I4nwiQdQy"
      },
      "execution_count": 360,
      "outputs": []
    },
    {
      "cell_type": "code",
      "source": [
        "df.describe(include='all')"
      ],
      "metadata": {
        "id": "6lmMVPlPGYWF",
        "colab": {
          "base_uri": "https://localhost:8080/",
          "height": 510
        },
        "outputId": "b7fbdff6-7d01-4bc5-ec00-25b55a52f32e"
      },
      "execution_count": 361,
      "outputs": [
        {
          "output_type": "execute_result",
          "data": {
            "text/plain": [
              "             GAME_ID                     MATCHUP LOCATION       W  \\\n",
              "count   1.280690e+05                      128069   128069  128069   \n",
              "unique           NaN                        1808        2       2   \n",
              "top              NaN  FEB 07, 2015 - DAL vs. POR        A       W   \n",
              "freq             NaN                         105    64135   64595   \n",
              "mean    2.140045e+07                         NaN      NaN     NaN   \n",
              "std     2.578773e+02                         NaN      NaN     NaN   \n",
              "min     2.140000e+07                         NaN      NaN     NaN   \n",
              "25%     2.140023e+07                         NaN      NaN     NaN   \n",
              "50%     2.140045e+07                         NaN      NaN     NaN   \n",
              "75%     2.140067e+07                         NaN      NaN     NaN   \n",
              "max     2.140091e+07                         NaN      NaN     NaN   \n",
              "\n",
              "         FINAL_MARGIN    SHOT_NUMBER         PERIOD GAME_CLOCK     SHOT_CLOCK  \\\n",
              "count   128069.000000  128069.000000  128069.000000     128069  122502.000000   \n",
              "unique            NaN            NaN            NaN        719            NaN   \n",
              "top               NaN            NaN            NaN       0:01            NaN   \n",
              "freq              NaN            NaN            NaN        859            NaN   \n",
              "mean         0.208723       6.506899       2.469427        NaN      12.453344   \n",
              "std         13.233267       4.713260       1.139919        NaN       5.763265   \n",
              "min        -53.000000       1.000000       1.000000        NaN       0.000000   \n",
              "25%         -8.000000       3.000000       1.000000        NaN       8.200000   \n",
              "50%          1.000000       5.000000       2.000000        NaN      12.300000   \n",
              "75%          9.000000       9.000000       3.000000        NaN      16.675000   \n",
              "max         53.000000      38.000000       7.000000        NaN      24.000000   \n",
              "\n",
              "             DRIBBLES     TOUCH_TIME      SHOT_DIST       PTS_TYPE  \\\n",
              "count   128069.000000  128069.000000  128069.000000  128069.000000   \n",
              "unique            NaN            NaN            NaN            NaN   \n",
              "top               NaN            NaN            NaN            NaN   \n",
              "freq              NaN            NaN            NaN            NaN   \n",
              "mean         2.023355       2.765901      13.571504       2.264670   \n",
              "std          3.477760       3.043682       8.888964       0.441159   \n",
              "min          0.000000    -163.600000       0.000000       2.000000   \n",
              "25%          0.000000       0.900000       4.700000       2.000000   \n",
              "50%          1.000000       1.600000      13.700000       2.000000   \n",
              "75%          2.000000       3.700000      22.500000       3.000000   \n",
              "max         32.000000      24.900000      47.200000       3.000000   \n",
              "\n",
              "       SHOT_RESULT CLOSEST_DEFENDER  CLOSEST_DEFENDER_PLAYER_ID  \\\n",
              "count       128069           128069               128069.000000   \n",
              "unique           2              473                         NaN   \n",
              "top         missed     Ibaka, Serge                         NaN   \n",
              "freq         70164              814                         NaN   \n",
              "mean           NaN              NaN               159038.487284   \n",
              "std            NaN              NaN                78791.172947   \n",
              "min            NaN              NaN                  708.000000   \n",
              "25%            NaN              NaN               101249.000000   \n",
              "50%            NaN              NaN               201949.000000   \n",
              "75%            NaN              NaN               203079.000000   \n",
              "max            NaN              NaN               530027.000000   \n",
              "\n",
              "        CLOSE_DEF_DIST            FGM            PTS   player_name  \\\n",
              "count    128069.000000  128069.000000  128069.000000        128069   \n",
              "unique             NaN            NaN            NaN           281   \n",
              "top                NaN            NaN            NaN  james harden   \n",
              "freq               NaN            NaN            NaN          1054   \n",
              "mean          4.123015       0.452139       0.997314           NaN   \n",
              "std           2.756446       0.497706       1.130978           NaN   \n",
              "min           0.000000       0.000000       0.000000           NaN   \n",
              "25%           2.300000       0.000000       0.000000           NaN   \n",
              "50%           3.700000       0.000000       0.000000           NaN   \n",
              "75%           5.300000       1.000000       2.000000           NaN   \n",
              "max          53.200000       1.000000       3.000000           NaN   \n",
              "\n",
              "            player_id  \n",
              "count   128069.000000  \n",
              "unique            NaN  \n",
              "top               NaN  \n",
              "freq              NaN  \n",
              "mean    157238.251247  \n",
              "std      79362.389336  \n",
              "min        708.000000  \n",
              "25%     101162.000000  \n",
              "50%     201939.000000  \n",
              "75%     202704.000000  \n",
              "max     204060.000000  "
            ],
            "text/html": [
              "\n",
              "  <div id=\"df-58391e33-f52d-4d89-a995-942193c52d0a\">\n",
              "    <div class=\"colab-df-container\">\n",
              "      <div>\n",
              "<style scoped>\n",
              "    .dataframe tbody tr th:only-of-type {\n",
              "        vertical-align: middle;\n",
              "    }\n",
              "\n",
              "    .dataframe tbody tr th {\n",
              "        vertical-align: top;\n",
              "    }\n",
              "\n",
              "    .dataframe thead th {\n",
              "        text-align: right;\n",
              "    }\n",
              "</style>\n",
              "<table border=\"1\" class=\"dataframe\">\n",
              "  <thead>\n",
              "    <tr style=\"text-align: right;\">\n",
              "      <th></th>\n",
              "      <th>GAME_ID</th>\n",
              "      <th>MATCHUP</th>\n",
              "      <th>LOCATION</th>\n",
              "      <th>W</th>\n",
              "      <th>FINAL_MARGIN</th>\n",
              "      <th>SHOT_NUMBER</th>\n",
              "      <th>PERIOD</th>\n",
              "      <th>GAME_CLOCK</th>\n",
              "      <th>SHOT_CLOCK</th>\n",
              "      <th>DRIBBLES</th>\n",
              "      <th>TOUCH_TIME</th>\n",
              "      <th>SHOT_DIST</th>\n",
              "      <th>PTS_TYPE</th>\n",
              "      <th>SHOT_RESULT</th>\n",
              "      <th>CLOSEST_DEFENDER</th>\n",
              "      <th>CLOSEST_DEFENDER_PLAYER_ID</th>\n",
              "      <th>CLOSE_DEF_DIST</th>\n",
              "      <th>FGM</th>\n",
              "      <th>PTS</th>\n",
              "      <th>player_name</th>\n",
              "      <th>player_id</th>\n",
              "    </tr>\n",
              "  </thead>\n",
              "  <tbody>\n",
              "    <tr>\n",
              "      <th>count</th>\n",
              "      <td>1.280690e+05</td>\n",
              "      <td>128069</td>\n",
              "      <td>128069</td>\n",
              "      <td>128069</td>\n",
              "      <td>128069.000000</td>\n",
              "      <td>128069.000000</td>\n",
              "      <td>128069.000000</td>\n",
              "      <td>128069</td>\n",
              "      <td>122502.000000</td>\n",
              "      <td>128069.000000</td>\n",
              "      <td>128069.000000</td>\n",
              "      <td>128069.000000</td>\n",
              "      <td>128069.000000</td>\n",
              "      <td>128069</td>\n",
              "      <td>128069</td>\n",
              "      <td>128069.000000</td>\n",
              "      <td>128069.000000</td>\n",
              "      <td>128069.000000</td>\n",
              "      <td>128069.000000</td>\n",
              "      <td>128069</td>\n",
              "      <td>128069.000000</td>\n",
              "    </tr>\n",
              "    <tr>\n",
              "      <th>unique</th>\n",
              "      <td>NaN</td>\n",
              "      <td>1808</td>\n",
              "      <td>2</td>\n",
              "      <td>2</td>\n",
              "      <td>NaN</td>\n",
              "      <td>NaN</td>\n",
              "      <td>NaN</td>\n",
              "      <td>719</td>\n",
              "      <td>NaN</td>\n",
              "      <td>NaN</td>\n",
              "      <td>NaN</td>\n",
              "      <td>NaN</td>\n",
              "      <td>NaN</td>\n",
              "      <td>2</td>\n",
              "      <td>473</td>\n",
              "      <td>NaN</td>\n",
              "      <td>NaN</td>\n",
              "      <td>NaN</td>\n",
              "      <td>NaN</td>\n",
              "      <td>281</td>\n",
              "      <td>NaN</td>\n",
              "    </tr>\n",
              "    <tr>\n",
              "      <th>top</th>\n",
              "      <td>NaN</td>\n",
              "      <td>FEB 07, 2015 - DAL vs. POR</td>\n",
              "      <td>A</td>\n",
              "      <td>W</td>\n",
              "      <td>NaN</td>\n",
              "      <td>NaN</td>\n",
              "      <td>NaN</td>\n",
              "      <td>0:01</td>\n",
              "      <td>NaN</td>\n",
              "      <td>NaN</td>\n",
              "      <td>NaN</td>\n",
              "      <td>NaN</td>\n",
              "      <td>NaN</td>\n",
              "      <td>missed</td>\n",
              "      <td>Ibaka, Serge</td>\n",
              "      <td>NaN</td>\n",
              "      <td>NaN</td>\n",
              "      <td>NaN</td>\n",
              "      <td>NaN</td>\n",
              "      <td>james harden</td>\n",
              "      <td>NaN</td>\n",
              "    </tr>\n",
              "    <tr>\n",
              "      <th>freq</th>\n",
              "      <td>NaN</td>\n",
              "      <td>105</td>\n",
              "      <td>64135</td>\n",
              "      <td>64595</td>\n",
              "      <td>NaN</td>\n",
              "      <td>NaN</td>\n",
              "      <td>NaN</td>\n",
              "      <td>859</td>\n",
              "      <td>NaN</td>\n",
              "      <td>NaN</td>\n",
              "      <td>NaN</td>\n",
              "      <td>NaN</td>\n",
              "      <td>NaN</td>\n",
              "      <td>70164</td>\n",
              "      <td>814</td>\n",
              "      <td>NaN</td>\n",
              "      <td>NaN</td>\n",
              "      <td>NaN</td>\n",
              "      <td>NaN</td>\n",
              "      <td>1054</td>\n",
              "      <td>NaN</td>\n",
              "    </tr>\n",
              "    <tr>\n",
              "      <th>mean</th>\n",
              "      <td>2.140045e+07</td>\n",
              "      <td>NaN</td>\n",
              "      <td>NaN</td>\n",
              "      <td>NaN</td>\n",
              "      <td>0.208723</td>\n",
              "      <td>6.506899</td>\n",
              "      <td>2.469427</td>\n",
              "      <td>NaN</td>\n",
              "      <td>12.453344</td>\n",
              "      <td>2.023355</td>\n",
              "      <td>2.765901</td>\n",
              "      <td>13.571504</td>\n",
              "      <td>2.264670</td>\n",
              "      <td>NaN</td>\n",
              "      <td>NaN</td>\n",
              "      <td>159038.487284</td>\n",
              "      <td>4.123015</td>\n",
              "      <td>0.452139</td>\n",
              "      <td>0.997314</td>\n",
              "      <td>NaN</td>\n",
              "      <td>157238.251247</td>\n",
              "    </tr>\n",
              "    <tr>\n",
              "      <th>std</th>\n",
              "      <td>2.578773e+02</td>\n",
              "      <td>NaN</td>\n",
              "      <td>NaN</td>\n",
              "      <td>NaN</td>\n",
              "      <td>13.233267</td>\n",
              "      <td>4.713260</td>\n",
              "      <td>1.139919</td>\n",
              "      <td>NaN</td>\n",
              "      <td>5.763265</td>\n",
              "      <td>3.477760</td>\n",
              "      <td>3.043682</td>\n",
              "      <td>8.888964</td>\n",
              "      <td>0.441159</td>\n",
              "      <td>NaN</td>\n",
              "      <td>NaN</td>\n",
              "      <td>78791.172947</td>\n",
              "      <td>2.756446</td>\n",
              "      <td>0.497706</td>\n",
              "      <td>1.130978</td>\n",
              "      <td>NaN</td>\n",
              "      <td>79362.389336</td>\n",
              "    </tr>\n",
              "    <tr>\n",
              "      <th>min</th>\n",
              "      <td>2.140000e+07</td>\n",
              "      <td>NaN</td>\n",
              "      <td>NaN</td>\n",
              "      <td>NaN</td>\n",
              "      <td>-53.000000</td>\n",
              "      <td>1.000000</td>\n",
              "      <td>1.000000</td>\n",
              "      <td>NaN</td>\n",
              "      <td>0.000000</td>\n",
              "      <td>0.000000</td>\n",
              "      <td>-163.600000</td>\n",
              "      <td>0.000000</td>\n",
              "      <td>2.000000</td>\n",
              "      <td>NaN</td>\n",
              "      <td>NaN</td>\n",
              "      <td>708.000000</td>\n",
              "      <td>0.000000</td>\n",
              "      <td>0.000000</td>\n",
              "      <td>0.000000</td>\n",
              "      <td>NaN</td>\n",
              "      <td>708.000000</td>\n",
              "    </tr>\n",
              "    <tr>\n",
              "      <th>25%</th>\n",
              "      <td>2.140023e+07</td>\n",
              "      <td>NaN</td>\n",
              "      <td>NaN</td>\n",
              "      <td>NaN</td>\n",
              "      <td>-8.000000</td>\n",
              "      <td>3.000000</td>\n",
              "      <td>1.000000</td>\n",
              "      <td>NaN</td>\n",
              "      <td>8.200000</td>\n",
              "      <td>0.000000</td>\n",
              "      <td>0.900000</td>\n",
              "      <td>4.700000</td>\n",
              "      <td>2.000000</td>\n",
              "      <td>NaN</td>\n",
              "      <td>NaN</td>\n",
              "      <td>101249.000000</td>\n",
              "      <td>2.300000</td>\n",
              "      <td>0.000000</td>\n",
              "      <td>0.000000</td>\n",
              "      <td>NaN</td>\n",
              "      <td>101162.000000</td>\n",
              "    </tr>\n",
              "    <tr>\n",
              "      <th>50%</th>\n",
              "      <td>2.140045e+07</td>\n",
              "      <td>NaN</td>\n",
              "      <td>NaN</td>\n",
              "      <td>NaN</td>\n",
              "      <td>1.000000</td>\n",
              "      <td>5.000000</td>\n",
              "      <td>2.000000</td>\n",
              "      <td>NaN</td>\n",
              "      <td>12.300000</td>\n",
              "      <td>1.000000</td>\n",
              "      <td>1.600000</td>\n",
              "      <td>13.700000</td>\n",
              "      <td>2.000000</td>\n",
              "      <td>NaN</td>\n",
              "      <td>NaN</td>\n",
              "      <td>201949.000000</td>\n",
              "      <td>3.700000</td>\n",
              "      <td>0.000000</td>\n",
              "      <td>0.000000</td>\n",
              "      <td>NaN</td>\n",
              "      <td>201939.000000</td>\n",
              "    </tr>\n",
              "    <tr>\n",
              "      <th>75%</th>\n",
              "      <td>2.140067e+07</td>\n",
              "      <td>NaN</td>\n",
              "      <td>NaN</td>\n",
              "      <td>NaN</td>\n",
              "      <td>9.000000</td>\n",
              "      <td>9.000000</td>\n",
              "      <td>3.000000</td>\n",
              "      <td>NaN</td>\n",
              "      <td>16.675000</td>\n",
              "      <td>2.000000</td>\n",
              "      <td>3.700000</td>\n",
              "      <td>22.500000</td>\n",
              "      <td>3.000000</td>\n",
              "      <td>NaN</td>\n",
              "      <td>NaN</td>\n",
              "      <td>203079.000000</td>\n",
              "      <td>5.300000</td>\n",
              "      <td>1.000000</td>\n",
              "      <td>2.000000</td>\n",
              "      <td>NaN</td>\n",
              "      <td>202704.000000</td>\n",
              "    </tr>\n",
              "    <tr>\n",
              "      <th>max</th>\n",
              "      <td>2.140091e+07</td>\n",
              "      <td>NaN</td>\n",
              "      <td>NaN</td>\n",
              "      <td>NaN</td>\n",
              "      <td>53.000000</td>\n",
              "      <td>38.000000</td>\n",
              "      <td>7.000000</td>\n",
              "      <td>NaN</td>\n",
              "      <td>24.000000</td>\n",
              "      <td>32.000000</td>\n",
              "      <td>24.900000</td>\n",
              "      <td>47.200000</td>\n",
              "      <td>3.000000</td>\n",
              "      <td>NaN</td>\n",
              "      <td>NaN</td>\n",
              "      <td>530027.000000</td>\n",
              "      <td>53.200000</td>\n",
              "      <td>1.000000</td>\n",
              "      <td>3.000000</td>\n",
              "      <td>NaN</td>\n",
              "      <td>204060.000000</td>\n",
              "    </tr>\n",
              "  </tbody>\n",
              "</table>\n",
              "</div>\n",
              "      <button class=\"colab-df-convert\" onclick=\"convertToInteractive('df-58391e33-f52d-4d89-a995-942193c52d0a')\"\n",
              "              title=\"Convert this dataframe to an interactive table.\"\n",
              "              style=\"display:none;\">\n",
              "        \n",
              "  <svg xmlns=\"http://www.w3.org/2000/svg\" height=\"24px\"viewBox=\"0 0 24 24\"\n",
              "       width=\"24px\">\n",
              "    <path d=\"M0 0h24v24H0V0z\" fill=\"none\"/>\n",
              "    <path d=\"M18.56 5.44l.94 2.06.94-2.06 2.06-.94-2.06-.94-.94-2.06-.94 2.06-2.06.94zm-11 1L8.5 8.5l.94-2.06 2.06-.94-2.06-.94L8.5 2.5l-.94 2.06-2.06.94zm10 10l.94 2.06.94-2.06 2.06-.94-2.06-.94-.94-2.06-.94 2.06-2.06.94z\"/><path d=\"M17.41 7.96l-1.37-1.37c-.4-.4-.92-.59-1.43-.59-.52 0-1.04.2-1.43.59L10.3 9.45l-7.72 7.72c-.78.78-.78 2.05 0 2.83L4 21.41c.39.39.9.59 1.41.59.51 0 1.02-.2 1.41-.59l7.78-7.78 2.81-2.81c.8-.78.8-2.07 0-2.86zM5.41 20L4 18.59l7.72-7.72 1.47 1.35L5.41 20z\"/>\n",
              "  </svg>\n",
              "      </button>\n",
              "      \n",
              "  <style>\n",
              "    .colab-df-container {\n",
              "      display:flex;\n",
              "      flex-wrap:wrap;\n",
              "      gap: 12px;\n",
              "    }\n",
              "\n",
              "    .colab-df-convert {\n",
              "      background-color: #E8F0FE;\n",
              "      border: none;\n",
              "      border-radius: 50%;\n",
              "      cursor: pointer;\n",
              "      display: none;\n",
              "      fill: #1967D2;\n",
              "      height: 32px;\n",
              "      padding: 0 0 0 0;\n",
              "      width: 32px;\n",
              "    }\n",
              "\n",
              "    .colab-df-convert:hover {\n",
              "      background-color: #E2EBFA;\n",
              "      box-shadow: 0px 1px 2px rgba(60, 64, 67, 0.3), 0px 1px 3px 1px rgba(60, 64, 67, 0.15);\n",
              "      fill: #174EA6;\n",
              "    }\n",
              "\n",
              "    [theme=dark] .colab-df-convert {\n",
              "      background-color: #3B4455;\n",
              "      fill: #D2E3FC;\n",
              "    }\n",
              "\n",
              "    [theme=dark] .colab-df-convert:hover {\n",
              "      background-color: #434B5C;\n",
              "      box-shadow: 0px 1px 3px 1px rgba(0, 0, 0, 0.15);\n",
              "      filter: drop-shadow(0px 1px 2px rgba(0, 0, 0, 0.3));\n",
              "      fill: #FFFFFF;\n",
              "    }\n",
              "  </style>\n",
              "\n",
              "      <script>\n",
              "        const buttonEl =\n",
              "          document.querySelector('#df-58391e33-f52d-4d89-a995-942193c52d0a button.colab-df-convert');\n",
              "        buttonEl.style.display =\n",
              "          google.colab.kernel.accessAllowed ? 'block' : 'none';\n",
              "\n",
              "        async function convertToInteractive(key) {\n",
              "          const element = document.querySelector('#df-58391e33-f52d-4d89-a995-942193c52d0a');\n",
              "          const dataTable =\n",
              "            await google.colab.kernel.invokeFunction('convertToInteractive',\n",
              "                                                     [key], {});\n",
              "          if (!dataTable) return;\n",
              "\n",
              "          const docLinkHtml = 'Like what you see? Visit the ' +\n",
              "            '<a target=\"_blank\" href=https://colab.research.google.com/notebooks/data_table.ipynb>data table notebook</a>'\n",
              "            + ' to learn more about interactive tables.';\n",
              "          element.innerHTML = '';\n",
              "          dataTable['output_type'] = 'display_data';\n",
              "          await google.colab.output.renderOutput(dataTable, element);\n",
              "          const docLink = document.createElement('div');\n",
              "          docLink.innerHTML = docLinkHtml;\n",
              "          element.appendChild(docLink);\n",
              "        }\n",
              "      </script>\n",
              "    </div>\n",
              "  </div>\n",
              "  "
            ]
          },
          "metadata": {},
          "execution_count": 361
        }
      ]
    },
    {
      "cell_type": "code",
      "source": [
        "df.columns.values"
      ],
      "metadata": {
        "id": "UM_rxF2CIyND",
        "colab": {
          "base_uri": "https://localhost:8080/"
        },
        "outputId": "7ee79f1a-bef3-4a30-b3b9-d3b34e3853d4"
      },
      "execution_count": 362,
      "outputs": [
        {
          "output_type": "execute_result",
          "data": {
            "text/plain": [
              "array(['GAME_ID', 'MATCHUP', 'LOCATION', 'W', 'FINAL_MARGIN',\n",
              "       'SHOT_NUMBER', 'PERIOD', 'GAME_CLOCK', 'SHOT_CLOCK', 'DRIBBLES',\n",
              "       'TOUCH_TIME', 'SHOT_DIST', 'PTS_TYPE', 'SHOT_RESULT',\n",
              "       'CLOSEST_DEFENDER', 'CLOSEST_DEFENDER_PLAYER_ID', 'CLOSE_DEF_DIST',\n",
              "       'FGM', 'PTS', 'player_name', 'player_id'], dtype=object)"
            ]
          },
          "metadata": {},
          "execution_count": 362
        }
      ]
    },
    {
      "cell_type": "code",
      "source": [
        "df.info()\n",
        "df.isna().sum()"
      ],
      "metadata": {
        "id": "bM3DwHg5JCVp",
        "colab": {
          "base_uri": "https://localhost:8080/"
        },
        "outputId": "6386fbfb-f04c-40c7-8c8c-9f48781159fc"
      },
      "execution_count": 363,
      "outputs": [
        {
          "output_type": "stream",
          "name": "stdout",
          "text": [
            "<class 'pandas.core.frame.DataFrame'>\n",
            "RangeIndex: 128069 entries, 0 to 128068\n",
            "Data columns (total 21 columns):\n",
            " #   Column                      Non-Null Count   Dtype  \n",
            "---  ------                      --------------   -----  \n",
            " 0   GAME_ID                     128069 non-null  int64  \n",
            " 1   MATCHUP                     128069 non-null  object \n",
            " 2   LOCATION                    128069 non-null  object \n",
            " 3   W                           128069 non-null  object \n",
            " 4   FINAL_MARGIN                128069 non-null  int64  \n",
            " 5   SHOT_NUMBER                 128069 non-null  int64  \n",
            " 6   PERIOD                      128069 non-null  int64  \n",
            " 7   GAME_CLOCK                  128069 non-null  object \n",
            " 8   SHOT_CLOCK                  122502 non-null  float64\n",
            " 9   DRIBBLES                    128069 non-null  int64  \n",
            " 10  TOUCH_TIME                  128069 non-null  float64\n",
            " 11  SHOT_DIST                   128069 non-null  float64\n",
            " 12  PTS_TYPE                    128069 non-null  int64  \n",
            " 13  SHOT_RESULT                 128069 non-null  object \n",
            " 14  CLOSEST_DEFENDER            128069 non-null  object \n",
            " 15  CLOSEST_DEFENDER_PLAYER_ID  128069 non-null  int64  \n",
            " 16  CLOSE_DEF_DIST              128069 non-null  float64\n",
            " 17  FGM                         128069 non-null  int64  \n",
            " 18  PTS                         128069 non-null  int64  \n",
            " 19  player_name                 128069 non-null  object \n",
            " 20  player_id                   128069 non-null  int64  \n",
            "dtypes: float64(4), int64(10), object(7)\n",
            "memory usage: 20.5+ MB\n"
          ]
        },
        {
          "output_type": "execute_result",
          "data": {
            "text/plain": [
              "GAME_ID                          0\n",
              "MATCHUP                          0\n",
              "LOCATION                         0\n",
              "W                                0\n",
              "FINAL_MARGIN                     0\n",
              "SHOT_NUMBER                      0\n",
              "PERIOD                           0\n",
              "GAME_CLOCK                       0\n",
              "SHOT_CLOCK                    5567\n",
              "DRIBBLES                         0\n",
              "TOUCH_TIME                       0\n",
              "SHOT_DIST                        0\n",
              "PTS_TYPE                         0\n",
              "SHOT_RESULT                      0\n",
              "CLOSEST_DEFENDER                 0\n",
              "CLOSEST_DEFENDER_PLAYER_ID       0\n",
              "CLOSE_DEF_DIST                   0\n",
              "FGM                              0\n",
              "PTS                              0\n",
              "player_name                      0\n",
              "player_id                        0\n",
              "dtype: int64"
            ]
          },
          "metadata": {},
          "execution_count": 363
        }
      ]
    },
    {
      "cell_type": "code",
      "source": [
        "df.nunique()"
      ],
      "metadata": {
        "id": "xaw9qhwHLATg",
        "colab": {
          "base_uri": "https://localhost:8080/"
        },
        "outputId": "9d43a34c-17b2-417c-afe1-132b8eda8026"
      },
      "execution_count": 364,
      "outputs": [
        {
          "output_type": "execute_result",
          "data": {
            "text/plain": [
              "GAME_ID                        904\n",
              "MATCHUP                       1808\n",
              "LOCATION                         2\n",
              "W                                2\n",
              "FINAL_MARGIN                    88\n",
              "SHOT_NUMBER                     38\n",
              "PERIOD                           7\n",
              "GAME_CLOCK                     719\n",
              "SHOT_CLOCK                     241\n",
              "DRIBBLES                        33\n",
              "TOUCH_TIME                     313\n",
              "SHOT_DIST                      448\n",
              "PTS_TYPE                         2\n",
              "SHOT_RESULT                      2\n",
              "CLOSEST_DEFENDER               473\n",
              "CLOSEST_DEFENDER_PLAYER_ID     474\n",
              "CLOSE_DEF_DIST                 299\n",
              "FGM                              2\n",
              "PTS                              3\n",
              "player_name                    281\n",
              "player_id                      281\n",
              "dtype: int64"
            ]
          },
          "metadata": {},
          "execution_count": 364
        }
      ]
    },
    {
      "cell_type": "markdown",
      "source": [
        "### **Čišćenje i pretvaranje podataka po potrebi**"
      ],
      "metadata": {
        "id": "CpNBFVa7EFjl"
      }
    },
    {
      "cell_type": "markdown",
      "source": [
        "Vidimo da nedostaje 5567 SHOT_CLOCK vrijednosti pa imamo više mogućnosti za rješavanje problema nedostajućih vrijednost. \n",
        "\n",
        "Možemo:\n",
        "*   u potpunosti izbaciti te značajke iz skupa podataka\n",
        "*   interpolacija\n",
        "*   pronalazak točnih vrijednosti iz drugih izvora podataka\n",
        "*   zamijeniti srednjom vrijednošću\n",
        "*   u potpunosti izbaciti te zapise iz skupa podataka\n",
        " item\n",
        "\n",
        "\n",
        "Odlučio sam se za izbacivanje tih zapisa iz skupa podataka pošto su ostale opcije vrlo teške za izvesti, a ovako gubimo oko 4% zapisa što je prihvatljivo.\n",
        "\n"
      ],
      "metadata": {
        "id": "xTypRF3NN2Ek"
      }
    },
    {
      "cell_type": "code",
      "source": [
        "df = df[df.SHOT_CLOCK.notnull()]\n",
        "df.info()\n"
      ],
      "metadata": {
        "id": "8GQGSey4LAdV",
        "colab": {
          "base_uri": "https://localhost:8080/"
        },
        "outputId": "a7be618e-d81e-4a64-f104-a61e31e0010e"
      },
      "execution_count": 365,
      "outputs": [
        {
          "output_type": "stream",
          "name": "stdout",
          "text": [
            "<class 'pandas.core.frame.DataFrame'>\n",
            "Int64Index: 122502 entries, 0 to 128067\n",
            "Data columns (total 21 columns):\n",
            " #   Column                      Non-Null Count   Dtype  \n",
            "---  ------                      --------------   -----  \n",
            " 0   GAME_ID                     122502 non-null  int64  \n",
            " 1   MATCHUP                     122502 non-null  object \n",
            " 2   LOCATION                    122502 non-null  object \n",
            " 3   W                           122502 non-null  object \n",
            " 4   FINAL_MARGIN                122502 non-null  int64  \n",
            " 5   SHOT_NUMBER                 122502 non-null  int64  \n",
            " 6   PERIOD                      122502 non-null  int64  \n",
            " 7   GAME_CLOCK                  122502 non-null  object \n",
            " 8   SHOT_CLOCK                  122502 non-null  float64\n",
            " 9   DRIBBLES                    122502 non-null  int64  \n",
            " 10  TOUCH_TIME                  122502 non-null  float64\n",
            " 11  SHOT_DIST                   122502 non-null  float64\n",
            " 12  PTS_TYPE                    122502 non-null  int64  \n",
            " 13  SHOT_RESULT                 122502 non-null  object \n",
            " 14  CLOSEST_DEFENDER            122502 non-null  object \n",
            " 15  CLOSEST_DEFENDER_PLAYER_ID  122502 non-null  int64  \n",
            " 16  CLOSE_DEF_DIST              122502 non-null  float64\n",
            " 17  FGM                         122502 non-null  int64  \n",
            " 18  PTS                         122502 non-null  int64  \n",
            " 19  player_name                 122502 non-null  object \n",
            " 20  player_id                   122502 non-null  int64  \n",
            "dtypes: float64(4), int64(10), object(7)\n",
            "memory usage: 20.6+ MB\n"
          ]
        }
      ]
    },
    {
      "cell_type": "markdown",
      "source": [
        "Pronalazak stršećih vrijednosti\n"
      ],
      "metadata": {
        "id": "d7cU0ID4h3e0"
      }
    },
    {
      "cell_type": "code",
      "source": [
        "tt = df['TOUCH_TIME']\n",
        "plt.boxplot(tt)"
      ],
      "metadata": {
        "id": "TqF7To3Ngpvs",
        "colab": {
          "base_uri": "https://localhost:8080/",
          "height": 546
        },
        "outputId": "f568caf5-4c66-44e5-e518-8c18da919af3"
      },
      "execution_count": 366,
      "outputs": [
        {
          "output_type": "execute_result",
          "data": {
            "text/plain": [
              "{'whiskers': [<matplotlib.lines.Line2D at 0x7f3aa3ac9190>,\n",
              "  <matplotlib.lines.Line2D at 0x7f3aa36b1f10>],\n",
              " 'caps': [<matplotlib.lines.Line2D at 0x7f3aa1d066d0>,\n",
              "  <matplotlib.lines.Line2D at 0x7f3aa2ec5250>],\n",
              " 'boxes': [<matplotlib.lines.Line2D at 0x7f3aa3ac93d0>],\n",
              " 'medians': [<matplotlib.lines.Line2D at 0x7f3aa2ec5a50>],\n",
              " 'fliers': [<matplotlib.lines.Line2D at 0x7f3aa2ec5ad0>],\n",
              " 'means': []}"
            ]
          },
          "metadata": {},
          "execution_count": 366
        },
        {
          "output_type": "display_data",
          "data": {
            "text/plain": [
              "<Figure size 640x440 with 1 Axes>"
            ],
            "image/png": "[encoded data removed]"
          },
          "metadata": {}
        }
      ]
    },
    {
      "cell_type": "markdown",
      "source": [
        "Vidimo kako značajka TOUCH_TIME ima stršeće vrijednosti, ali također ima i negativne vrijednosti što je definitivno krivo."
      ],
      "metadata": {
        "id": "n6_kMvHSIfGM"
      }
    },
    {
      "cell_type": "code",
      "source": [
        "filt = df['TOUCH_TIME'] < 0\n",
        "df.loc[filt,['TOUCH_TIME']]"
      ],
      "metadata": {
        "id": "2248mA2liBhY",
        "colab": {
          "base_uri": "https://localhost:8080/",
          "height": 424
        },
        "outputId": "a65cdda9-3314-4f1c-804e-197728336910"
      },
      "execution_count": 367,
      "outputs": [
        {
          "output_type": "execute_result",
          "data": {
            "text/plain": [
              "        TOUCH_TIME\n",
              "748           -4.3\n",
              "775           -0.4\n",
              "1118          -3.2\n",
              "1260          -1.3\n",
              "1860          -0.2\n",
              "...            ...\n",
              "124820        -4.2\n",
              "125018        -1.2\n",
              "125057        -8.8\n",
              "125059        -0.4\n",
              "128061        -0.2\n",
              "\n",
              "[299 rows x 1 columns]"
            ],
            "text/html": [
              "\n",
              "  <div id=\"df-86c8f197-649d-4357-b98a-b1ec86593794\">\n",
              "    <div class=\"colab-df-container\">\n",
              "      <div>\n",
              "<style scoped>\n",
              "    .dataframe tbody tr th:only-of-type {\n",
              "        vertical-align: middle;\n",
              "    }\n",
              "\n",
              "    .dataframe tbody tr th {\n",
              "        vertical-align: top;\n",
              "    }\n",
              "\n",
              "    .dataframe thead th {\n",
              "        text-align: right;\n",
              "    }\n",
              "</style>\n",
              "<table border=\"1\" class=\"dataframe\">\n",
              "  <thead>\n",
              "    <tr style=\"text-align: right;\">\n",
              "      <th></th>\n",
              "      <th>TOUCH_TIME</th>\n",
              "    </tr>\n",
              "  </thead>\n",
              "  <tbody>\n",
              "    <tr>\n",
              "      <th>748</th>\n",
              "      <td>-4.3</td>\n",
              "    </tr>\n",
              "    <tr>\n",
              "      <th>775</th>\n",
              "      <td>-0.4</td>\n",
              "    </tr>\n",
              "    <tr>\n",
              "      <th>1118</th>\n",
              "      <td>-3.2</td>\n",
              "    </tr>\n",
              "    <tr>\n",
              "      <th>1260</th>\n",
              "      <td>-1.3</td>\n",
              "    </tr>\n",
              "    <tr>\n",
              "      <th>1860</th>\n",
              "      <td>-0.2</td>\n",
              "    </tr>\n",
              "    <tr>\n",
              "      <th>...</th>\n",
              "      <td>...</td>\n",
              "    </tr>\n",
              "    <tr>\n",
              "      <th>124820</th>\n",
              "      <td>-4.2</td>\n",
              "    </tr>\n",
              "    <tr>\n",
              "      <th>125018</th>\n",
              "      <td>-1.2</td>\n",
              "    </tr>\n",
              "    <tr>\n",
              "      <th>125057</th>\n",
              "      <td>-8.8</td>\n",
              "    </tr>\n",
              "    <tr>\n",
              "      <th>125059</th>\n",
              "      <td>-0.4</td>\n",
              "    </tr>\n",
              "    <tr>\n",
              "      <th>128061</th>\n",
              "      <td>-0.2</td>\n",
              "    </tr>\n",
              "  </tbody>\n",
              "</table>\n",
              "<p>299 rows × 1 columns</p>\n",
              "</div>\n",
              "      <button class=\"colab-df-convert\" onclick=\"convertToInteractive('df-86c8f197-649d-4357-b98a-b1ec86593794')\"\n",
              "              title=\"Convert this dataframe to an interactive table.\"\n",
              "              style=\"display:none;\">\n",
              "        \n",
              "  <svg xmlns=\"http://www.w3.org/2000/svg\" height=\"24px\"viewBox=\"0 0 24 24\"\n",
              "       width=\"24px\">\n",
              "    <path d=\"M0 0h24v24H0V0z\" fill=\"none\"/>\n",
              "    <path d=\"M18.56 5.44l.94 2.06.94-2.06 2.06-.94-2.06-.94-.94-2.06-.94 2.06-2.06.94zm-11 1L8.5 8.5l.94-2.06 2.06-.94-2.06-.94L8.5 2.5l-.94 2.06-2.06.94zm10 10l.94 2.06.94-2.06 2.06-.94-2.06-.94-.94-2.06-.94 2.06-2.06.94z\"/><path d=\"M17.41 7.96l-1.37-1.37c-.4-.4-.92-.59-1.43-.59-.52 0-1.04.2-1.43.59L10.3 9.45l-7.72 7.72c-.78.78-.78 2.05 0 2.83L4 21.41c.39.39.9.59 1.41.59.51 0 1.02-.2 1.41-.59l7.78-7.78 2.81-2.81c.8-.78.8-2.07 0-2.86zM5.41 20L4 18.59l7.72-7.72 1.47 1.35L5.41 20z\"/>\n",
              "  </svg>\n",
              "      </button>\n",
              "      \n",
              "  <style>\n",
              "    .colab-df-container {\n",
              "      display:flex;\n",
              "      flex-wrap:wrap;\n",
              "      gap: 12px;\n",
              "    }\n",
              "\n",
              "    .colab-df-convert {\n",
              "      background-color: #E8F0FE;\n",
              "      border: none;\n",
              "      border-radius: 50%;\n",
              "      cursor: pointer;\n",
              "      display: none;\n",
              "      fill: #1967D2;\n",
              "      height: 32px;\n",
              "      padding: 0 0 0 0;\n",
              "      width: 32px;\n",
              "    }\n",
              "\n",
              "    .colab-df-convert:hover {\n",
              "      background-color: #E2EBFA;\n",
              "      box-shadow: 0px 1px 2px rgba(60, 64, 67, 0.3), 0px 1px 3px 1px rgba(60, 64, 67, 0.15);\n",
              "      fill: #174EA6;\n",
              "    }\n",
              "\n",
              "    [theme=dark] .colab-df-convert {\n",
              "      background-color: #3B4455;\n",
              "      fill: #D2E3FC;\n",
              "    }\n",
              "\n",
              "    [theme=dark] .colab-df-convert:hover {\n",
              "      background-color: #434B5C;\n",
              "      box-shadow: 0px 1px 3px 1px rgba(0, 0, 0, 0.15);\n",
              "      filter: drop-shadow(0px 1px 2px rgba(0, 0, 0, 0.3));\n",
              "      fill: #FFFFFF;\n",
              "    }\n",
              "  </style>\n",
              "\n",
              "      <script>\n",
              "        const buttonEl =\n",
              "          document.querySelector('#df-86c8f197-649d-4357-b98a-b1ec86593794 button.colab-df-convert');\n",
              "        buttonEl.style.display =\n",
              "          google.colab.kernel.accessAllowed ? 'block' : 'none';\n",
              "\n",
              "        async function convertToInteractive(key) {\n",
              "          const element = document.querySelector('#df-86c8f197-649d-4357-b98a-b1ec86593794');\n",
              "          const dataTable =\n",
              "            await google.colab.kernel.invokeFunction('convertToInteractive',\n",
              "                                                     [key], {});\n",
              "          if (!dataTable) return;\n",
              "\n",
              "          const docLinkHtml = 'Like what you see? Visit the ' +\n",
              "            '<a target=\"_blank\" href=https://colab.research.google.com/notebooks/data_table.ipynb>data table notebook</a>'\n",
              "            + ' to learn more about interactive tables.';\n",
              "          element.innerHTML = '';\n",
              "          dataTable['output_type'] = 'display_data';\n",
              "          await google.colab.output.renderOutput(dataTable, element);\n",
              "          const docLink = document.createElement('div');\n",
              "          docLink.innerHTML = docLinkHtml;\n",
              "          element.appendChild(docLink);\n",
              "        }\n",
              "      </script>\n",
              "    </div>\n",
              "  </div>\n",
              "  "
            ]
          },
          "metadata": {},
          "execution_count": 367
        }
      ]
    },
    {
      "cell_type": "code",
      "source": [
        "df.loc[df['TOUCH_TIME']< 0,'TOUCH_TIME'] = df['TOUCH_TIME'].mean()\n",
        "df['TOUCH_TIME'].describe()\n"
      ],
      "metadata": {
        "id": "hG6XpPK2kHU2",
        "colab": {
          "base_uri": "https://localhost:8080/"
        },
        "outputId": "25c37df2-506d-486a-e90b-e57e8e27a05e"
      },
      "execution_count": 368,
      "outputs": [
        {
          "output_type": "execute_result",
          "data": {
            "text/plain": [
              "count    122502.000000\n",
              "mean          2.759757\n",
              "std           2.931794\n",
              "min           0.000000\n",
              "25%           0.900000\n",
              "50%           1.600000\n",
              "75%           3.700000\n",
              "max          24.900000\n",
              "Name: TOUCH_TIME, dtype: float64"
            ]
          },
          "metadata": {},
          "execution_count": 368
        }
      ]
    },
    {
      "cell_type": "code",
      "source": [
        "tt = df['TOUCH_TIME']\n",
        "plt.boxplot(tt)"
      ],
      "metadata": {
        "id": "hXS0sgFilRXe",
        "colab": {
          "base_uri": "https://localhost:8080/",
          "height": 546
        },
        "outputId": "9c99fda5-1bc0-4896-e014-165d0b0c7fad"
      },
      "execution_count": 369,
      "outputs": [
        {
          "output_type": "execute_result",
          "data": {
            "text/plain": [
              "{'whiskers': [<matplotlib.lines.Line2D at 0x7f3aa33bb350>,\n",
              "  <matplotlib.lines.Line2D at 0x7f3aa3ab2d50>],\n",
              " 'caps': [<matplotlib.lines.Line2D at 0x7f3aa3ab23d0>,\n",
              "  <matplotlib.lines.Line2D at 0x7f3aa1075510>],\n",
              " 'boxes': [<matplotlib.lines.Line2D at 0x7f3aa33bb7d0>],\n",
              " 'medians': [<matplotlib.lines.Line2D at 0x7f3aa1075d50>],\n",
              " 'fliers': [<matplotlib.lines.Line2D at 0x7f3aa1075090>],\n",
              " 'means': []}"
            ]
          },
          "metadata": {},
          "execution_count": 369
        },
        {
          "output_type": "display_data",
          "data": {
            "text/plain": [
              "<Figure size 640x440 with 1 Axes>"
            ],
            "image/png": "[encoded data removed]"
          },
          "metadata": {}
        }
      ]
    },
    {
      "cell_type": "markdown",
      "source": [
        "Pretvaranje vrijednosti značajke GAME_CLOCK iz stringa u sekunde kao cijeli broj."
      ],
      "metadata": {
        "id": "Bmw4XdRHJN7p"
      }
    },
    {
      "cell_type": "code",
      "source": [
        "df.loc[:,'GAME_CLOCK']\n",
        "\n",
        "def changeGameClockToSeconds(time):\n",
        "  time = time.split(\":\")\n",
        "  seconds = int(time[0]) * 60 + int(time[1])\n",
        "  return seconds\n",
        "\n",
        "# for i, row in df.iterrows():\n",
        "#     time = row['GAME_CLOCK']\n",
        "#     time = time.split(\":\")\n",
        "#     seconds = int(time[0]) * 60 + int(time[1])\n",
        "#     # if i < 5:\n",
        "#     #   print(time)\n",
        "#     #   print(seconds)\n",
        "#     df.at[i,'GAME_CLOCK'] = seconds\n",
        "\n",
        "\n",
        "df['GAME_CLOCK'] = df['GAME_CLOCK'].apply(changeGameClockToSeconds)\n"
      ],
      "metadata": {
        "id": "xFol9ecAnkE_"
      },
      "execution_count": 370,
      "outputs": []
    },
    {
      "cell_type": "code",
      "source": [
        "df['GAME_CLOCK']"
      ],
      "metadata": {
        "id": "VWHUfeR3ueg7",
        "colab": {
          "base_uri": "https://localhost:8080/"
        },
        "outputId": "d8db2b2f-2d0a-4735-a0a9-f453fcc017b2"
      },
      "execution_count": 371,
      "outputs": [
        {
          "output_type": "execute_result",
          "data": {
            "text/plain": [
              "0          69\n",
              "1          14\n",
              "3         707\n",
              "4         634\n",
              "5         495\n",
              "         ... \n",
              "128063    305\n",
              "128064    112\n",
              "128065    688\n",
              "128066    670\n",
              "128067    157\n",
              "Name: GAME_CLOCK, Length: 122502, dtype: int64"
            ]
          },
          "metadata": {},
          "execution_count": 371
        }
      ]
    },
    {
      "cell_type": "code",
      "source": [
        "def changeFeetToMeters(distance):\n",
        "  return distance * 0.3048 \n",
        "\n",
        "df['SHOT_DIST'] = df['SHOT_DIST'].apply(changeFeetToMeters)\n",
        "df['CLOSE_DEF_DIST'] = df['CLOSE_DEF_DIST'].apply(changeFeetToMeters)"
      ],
      "metadata": {
        "id": "0VfFR4XfbMTc"
      },
      "execution_count": 372,
      "outputs": []
    },
    {
      "cell_type": "code",
      "source": [
        "df_cleaned = df.drop(columns =['GAME_ID', 'MATCHUP','W','FINAL_MARGIN','SHOT_RESULT','CLOSEST_DEFENDER_PLAYER_ID','player_id'])\n",
        "df_cleaned.head(5)"
      ],
      "metadata": {
        "id": "4z7h9a1nJamj",
        "colab": {
          "base_uri": "https://localhost:8080/",
          "height": 206
        },
        "outputId": "8b15d19c-d956-4f9a-8301-9839f303256a"
      },
      "execution_count": 373,
      "outputs": [
        {
          "output_type": "execute_result",
          "data": {
            "text/plain": [
              "  LOCATION  SHOT_NUMBER  PERIOD  GAME_CLOCK  SHOT_CLOCK  DRIBBLES  TOUCH_TIME  \\\n",
              "0        A            1       1          69        10.8         2         1.9   \n",
              "1        A            2       1          14         3.4         0         0.8   \n",
              "3        A            4       2         707        10.3         2         1.9   \n",
              "4        A            5       2         634        10.9         2         2.7   \n",
              "5        A            6       2         495         9.1         2         4.4   \n",
              "\n",
              "   SHOT_DIST  PTS_TYPE   CLOSEST_DEFENDER  CLOSE_DEF_DIST  FGM  PTS  \\\n",
              "0    2.34696         2     Anderson, Alan         0.39624    1    2   \n",
              "1    8.59536         3  Bogdanovic, Bojan         1.85928    0    0   \n",
              "3    5.24256         2      Brown, Markel         1.03632    0    0   \n",
              "4    1.12776         2    Young, Thaddeus         0.33528    0    0   \n",
              "5    5.60832         2    Williams, Deron         0.79248    0    0   \n",
              "\n",
              "     player_name  \n",
              "0  brian roberts  \n",
              "1  brian roberts  \n",
              "3  brian roberts  \n",
              "4  brian roberts  \n",
              "5  brian roberts  "
            ],
            "text/html": [
              "\n",
              "  <div id=\"df-8bf09f43-884c-4227-ba60-784408f76d90\">\n",
              "    <div class=\"colab-df-container\">\n",
              "      <div>\n",
              "<style scoped>\n",
              "    .dataframe tbody tr th:only-of-type {\n",
              "        vertical-align: middle;\n",
              "    }\n",
              "\n",
              "    .dataframe tbody tr th {\n",
              "        vertical-align: top;\n",
              "    }\n",
              "\n",
              "    .dataframe thead th {\n",
              "        text-align: right;\n",
              "    }\n",
              "</style>\n",
              "<table border=\"1\" class=\"dataframe\">\n",
              "  <thead>\n",
              "    <tr style=\"text-align: right;\">\n",
              "      <th></th>\n",
              "      <th>LOCATION</th>\n",
              "      <th>SHOT_NUMBER</th>\n",
              "      <th>PERIOD</th>\n",
              "      <th>GAME_CLOCK</th>\n",
              "      <th>SHOT_CLOCK</th>\n",
              "      <th>DRIBBLES</th>\n",
              "      <th>TOUCH_TIME</th>\n",
              "      <th>SHOT_DIST</th>\n",
              "      <th>PTS_TYPE</th>\n",
              "      <th>CLOSEST_DEFENDER</th>\n",
              "      <th>CLOSE_DEF_DIST</th>\n",
              "      <th>FGM</th>\n",
              "      <th>PTS</th>\n",
              "      <th>player_name</th>\n",
              "    </tr>\n",
              "  </thead>\n",
              "  <tbody>\n",
              "    <tr>\n",
              "      <th>0</th>\n",
              "      <td>A</td>\n",
              "      <td>1</td>\n",
              "      <td>1</td>\n",
              "      <td>69</td>\n",
              "      <td>10.8</td>\n",
              "      <td>2</td>\n",
              "      <td>1.9</td>\n",
              "      <td>2.34696</td>\n",
              "      <td>2</td>\n",
              "      <td>Anderson, Alan</td>\n",
              "      <td>0.39624</td>\n",
              "      <td>1</td>\n",
              "      <td>2</td>\n",
              "      <td>brian roberts</td>\n",
              "    </tr>\n",
              "    <tr>\n",
              "      <th>1</th>\n",
              "      <td>A</td>\n",
              "      <td>2</td>\n",
              "      <td>1</td>\n",
              "      <td>14</td>\n",
              "      <td>3.4</td>\n",
              "      <td>0</td>\n",
              "      <td>0.8</td>\n",
              "      <td>8.59536</td>\n",
              "      <td>3</td>\n",
              "      <td>Bogdanovic, Bojan</td>\n",
              "      <td>1.85928</td>\n",
              "      <td>0</td>\n",
              "      <td>0</td>\n",
              "      <td>brian roberts</td>\n",
              "    </tr>\n",
              "    <tr>\n",
              "      <th>3</th>\n",
              "      <td>A</td>\n",
              "      <td>4</td>\n",
              "      <td>2</td>\n",
              "      <td>707</td>\n",
              "      <td>10.3</td>\n",
              "      <td>2</td>\n",
              "      <td>1.9</td>\n",
              "      <td>5.24256</td>\n",
              "      <td>2</td>\n",
              "      <td>Brown, Markel</td>\n",
              "      <td>1.03632</td>\n",
              "      <td>0</td>\n",
              "      <td>0</td>\n",
              "      <td>brian roberts</td>\n",
              "    </tr>\n",
              "    <tr>\n",
              "      <th>4</th>\n",
              "      <td>A</td>\n",
              "      <td>5</td>\n",
              "      <td>2</td>\n",
              "      <td>634</td>\n",
              "      <td>10.9</td>\n",
              "      <td>2</td>\n",
              "      <td>2.7</td>\n",
              "      <td>1.12776</td>\n",
              "      <td>2</td>\n",
              "      <td>Young, Thaddeus</td>\n",
              "      <td>0.33528</td>\n",
              "      <td>0</td>\n",
              "      <td>0</td>\n",
              "      <td>brian roberts</td>\n",
              "    </tr>\n",
              "    <tr>\n",
              "      <th>5</th>\n",
              "      <td>A</td>\n",
              "      <td>6</td>\n",
              "      <td>2</td>\n",
              "      <td>495</td>\n",
              "      <td>9.1</td>\n",
              "      <td>2</td>\n",
              "      <td>4.4</td>\n",
              "      <td>5.60832</td>\n",
              "      <td>2</td>\n",
              "      <td>Williams, Deron</td>\n",
              "      <td>0.79248</td>\n",
              "      <td>0</td>\n",
              "      <td>0</td>\n",
              "      <td>brian roberts</td>\n",
              "    </tr>\n",
              "  </tbody>\n",
              "</table>\n",
              "</div>\n",
              "      <button class=\"colab-df-convert\" onclick=\"convertToInteractive('df-8bf09f43-884c-4227-ba60-784408f76d90')\"\n",
              "              title=\"Convert this dataframe to an interactive table.\"\n",
              "              style=\"display:none;\">\n",
              "        \n",
              "  <svg xmlns=\"http://www.w3.org/2000/svg\" height=\"24px\"viewBox=\"0 0 24 24\"\n",
              "       width=\"24px\">\n",
              "    <path d=\"M0 0h24v24H0V0z\" fill=\"none\"/>\n",
              "    <path d=\"M18.56 5.44l.94 2.06.94-2.06 2.06-.94-2.06-.94-.94-2.06-.94 2.06-2.06.94zm-11 1L8.5 8.5l.94-2.06 2.06-.94-2.06-.94L8.5 2.5l-.94 2.06-2.06.94zm10 10l.94 2.06.94-2.06 2.06-.94-2.06-.94-.94-2.06-.94 2.06-2.06.94z\"/><path d=\"M17.41 7.96l-1.37-1.37c-.4-.4-.92-.59-1.43-.59-.52 0-1.04.2-1.43.59L10.3 9.45l-7.72 7.72c-.78.78-.78 2.05 0 2.83L4 21.41c.39.39.9.59 1.41.59.51 0 1.02-.2 1.41-.59l7.78-7.78 2.81-2.81c.8-.78.8-2.07 0-2.86zM5.41 20L4 18.59l7.72-7.72 1.47 1.35L5.41 20z\"/>\n",
              "  </svg>\n",
              "      </button>\n",
              "      \n",
              "  <style>\n",
              "    .colab-df-container {\n",
              "      display:flex;\n",
              "      flex-wrap:wrap;\n",
              "      gap: 12px;\n",
              "    }\n",
              "\n",
              "    .colab-df-convert {\n",
              "      background-color: #E8F0FE;\n",
              "      border: none;\n",
              "      border-radius: 50%;\n",
              "      cursor: pointer;\n",
              "      display: none;\n",
              "      fill: #1967D2;\n",
              "      height: 32px;\n",
              "      padding: 0 0 0 0;\n",
              "      width: 32px;\n",
              "    }\n",
              "\n",
              "    .colab-df-convert:hover {\n",
              "      background-color: #E2EBFA;\n",
              "      box-shadow: 0px 1px 2px rgba(60, 64, 67, 0.3), 0px 1px 3px 1px rgba(60, 64, 67, 0.15);\n",
              "      fill: #174EA6;\n",
              "    }\n",
              "\n",
              "    [theme=dark] .colab-df-convert {\n",
              "      background-color: #3B4455;\n",
              "      fill: #D2E3FC;\n",
              "    }\n",
              "\n",
              "    [theme=dark] .colab-df-convert:hover {\n",
              "      background-color: #434B5C;\n",
              "      box-shadow: 0px 1px 3px 1px rgba(0, 0, 0, 0.15);\n",
              "      filter: drop-shadow(0px 1px 2px rgba(0, 0, 0, 0.3));\n",
              "      fill: #FFFFFF;\n",
              "    }\n",
              "  </style>\n",
              "\n",
              "      <script>\n",
              "        const buttonEl =\n",
              "          document.querySelector('#df-8bf09f43-884c-4227-ba60-784408f76d90 button.colab-df-convert');\n",
              "        buttonEl.style.display =\n",
              "          google.colab.kernel.accessAllowed ? 'block' : 'none';\n",
              "\n",
              "        async function convertToInteractive(key) {\n",
              "          const element = document.querySelector('#df-8bf09f43-884c-4227-ba60-784408f76d90');\n",
              "          const dataTable =\n",
              "            await google.colab.kernel.invokeFunction('convertToInteractive',\n",
              "                                                     [key], {});\n",
              "          if (!dataTable) return;\n",
              "\n",
              "          const docLinkHtml = 'Like what you see? Visit the ' +\n",
              "            '<a target=\"_blank\" href=https://colab.research.google.com/notebooks/data_table.ipynb>data table notebook</a>'\n",
              "            + ' to learn more about interactive tables.';\n",
              "          element.innerHTML = '';\n",
              "          dataTable['output_type'] = 'display_data';\n",
              "          await google.colab.output.renderOutput(dataTable, element);\n",
              "          const docLink = document.createElement('div');\n",
              "          docLink.innerHTML = docLinkHtml;\n",
              "          element.appendChild(docLink);\n",
              "        }\n",
              "      </script>\n",
              "    </div>\n",
              "  </div>\n",
              "  "
            ]
          },
          "metadata": {},
          "execution_count": 373
        }
      ]
    },
    {
      "cell_type": "code",
      "source": [
        "le = LabelEncoder()\n",
        "le.fit(df_cleaned.loc[:,'LOCATION'])\n",
        "#print(le.classes_)\n",
        "\n",
        "df_cleaned.loc[:,'LOCATION'] = le.transform(df_cleaned.loc[:,'LOCATION'])\n",
        "\n",
        "df_cleaned['LOCATION']"
      ],
      "metadata": {
        "id": "aj7hPAvMio_P",
        "colab": {
          "base_uri": "https://localhost:8080/"
        },
        "outputId": "96ab73db-b9cc-440e-8e6c-80e550769da1"
      },
      "execution_count": 374,
      "outputs": [
        {
          "output_type": "execute_result",
          "data": {
            "text/plain": [
              "0         0\n",
              "1         0\n",
              "3         0\n",
              "4         0\n",
              "5         0\n",
              "         ..\n",
              "128063    0\n",
              "128064    0\n",
              "128065    0\n",
              "128066    0\n",
              "128067    0\n",
              "Name: LOCATION, Length: 122502, dtype: int64"
            ]
          },
          "metadata": {},
          "execution_count": 374
        }
      ]
    },
    {
      "cell_type": "code",
      "source": [
        "playerGrp = df_cleaned.groupby(['player_name'])"
      ],
      "metadata": {
        "id": "Ns3DygUoR2LW"
      },
      "execution_count": 375,
      "outputs": []
    },
    {
      "cell_type": "code",
      "source": [
        "playerGrp['SHOT_DIST','PTS'].mean().sort_values('SHOT_DIST',ascending=False)\n"
      ],
      "metadata": {
        "id": "0oytMskdS_tS",
        "colab": {
          "base_uri": "https://localhost:8080/",
          "height": 490
        },
        "outputId": "c689cd5b-1b57-4a32-c927-b6aa9408e95b"
      },
      "execution_count": 376,
      "outputs": [
        {
          "output_type": "stream",
          "name": "stderr",
          "text": [
            "/usr/local/lib/python3.7/dist-packages/ipykernel_launcher.py:1: FutureWarning: Indexing with multiple keys (implicitly converted to a tuple of keys) will be deprecated, use a list instead.\n",
            "  \"\"\"Entry point for launching an IPython kernel.\n"
          ]
        },
        {
          "output_type": "execute_result",
          "data": {
            "text/plain": [
              "                SHOT_DIST       PTS\n",
              "player_name                        \n",
              "mike miller      7.167664  0.882979\n",
              "kyle korver      6.735742  1.330377\n",
              "channing frye    6.723827  1.071960\n",
              "hedo turkoglu    6.456274  1.190000\n",
              "pablo prigioni   6.426358  1.161491\n",
              "...                   ...       ...\n",
              "joey dorsey      1.113213  1.068182\n",
              "rudy gobert      1.084434  1.249042\n",
              "deandre jordan   1.041754  1.431525\n",
              "greg smith       0.809708  1.217391\n",
              "omer asik        0.802225  1.013605\n",
              "\n",
              "[281 rows x 2 columns]"
            ],
            "text/html": [
              "\n",
              "  <div id=\"df-58c3e1b7-88d7-4a74-a2e9-11cd6fc3a55e\">\n",
              "    <div class=\"colab-df-container\">\n",
              "      <div>\n",
              "<style scoped>\n",
              "    .dataframe tbody tr th:only-of-type {\n",
              "        vertical-align: middle;\n",
              "    }\n",
              "\n",
              "    .dataframe tbody tr th {\n",
              "        vertical-align: top;\n",
              "    }\n",
              "\n",
              "    .dataframe thead th {\n",
              "        text-align: right;\n",
              "    }\n",
              "</style>\n",
              "<table border=\"1\" class=\"dataframe\">\n",
              "  <thead>\n",
              "    <tr style=\"text-align: right;\">\n",
              "      <th></th>\n",
              "      <th>SHOT_DIST</th>\n",
              "      <th>PTS</th>\n",
              "    </tr>\n",
              "    <tr>\n",
              "      <th>player_name</th>\n",
              "      <th></th>\n",
              "      <th></th>\n",
              "    </tr>\n",
              "  </thead>\n",
              "  <tbody>\n",
              "    <tr>\n",
              "      <th>mike miller</th>\n",
              "      <td>7.167664</td>\n",
              "      <td>0.882979</td>\n",
              "    </tr>\n",
              "    <tr>\n",
              "      <th>kyle korver</th>\n",
              "      <td>6.735742</td>\n",
              "      <td>1.330377</td>\n",
              "    </tr>\n",
              "    <tr>\n",
              "      <th>channing frye</th>\n",
              "      <td>6.723827</td>\n",
              "      <td>1.071960</td>\n",
              "    </tr>\n",
              "    <tr>\n",
              "      <th>hedo turkoglu</th>\n",
              "      <td>6.456274</td>\n",
              "      <td>1.190000</td>\n",
              "    </tr>\n",
              "    <tr>\n",
              "      <th>pablo prigioni</th>\n",
              "      <td>6.426358</td>\n",
              "      <td>1.161491</td>\n",
              "    </tr>\n",
              "    <tr>\n",
              "      <th>...</th>\n",
              "      <td>...</td>\n",
              "      <td>...</td>\n",
              "    </tr>\n",
              "    <tr>\n",
              "      <th>joey dorsey</th>\n",
              "      <td>1.113213</td>\n",
              "      <td>1.068182</td>\n",
              "    </tr>\n",
              "    <tr>\n",
              "      <th>rudy gobert</th>\n",
              "      <td>1.084434</td>\n",
              "      <td>1.249042</td>\n",
              "    </tr>\n",
              "    <tr>\n",
              "      <th>deandre jordan</th>\n",
              "      <td>1.041754</td>\n",
              "      <td>1.431525</td>\n",
              "    </tr>\n",
              "    <tr>\n",
              "      <th>greg smith</th>\n",
              "      <td>0.809708</td>\n",
              "      <td>1.217391</td>\n",
              "    </tr>\n",
              "    <tr>\n",
              "      <th>omer asik</th>\n",
              "      <td>0.802225</td>\n",
              "      <td>1.013605</td>\n",
              "    </tr>\n",
              "  </tbody>\n",
              "</table>\n",
              "<p>281 rows × 2 columns</p>\n",
              "</div>\n",
              "      <button class=\"colab-df-convert\" onclick=\"convertToInteractive('df-58c3e1b7-88d7-4a74-a2e9-11cd6fc3a55e')\"\n",
              "              title=\"Convert this dataframe to an interactive table.\"\n",
              "              style=\"display:none;\">\n",
              "        \n",
              "  <svg xmlns=\"http://www.w3.org/2000/svg\" height=\"24px\"viewBox=\"0 0 24 24\"\n",
              "       width=\"24px\">\n",
              "    <path d=\"M0 0h24v24H0V0z\" fill=\"none\"/>\n",
              "    <path d=\"M18.56 5.44l.94 2.06.94-2.06 2.06-.94-2.06-.94-.94-2.06-.94 2.06-2.06.94zm-11 1L8.5 8.5l.94-2.06 2.06-.94-2.06-.94L8.5 2.5l-.94 2.06-2.06.94zm10 10l.94 2.06.94-2.06 2.06-.94-2.06-.94-.94-2.06-.94 2.06-2.06.94z\"/><path d=\"M17.41 7.96l-1.37-1.37c-.4-.4-.92-.59-1.43-.59-.52 0-1.04.2-1.43.59L10.3 9.45l-7.72 7.72c-.78.78-.78 2.05 0 2.83L4 21.41c.39.39.9.59 1.41.59.51 0 1.02-.2 1.41-.59l7.78-7.78 2.81-2.81c.8-.78.8-2.07 0-2.86zM5.41 20L4 18.59l7.72-7.72 1.47 1.35L5.41 20z\"/>\n",
              "  </svg>\n",
              "      </button>\n",
              "      \n",
              "  <style>\n",
              "    .colab-df-container {\n",
              "      display:flex;\n",
              "      flex-wrap:wrap;\n",
              "      gap: 12px;\n",
              "    }\n",
              "\n",
              "    .colab-df-convert {\n",
              "      background-color: #E8F0FE;\n",
              "      border: none;\n",
              "      border-radius: 50%;\n",
              "      cursor: pointer;\n",
              "      display: none;\n",
              "      fill: #1967D2;\n",
              "      height: 32px;\n",
              "      padding: 0 0 0 0;\n",
              "      width: 32px;\n",
              "    }\n",
              "\n",
              "    .colab-df-convert:hover {\n",
              "      background-color: #E2EBFA;\n",
              "      box-shadow: 0px 1px 2px rgba(60, 64, 67, 0.3), 0px 1px 3px 1px rgba(60, 64, 67, 0.15);\n",
              "      fill: #174EA6;\n",
              "    }\n",
              "\n",
              "    [theme=dark] .colab-df-convert {\n",
              "      background-color: #3B4455;\n",
              "      fill: #D2E3FC;\n",
              "    }\n",
              "\n",
              "    [theme=dark] .colab-df-convert:hover {\n",
              "      background-color: #434B5C;\n",
              "      box-shadow: 0px 1px 3px 1px rgba(0, 0, 0, 0.15);\n",
              "      filter: drop-shadow(0px 1px 2px rgba(0, 0, 0, 0.3));\n",
              "      fill: #FFFFFF;\n",
              "    }\n",
              "  </style>\n",
              "\n",
              "      <script>\n",
              "        const buttonEl =\n",
              "          document.querySelector('#df-58c3e1b7-88d7-4a74-a2e9-11cd6fc3a55e button.colab-df-convert');\n",
              "        buttonEl.style.display =\n",
              "          google.colab.kernel.accessAllowed ? 'block' : 'none';\n",
              "\n",
              "        async function convertToInteractive(key) {\n",
              "          const element = document.querySelector('#df-58c3e1b7-88d7-4a74-a2e9-11cd6fc3a55e');\n",
              "          const dataTable =\n",
              "            await google.colab.kernel.invokeFunction('convertToInteractive',\n",
              "                                                     [key], {});\n",
              "          if (!dataTable) return;\n",
              "\n",
              "          const docLinkHtml = 'Like what you see? Visit the ' +\n",
              "            '<a target=\"_blank\" href=https://colab.research.google.com/notebooks/data_table.ipynb>data table notebook</a>'\n",
              "            + ' to learn more about interactive tables.';\n",
              "          element.innerHTML = '';\n",
              "          dataTable['output_type'] = 'display_data';\n",
              "          await google.colab.output.renderOutput(dataTable, element);\n",
              "          const docLink = document.createElement('div');\n",
              "          docLink.innerHTML = docLinkHtml;\n",
              "          element.appendChild(docLink);\n",
              "        }\n",
              "      </script>\n",
              "    </div>\n",
              "  </div>\n",
              "  "
            ]
          },
          "metadata": {},
          "execution_count": 376
        }
      ]
    },
    {
      "cell_type": "code",
      "source": [
        "df_cleaned['FGM'].value_counts().plot(kind=\"bar\",title=\"Number of misses and hits\")\n",
        "plt.xticks((0,1),('MISS','HIT'),rotation='horizontal')\n",
        "plt.show()\n"
      ],
      "metadata": {
        "id": "iMkg9BSlePnR",
        "colab": {
          "base_uri": "https://localhost:8080/",
          "height": 417
        },
        "outputId": "5153eb41-d4dc-4a90-9a51-6e508e559aa1"
      },
      "execution_count": 377,
      "outputs": [
        {
          "output_type": "display_data",
          "data": {
            "text/plain": [
              "<Figure size 640x440 with 1 Axes>"
            ],
            "image/png": "[encoded data removed]"
          },
          "metadata": {}
        }
      ]
    },
    {
      "cell_type": "code",
      "source": [
        "np.round((df_cleaned['FGM'].value_counts() / len(df_cleaned) * 100),2).astype(str) + '%'"
      ],
      "metadata": {
        "colab": {
          "base_uri": "https://localhost:8080/"
        },
        "id": "EkB0drE3dupq",
        "outputId": "0a443f36-7593-4939-ab16-614f8b837687"
      },
      "execution_count": 378,
      "outputs": [
        {
          "output_type": "execute_result",
          "data": {
            "text/plain": [
              "0    54.38%\n",
              "1    45.62%\n",
              "Name: FGM, dtype: object"
            ]
          },
          "metadata": {},
          "execution_count": 378
        }
      ]
    },
    {
      "cell_type": "code",
      "source": [
        "df_cleaned[df_cleaned['SHOT_DIST'] > 8].sort_values('PTS_TYPE')"
      ],
      "metadata": {
        "colab": {
          "base_uri": "https://localhost:8080/",
          "height": 424
        },
        "id": "atgNeBCsa4yj",
        "outputId": "11628452-11c4-4735-8920-352c3c87bcc3"
      },
      "execution_count": 379,
      "outputs": [
        {
          "output_type": "execute_result",
          "data": {
            "text/plain": [
              "        LOCATION  SHOT_NUMBER  PERIOD  GAME_CLOCK  SHOT_CLOCK  DRIBBLES  \\\n",
              "53117          0            7       3         688        13.3         4   \n",
              "101269         0            1       1         701         6.0         0   \n",
              "40004          0            7       2         647        16.9         8   \n",
              "29537          1           13       4         237        19.5         0   \n",
              "119756         0            4       2         587        24.0         0   \n",
              "...          ...          ...     ...         ...         ...       ...   \n",
              "40870          0            3       3         344         9.5         0   \n",
              "40879          1            7       3         231        17.4         0   \n",
              "40887          1            5       3          73         0.2         1   \n",
              "40851          1            3       2         552        21.0         0   \n",
              "127887         1            2       2         310         9.8         0   \n",
              "\n",
              "        TOUCH_TIME  SHOT_DIST  PTS_TYPE    CLOSEST_DEFENDER  CLOSE_DEF_DIST  \\\n",
              "53117          5.2    8.16864         2     Chalmers, Mario         3.16992   \n",
              "101269         0.1    8.53440         2     Hayward, Gordon         3.32232   \n",
              "40004          6.7    8.86968         2         Exum, Dante         2.04216   \n",
              "29537          0.0    8.71728         2   Henderson, Gerald         3.26136   \n",
              "119756         2.4    8.41248         2  Stoudemire, Amar'e         1.58496   \n",
              "...            ...        ...       ...                 ...             ...   \n",
              "40870          1.0    8.13816         3       Adams, Steven         2.10312   \n",
              "40879          0.9    8.41248         3        Ellis, Monta         2.16408   \n",
              "40887          1.9    8.65632         3          Mayo, O.J.         0.91440   \n",
              "40851          1.0    8.22960         3       Brooks, Aaron         1.61544   \n",
              "127887         1.4    8.10768         3     Chalmers, Mario         1.24968   \n",
              "\n",
              "        FGM  PTS     player_name  \n",
              "53117     0    0   avery bradley  \n",
              "101269    0    0        rudy gay  \n",
              "40004     1    2  dirk nowtizski  \n",
              "29537     1    2    tyreke evans  \n",
              "119756    1    2     chris kaman  \n",
              "...     ...  ...             ...  \n",
              "40870     0    0   evan fournier  \n",
              "40879     1    3   evan fournier  \n",
              "40887     0    0   evan fournier  \n",
              "40851     0    0   evan fournier  \n",
              "127887    0    0    jarrett jack  \n",
              "\n",
              "[2552 rows x 14 columns]"
            ],
            "text/html": [
              "\n",
              "  <div id=\"df-f1b4f8a7-2234-4576-a1be-f57996515e88\">\n",
              "    <div class=\"colab-df-container\">\n",
              "      <div>\n",
              "<style scoped>\n",
              "    .dataframe tbody tr th:only-of-type {\n",
              "        vertical-align: middle;\n",
              "    }\n",
              "\n",
              "    .dataframe tbody tr th {\n",
              "        vertical-align: top;\n",
              "    }\n",
              "\n",
              "    .dataframe thead th {\n",
              "        text-align: right;\n",
              "    }\n",
              "</style>\n",
              "<table border=\"1\" class=\"dataframe\">\n",
              "  <thead>\n",
              "    <tr style=\"text-align: right;\">\n",
              "      <th></th>\n",
              "      <th>LOCATION</th>\n",
              "      <th>SHOT_NUMBER</th>\n",
              "      <th>PERIOD</th>\n",
              "      <th>GAME_CLOCK</th>\n",
              "      <th>SHOT_CLOCK</th>\n",
              "      <th>DRIBBLES</th>\n",
              "      <th>TOUCH_TIME</th>\n",
              "      <th>SHOT_DIST</th>\n",
              "      <th>PTS_TYPE</th>\n",
              "      <th>CLOSEST_DEFENDER</th>\n",
              "      <th>CLOSE_DEF_DIST</th>\n",
              "      <th>FGM</th>\n",
              "      <th>PTS</th>\n",
              "      <th>player_name</th>\n",
              "    </tr>\n",
              "  </thead>\n",
              "  <tbody>\n",
              "    <tr>\n",
              "      <th>53117</th>\n",
              "      <td>0</td>\n",
              "      <td>7</td>\n",
              "      <td>3</td>\n",
              "      <td>688</td>\n",
              "      <td>13.3</td>\n",
              "      <td>4</td>\n",
              "      <td>5.2</td>\n",
              "      <td>8.16864</td>\n",
              "      <td>2</td>\n",
              "      <td>Chalmers, Mario</td>\n",
              "      <td>3.16992</td>\n",
              "      <td>0</td>\n",
              "      <td>0</td>\n",
              "      <td>avery bradley</td>\n",
              "    </tr>\n",
              "    <tr>\n",
              "      <th>101269</th>\n",
              "      <td>0</td>\n",
              "      <td>1</td>\n",
              "      <td>1</td>\n",
              "      <td>701</td>\n",
              "      <td>6.0</td>\n",
              "      <td>0</td>\n",
              "      <td>0.1</td>\n",
              "      <td>8.53440</td>\n",
              "      <td>2</td>\n",
              "      <td>Hayward, Gordon</td>\n",
              "      <td>3.32232</td>\n",
              "      <td>0</td>\n",
              "      <td>0</td>\n",
              "      <td>rudy gay</td>\n",
              "    </tr>\n",
              "    <tr>\n",
              "      <th>40004</th>\n",
              "      <td>0</td>\n",
              "      <td>7</td>\n",
              "      <td>2</td>\n",
              "      <td>647</td>\n",
              "      <td>16.9</td>\n",
              "      <td>8</td>\n",
              "      <td>6.7</td>\n",
              "      <td>8.86968</td>\n",
              "      <td>2</td>\n",
              "      <td>Exum, Dante</td>\n",
              "      <td>2.04216</td>\n",
              "      <td>1</td>\n",
              "      <td>2</td>\n",
              "      <td>dirk nowtizski</td>\n",
              "    </tr>\n",
              "    <tr>\n",
              "      <th>29537</th>\n",
              "      <td>1</td>\n",
              "      <td>13</td>\n",
              "      <td>4</td>\n",
              "      <td>237</td>\n",
              "      <td>19.5</td>\n",
              "      <td>0</td>\n",
              "      <td>0.0</td>\n",
              "      <td>8.71728</td>\n",
              "      <td>2</td>\n",
              "      <td>Henderson, Gerald</td>\n",
              "      <td>3.26136</td>\n",
              "      <td>1</td>\n",
              "      <td>2</td>\n",
              "      <td>tyreke evans</td>\n",
              "    </tr>\n",
              "    <tr>\n",
              "      <th>119756</th>\n",
              "      <td>0</td>\n",
              "      <td>4</td>\n",
              "      <td>2</td>\n",
              "      <td>587</td>\n",
              "      <td>24.0</td>\n",
              "      <td>0</td>\n",
              "      <td>2.4</td>\n",
              "      <td>8.41248</td>\n",
              "      <td>2</td>\n",
              "      <td>Stoudemire, Amar'e</td>\n",
              "      <td>1.58496</td>\n",
              "      <td>1</td>\n",
              "      <td>2</td>\n",
              "      <td>chris kaman</td>\n",
              "    </tr>\n",
              "    <tr>\n",
              "      <th>...</th>\n",
              "      <td>...</td>\n",
              "      <td>...</td>\n",
              "      <td>...</td>\n",
              "      <td>...</td>\n",
              "      <td>...</td>\n",
              "      <td>...</td>\n",
              "      <td>...</td>\n",
              "      <td>...</td>\n",
              "      <td>...</td>\n",
              "      <td>...</td>\n",
              "      <td>...</td>\n",
              "      <td>...</td>\n",
              "      <td>...</td>\n",
              "      <td>...</td>\n",
              "    </tr>\n",
              "    <tr>\n",
              "      <th>40870</th>\n",
              "      <td>0</td>\n",
              "      <td>3</td>\n",
              "      <td>3</td>\n",
              "      <td>344</td>\n",
              "      <td>9.5</td>\n",
              "      <td>0</td>\n",
              "      <td>1.0</td>\n",
              "      <td>8.13816</td>\n",
              "      <td>3</td>\n",
              "      <td>Adams, Steven</td>\n",
              "      <td>2.10312</td>\n",
              "      <td>0</td>\n",
              "      <td>0</td>\n",
              "      <td>evan fournier</td>\n",
              "    </tr>\n",
              "    <tr>\n",
              "      <th>40879</th>\n",
              "      <td>1</td>\n",
              "      <td>7</td>\n",
              "      <td>3</td>\n",
              "      <td>231</td>\n",
              "      <td>17.4</td>\n",
              "      <td>0</td>\n",
              "      <td>0.9</td>\n",
              "      <td>8.41248</td>\n",
              "      <td>3</td>\n",
              "      <td>Ellis, Monta</td>\n",
              "      <td>2.16408</td>\n",
              "      <td>1</td>\n",
              "      <td>3</td>\n",
              "      <td>evan fournier</td>\n",
              "    </tr>\n",
              "    <tr>\n",
              "      <th>40887</th>\n",
              "      <td>1</td>\n",
              "      <td>5</td>\n",
              "      <td>3</td>\n",
              "      <td>73</td>\n",
              "      <td>0.2</td>\n",
              "      <td>1</td>\n",
              "      <td>1.9</td>\n",
              "      <td>8.65632</td>\n",
              "      <td>3</td>\n",
              "      <td>Mayo, O.J.</td>\n",
              "      <td>0.91440</td>\n",
              "      <td>0</td>\n",
              "      <td>0</td>\n",
              "      <td>evan fournier</td>\n",
              "    </tr>\n",
              "    <tr>\n",
              "      <th>40851</th>\n",
              "      <td>1</td>\n",
              "      <td>3</td>\n",
              "      <td>2</td>\n",
              "      <td>552</td>\n",
              "      <td>21.0</td>\n",
              "      <td>0</td>\n",
              "      <td>1.0</td>\n",
              "      <td>8.22960</td>\n",
              "      <td>3</td>\n",
              "      <td>Brooks, Aaron</td>\n",
              "      <td>1.61544</td>\n",
              "      <td>0</td>\n",
              "      <td>0</td>\n",
              "      <td>evan fournier</td>\n",
              "    </tr>\n",
              "    <tr>\n",
              "      <th>127887</th>\n",
              "      <td>1</td>\n",
              "      <td>2</td>\n",
              "      <td>2</td>\n",
              "      <td>310</td>\n",
              "      <td>9.8</td>\n",
              "      <td>0</td>\n",
              "      <td>1.4</td>\n",
              "      <td>8.10768</td>\n",
              "      <td>3</td>\n",
              "      <td>Chalmers, Mario</td>\n",
              "      <td>1.24968</td>\n",
              "      <td>0</td>\n",
              "      <td>0</td>\n",
              "      <td>jarrett jack</td>\n",
              "    </tr>\n",
              "  </tbody>\n",
              "</table>\n",
              "<p>2552 rows × 14 columns</p>\n",
              "</div>\n",
              "      <button class=\"colab-df-convert\" onclick=\"convertToInteractive('df-f1b4f8a7-2234-4576-a1be-f57996515e88')\"\n",
              "              title=\"Convert this dataframe to an interactive table.\"\n",
              "              style=\"display:none;\">\n",
              "        \n",
              "  <svg xmlns=\"http://www.w3.org/2000/svg\" height=\"24px\"viewBox=\"0 0 24 24\"\n",
              "       width=\"24px\">\n",
              "    <path d=\"M0 0h24v24H0V0z\" fill=\"none\"/>\n",
              "    <path d=\"M18.56 5.44l.94 2.06.94-2.06 2.06-.94-2.06-.94-.94-2.06-.94 2.06-2.06.94zm-11 1L8.5 8.5l.94-2.06 2.06-.94-2.06-.94L8.5 2.5l-.94 2.06-2.06.94zm10 10l.94 2.06.94-2.06 2.06-.94-2.06-.94-.94-2.06-.94 2.06-2.06.94z\"/><path d=\"M17.41 7.96l-1.37-1.37c-.4-.4-.92-.59-1.43-.59-.52 0-1.04.2-1.43.59L10.3 9.45l-7.72 7.72c-.78.78-.78 2.05 0 2.83L4 21.41c.39.39.9.59 1.41.59.51 0 1.02-.2 1.41-.59l7.78-7.78 2.81-2.81c.8-.78.8-2.07 0-2.86zM5.41 20L4 18.59l7.72-7.72 1.47 1.35L5.41 20z\"/>\n",
              "  </svg>\n",
              "      </button>\n",
              "      \n",
              "  <style>\n",
              "    .colab-df-container {\n",
              "      display:flex;\n",
              "      flex-wrap:wrap;\n",
              "      gap: 12px;\n",
              "    }\n",
              "\n",
              "    .colab-df-convert {\n",
              "      background-color: #E8F0FE;\n",
              "      border: none;\n",
              "      border-radius: 50%;\n",
              "      cursor: pointer;\n",
              "      display: none;\n",
              "      fill: #1967D2;\n",
              "      height: 32px;\n",
              "      padding: 0 0 0 0;\n",
              "      width: 32px;\n",
              "    }\n",
              "\n",
              "    .colab-df-convert:hover {\n",
              "      background-color: #E2EBFA;\n",
              "      box-shadow: 0px 1px 2px rgba(60, 64, 67, 0.3), 0px 1px 3px 1px rgba(60, 64, 67, 0.15);\n",
              "      fill: #174EA6;\n",
              "    }\n",
              "\n",
              "    [theme=dark] .colab-df-convert {\n",
              "      background-color: #3B4455;\n",
              "      fill: #D2E3FC;\n",
              "    }\n",
              "\n",
              "    [theme=dark] .colab-df-convert:hover {\n",
              "      background-color: #434B5C;\n",
              "      box-shadow: 0px 1px 3px 1px rgba(0, 0, 0, 0.15);\n",
              "      filter: drop-shadow(0px 1px 2px rgba(0, 0, 0, 0.3));\n",
              "      fill: #FFFFFF;\n",
              "    }\n",
              "  </style>\n",
              "\n",
              "      <script>\n",
              "        const buttonEl =\n",
              "          document.querySelector('#df-f1b4f8a7-2234-4576-a1be-f57996515e88 button.colab-df-convert');\n",
              "        buttonEl.style.display =\n",
              "          google.colab.kernel.accessAllowed ? 'block' : 'none';\n",
              "\n",
              "        async function convertToInteractive(key) {\n",
              "          const element = document.querySelector('#df-f1b4f8a7-2234-4576-a1be-f57996515e88');\n",
              "          const dataTable =\n",
              "            await google.colab.kernel.invokeFunction('convertToInteractive',\n",
              "                                                     [key], {});\n",
              "          if (!dataTable) return;\n",
              "\n",
              "          const docLinkHtml = 'Like what you see? Visit the ' +\n",
              "            '<a target=\"_blank\" href=https://colab.research.google.com/notebooks/data_table.ipynb>data table notebook</a>'\n",
              "            + ' to learn more about interactive tables.';\n",
              "          element.innerHTML = '';\n",
              "          dataTable['output_type'] = 'display_data';\n",
              "          await google.colab.output.renderOutput(dataTable, element);\n",
              "          const docLink = document.createElement('div');\n",
              "          docLink.innerHTML = docLinkHtml;\n",
              "          element.appendChild(docLink);\n",
              "        }\n",
              "      </script>\n",
              "    </div>\n",
              "  </div>\n",
              "  "
            ]
          },
          "metadata": {},
          "execution_count": 379
        }
      ]
    },
    {
      "cell_type": "code",
      "source": [
        "df_cleaned[df_cleaned['SHOT_DIST'] > 8 ]['PTS_TYPE'].value_counts().plot(kind=\"bar\",title='Shots over 8 meters')\n"
      ],
      "metadata": {
        "colab": {
          "base_uri": "https://localhost:8080/",
          "height": 430
        },
        "id": "icGfoUoUZWoZ",
        "outputId": "4b555949-0f69-4bcd-bd2c-7f73742dd17c"
      },
      "execution_count": 380,
      "outputs": [
        {
          "output_type": "execute_result",
          "data": {
            "text/plain": [
              "<matplotlib.axes._subplots.AxesSubplot at 0x7f3a9fe038d0>"
            ]
          },
          "metadata": {},
          "execution_count": 380
        },
        {
          "output_type": "display_data",
          "data": {
            "text/plain": [
              "<Figure size 640x440 with 1 Axes>"
            ],
            "image/png": "[encoded data removed]"
          },
          "metadata": {}
        }
      ]
    },
    {
      "cell_type": "markdown",
      "source": [
        "Možemo vidjeti da ovdje nešto ne valja. Šutevi koji su preko 8 metara sigurno moraju biti za 3 poena, ali vidimo da ih ima i koji su za 2 poena."
      ],
      "metadata": {
        "id": "O2ihmmRuaNxf"
      }
    },
    {
      "cell_type": "code",
      "source": [
        "df.plot('SHOT_DIST'[:50],'PTS_TYPE'[:50],style='o')"
      ],
      "metadata": {
        "colab": {
          "base_uri": "https://localhost:8080/",
          "height": 442
        },
        "id": "YiODzKTcaOyR",
        "outputId": "2c30d505-0a81-4474-f18b-9584f0144ccc"
      },
      "execution_count": 381,
      "outputs": [
        {
          "output_type": "execute_result",
          "data": {
            "text/plain": [
              "<matplotlib.axes._subplots.AxesSubplot at 0x7f3aa0148a90>"
            ]
          },
          "metadata": {},
          "execution_count": 381
        },
        {
          "output_type": "display_data",
          "data": {
            "text/plain": [
              "<Figure size 640x440 with 1 Axes>"
            ],
            "image/png": "[encoded data removed]"
          },
          "metadata": {}
        }
      ]
    },
    {
      "cell_type": "code",
      "source": [
        "df_cleaned[df_cleaned['SHOT_DIST'] < 6.5 ]['PTS_TYPE'].value_counts().plot(kind=\"bar\",title='Shots under 6.5 meters')\n",
        "plt.yscale('log')\n"
      ],
      "metadata": {
        "colab": {
          "base_uri": "https://localhost:8080/",
          "height": 413
        },
        "id": "vjxn-uczbGyi",
        "outputId": "9864ec8e-4244-4e94-fa19-dc6fd14b65da"
      },
      "execution_count": 389,
      "outputs": [
        {
          "output_type": "display_data",
          "data": {
            "text/plain": [
              "<Figure size 640x440 with 1 Axes>"
            ],
            "image/png": "[encoded data removed]"
          },
          "metadata": {}
        }
      ]
    },
    {
      "cell_type": "markdown",
      "source": [
        "Vidimo da postoje anomalije u podacima. Kasnije ćemo odlučiti što ćemo napraviti s tim."
      ],
      "metadata": {
        "id": "bjQer0nCcIrt"
      }
    },
    {
      "cell_type": "markdown",
      "source": [
        "### Pogledajmo sada kada izgledaju naše ostale značajke"
      ],
      "metadata": {
        "id": "GZCEGtbbgSqE"
      }
    },
    {
      "cell_type": "code",
      "source": [
        "df_cleaned.describe()"
      ],
      "metadata": {
        "colab": {
          "base_uri": "https://localhost:8080/",
          "height": 300
        },
        "id": "AYkvVzDFcPiM",
        "outputId": "5f256496-f5d0-40e9-b56e-44f2c27fae7e"
      },
      "execution_count": 383,
      "outputs": [
        {
          "output_type": "execute_result",
          "data": {
            "text/plain": [
              "            LOCATION    SHOT_NUMBER         PERIOD     GAME_CLOCK  \\\n",
              "count  122502.000000  122502.000000  122502.000000  122502.000000   \n",
              "mean        0.499478       6.476164       2.471454     361.068529   \n",
              "std         0.500002       4.681245       1.137898     202.024393   \n",
              "min         0.000000       1.000000       1.000000       1.000000   \n",
              "25%         0.000000       3.000000       1.000000     187.000000   \n",
              "50%         0.000000       5.000000       2.000000     362.000000   \n",
              "75%         1.000000       9.000000       3.000000     536.000000   \n",
              "max         1.000000      37.000000       7.000000     720.000000   \n",
              "\n",
              "          SHOT_CLOCK       DRIBBLES     TOUCH_TIME      SHOT_DIST  \\\n",
              "count  122502.000000  122502.000000  122502.000000  122502.000000   \n",
              "mean       12.453344       1.989233       2.759757       4.097657   \n",
              "std         5.763265       3.411188       2.931794       2.675264   \n",
              "min         0.000000       0.000000       0.000000       0.000000   \n",
              "25%         8.200000       0.000000       0.900000       1.432560   \n",
              "50%        12.300000       1.000000       1.600000       4.084320   \n",
              "75%        16.675000       2.000000       3.700000       6.827520   \n",
              "max        24.000000      32.000000      24.900000      13.258800   \n",
              "\n",
              "            PTS_TYPE  CLOSE_DEF_DIST            FGM            PTS  \n",
              "count  122502.000000   122502.000000  122502.000000  122502.000000  \n",
              "mean        2.258363        1.256296       0.456156       1.005469  \n",
              "std         0.437736        0.838684       0.498076       1.131129  \n",
              "min         2.000000        0.000000       0.000000       0.000000  \n",
              "25%         2.000000        0.701040       0.000000       0.000000  \n",
              "50%         2.000000        1.127760       0.000000       0.000000  \n",
              "75%         3.000000        1.615440       1.000000       2.000000  \n",
              "max         3.000000       16.215360       1.000000       3.000000  "
            ],
            "text/html": [
              "\n",
              "  <div id=\"df-3a5b7d41-e7f6-4c1f-b12d-5820a8908662\">\n",
              "    <div class=\"colab-df-container\">\n",
              "      <div>\n",
              "<style scoped>\n",
              "    .dataframe tbody tr th:only-of-type {\n",
              "        vertical-align: middle;\n",
              "    }\n",
              "\n",
              "    .dataframe tbody tr th {\n",
              "        vertical-align: top;\n",
              "    }\n",
              "\n",
              "    .dataframe thead th {\n",
              "        text-align: right;\n",
              "    }\n",
              "</style>\n",
              "<table border=\"1\" class=\"dataframe\">\n",
              "  <thead>\n",
              "    <tr style=\"text-align: right;\">\n",
              "      <th></th>\n",
              "      <th>LOCATION</th>\n",
              "      <th>SHOT_NUMBER</th>\n",
              "      <th>PERIOD</th>\n",
              "      <th>GAME_CLOCK</th>\n",
              "      <th>SHOT_CLOCK</th>\n",
              "      <th>DRIBBLES</th>\n",
              "      <th>TOUCH_TIME</th>\n",
              "      <th>SHOT_DIST</th>\n",
              "      <th>PTS_TYPE</th>\n",
              "      <th>CLOSE_DEF_DIST</th>\n",
              "      <th>FGM</th>\n",
              "      <th>PTS</th>\n",
              "    </tr>\n",
              "  </thead>\n",
              "  <tbody>\n",
              "    <tr>\n",
              "      <th>count</th>\n",
              "      <td>122502.000000</td>\n",
              "      <td>122502.000000</td>\n",
              "      <td>122502.000000</td>\n",
              "      <td>122502.000000</td>\n",
              "      <td>122502.000000</td>\n",
              "      <td>122502.000000</td>\n",
              "      <td>122502.000000</td>\n",
              "      <td>122502.000000</td>\n",
              "      <td>122502.000000</td>\n",
              "      <td>122502.000000</td>\n",
              "      <td>122502.000000</td>\n",
              "      <td>122502.000000</td>\n",
              "    </tr>\n",
              "    <tr>\n",
              "      <th>mean</th>\n",
              "      <td>0.499478</td>\n",
              "      <td>6.476164</td>\n",
              "      <td>2.471454</td>\n",
              "      <td>361.068529</td>\n",
              "      <td>12.453344</td>\n",
              "      <td>1.989233</td>\n",
              "      <td>2.759757</td>\n",
              "      <td>4.097657</td>\n",
              "      <td>2.258363</td>\n",
              "      <td>1.256296</td>\n",
              "      <td>0.456156</td>\n",
              "      <td>1.005469</td>\n",
              "    </tr>\n",
              "    <tr>\n",
              "      <th>std</th>\n",
              "      <td>0.500002</td>\n",
              "      <td>4.681245</td>\n",
              "      <td>1.137898</td>\n",
              "      <td>202.024393</td>\n",
              "      <td>5.763265</td>\n",
              "      <td>3.411188</td>\n",
              "      <td>2.931794</td>\n",
              "      <td>2.675264</td>\n",
              "      <td>0.437736</td>\n",
              "      <td>0.838684</td>\n",
              "      <td>0.498076</td>\n",
              "      <td>1.131129</td>\n",
              "    </tr>\n",
              "    <tr>\n",
              "      <th>min</th>\n",
              "      <td>0.000000</td>\n",
              "      <td>1.000000</td>\n",
              "      <td>1.000000</td>\n",
              "      <td>1.000000</td>\n",
              "      <td>0.000000</td>\n",
              "      <td>0.000000</td>\n",
              "      <td>0.000000</td>\n",
              "      <td>0.000000</td>\n",
              "      <td>2.000000</td>\n",
              "      <td>0.000000</td>\n",
              "      <td>0.000000</td>\n",
              "      <td>0.000000</td>\n",
              "    </tr>\n",
              "    <tr>\n",
              "      <th>25%</th>\n",
              "      <td>0.000000</td>\n",
              "      <td>3.000000</td>\n",
              "      <td>1.000000</td>\n",
              "      <td>187.000000</td>\n",
              "      <td>8.200000</td>\n",
              "      <td>0.000000</td>\n",
              "      <td>0.900000</td>\n",
              "      <td>1.432560</td>\n",
              "      <td>2.000000</td>\n",
              "      <td>0.701040</td>\n",
              "      <td>0.000000</td>\n",
              "      <td>0.000000</td>\n",
              "    </tr>\n",
              "    <tr>\n",
              "      <th>50%</th>\n",
              "      <td>0.000000</td>\n",
              "      <td>5.000000</td>\n",
              "      <td>2.000000</td>\n",
              "      <td>362.000000</td>\n",
              "      <td>12.300000</td>\n",
              "      <td>1.000000</td>\n",
              "      <td>1.600000</td>\n",
              "      <td>4.084320</td>\n",
              "      <td>2.000000</td>\n",
              "      <td>1.127760</td>\n",
              "      <td>0.000000</td>\n",
              "      <td>0.000000</td>\n",
              "    </tr>\n",
              "    <tr>\n",
              "      <th>75%</th>\n",
              "      <td>1.000000</td>\n",
              "      <td>9.000000</td>\n",
              "      <td>3.000000</td>\n",
              "      <td>536.000000</td>\n",
              "      <td>16.675000</td>\n",
              "      <td>2.000000</td>\n",
              "      <td>3.700000</td>\n",
              "      <td>6.827520</td>\n",
              "      <td>3.000000</td>\n",
              "      <td>1.615440</td>\n",
              "      <td>1.000000</td>\n",
              "      <td>2.000000</td>\n",
              "    </tr>\n",
              "    <tr>\n",
              "      <th>max</th>\n",
              "      <td>1.000000</td>\n",
              "      <td>37.000000</td>\n",
              "      <td>7.000000</td>\n",
              "      <td>720.000000</td>\n",
              "      <td>24.000000</td>\n",
              "      <td>32.000000</td>\n",
              "      <td>24.900000</td>\n",
              "      <td>13.258800</td>\n",
              "      <td>3.000000</td>\n",
              "      <td>16.215360</td>\n",
              "      <td>1.000000</td>\n",
              "      <td>3.000000</td>\n",
              "    </tr>\n",
              "  </tbody>\n",
              "</table>\n",
              "</div>\n",
              "      <button class=\"colab-df-convert\" onclick=\"convertToInteractive('df-3a5b7d41-e7f6-4c1f-b12d-5820a8908662')\"\n",
              "              title=\"Convert this dataframe to an interactive table.\"\n",
              "              style=\"display:none;\">\n",
              "        \n",
              "  <svg xmlns=\"http://www.w3.org/2000/svg\" height=\"24px\"viewBox=\"0 0 24 24\"\n",
              "       width=\"24px\">\n",
              "    <path d=\"M0 0h24v24H0V0z\" fill=\"none\"/>\n",
              "    <path d=\"M18.56 5.44l.94 2.06.94-2.06 2.06-.94-2.06-.94-.94-2.06-.94 2.06-2.06.94zm-11 1L8.5 8.5l.94-2.06 2.06-.94-2.06-.94L8.5 2.5l-.94 2.06-2.06.94zm10 10l.94 2.06.94-2.06 2.06-.94-2.06-.94-.94-2.06-.94 2.06-2.06.94z\"/><path d=\"M17.41 7.96l-1.37-1.37c-.4-.4-.92-.59-1.43-.59-.52 0-1.04.2-1.43.59L10.3 9.45l-7.72 7.72c-.78.78-.78 2.05 0 2.83L4 21.41c.39.39.9.59 1.41.59.51 0 1.02-.2 1.41-.59l7.78-7.78 2.81-2.81c.8-.78.8-2.07 0-2.86zM5.41 20L4 18.59l7.72-7.72 1.47 1.35L5.41 20z\"/>\n",
              "  </svg>\n",
              "      </button>\n",
              "      \n",
              "  <style>\n",
              "    .colab-df-container {\n",
              "      display:flex;\n",
              "      flex-wrap:wrap;\n",
              "      gap: 12px;\n",
              "    }\n",
              "\n",
              "    .colab-df-convert {\n",
              "      background-color: #E8F0FE;\n",
              "      border: none;\n",
              "      border-radius: 50%;\n",
              "      cursor: pointer;\n",
              "      display: none;\n",
              "      fill: #1967D2;\n",
              "      height: 32px;\n",
              "      padding: 0 0 0 0;\n",
              "      width: 32px;\n",
              "    }\n",
              "\n",
              "    .colab-df-convert:hover {\n",
              "      background-color: #E2EBFA;\n",
              "      box-shadow: 0px 1px 2px rgba(60, 64, 67, 0.3), 0px 1px 3px 1px rgba(60, 64, 67, 0.15);\n",
              "      fill: #174EA6;\n",
              "    }\n",
              "\n",
              "    [theme=dark] .colab-df-convert {\n",
              "      background-color: #3B4455;\n",
              "      fill: #D2E3FC;\n",
              "    }\n",
              "\n",
              "    [theme=dark] .colab-df-convert:hover {\n",
              "      background-color: #434B5C;\n",
              "      box-shadow: 0px 1px 3px 1px rgba(0, 0, 0, 0.15);\n",
              "      filter: drop-shadow(0px 1px 2px rgba(0, 0, 0, 0.3));\n",
              "      fill: #FFFFFF;\n",
              "    }\n",
              "  </style>\n",
              "\n",
              "      <script>\n",
              "        const buttonEl =\n",
              "          document.querySelector('#df-3a5b7d41-e7f6-4c1f-b12d-5820a8908662 button.colab-df-convert');\n",
              "        buttonEl.style.display =\n",
              "          google.colab.kernel.accessAllowed ? 'block' : 'none';\n",
              "\n",
              "        async function convertToInteractive(key) {\n",
              "          const element = document.querySelector('#df-3a5b7d41-e7f6-4c1f-b12d-5820a8908662');\n",
              "          const dataTable =\n",
              "            await google.colab.kernel.invokeFunction('convertToInteractive',\n",
              "                                                     [key], {});\n",
              "          if (!dataTable) return;\n",
              "\n",
              "          const docLinkHtml = 'Like what you see? Visit the ' +\n",
              "            '<a target=\"_blank\" href=https://colab.research.google.com/notebooks/data_table.ipynb>data table notebook</a>'\n",
              "            + ' to learn more about interactive tables.';\n",
              "          element.innerHTML = '';\n",
              "          dataTable['output_type'] = 'display_data';\n",
              "          await google.colab.output.renderOutput(dataTable, element);\n",
              "          const docLink = document.createElement('div');\n",
              "          docLink.innerHTML = docLinkHtml;\n",
              "          element.appendChild(docLink);\n",
              "        }\n",
              "      </script>\n",
              "    </div>\n",
              "  </div>\n",
              "  "
            ]
          },
          "metadata": {},
          "execution_count": 383
        }
      ]
    },
    {
      "cell_type": "code",
      "source": [
        "fig, (ax1, ax2, ax3,ax4) = plt.subplots(1,4,figsize=(15, 5))\n",
        "\n",
        "ax1 = df_cleaned['LOCATION'].value_counts().plot(kind=\"bar\",title='Distribution of home and away games',ax=ax1)\n",
        "ax1.set_xticks((0,1))\n",
        "ax1.set_xticklabels(('Away','Home'),rotation='horizontal')\n",
        "\n",
        "\n",
        "ax2 = df_cleaned['PERIOD'].value_counts().plot(kind=\"bar\",title='Distribution of shots per period',ax=ax2)\n",
        "ax2.set_xticklabels(([i for i in range(1,8)]),rotation='horizontal')\n",
        "\n",
        "ax3 = df_cleaned['GAME_CLOCK'].hist(bins=50,histtype='step',ax=ax3)\n",
        "\n",
        "ax4= df_cleaned['SHOT_CLOCK'].hist(bins=30,histtype='step',ax=ax4)\n",
        "\n",
        "\n",
        "\n",
        "\n",
        "plt.show()"
      ],
      "metadata": {
        "colab": {
          "base_uri": "https://localhost:8080/",
          "height": 385
        },
        "id": "EpPa0IroghgN",
        "outputId": "e40f756c-ef9f-467a-f007-6b27d1443e09"
      },
      "execution_count": 402,
      "outputs": [
        {
          "output_type": "display_data",
          "data": {
            "text/plain": [
              "<Figure size 1200x400 with 4 Axes>"
            ],
            "image/png": "[encoded data removed]"
          },
          "metadata": {}
        }
      ]
    },
    {
      "cell_type": "code",
      "source": [
        "fig, axs = plt.subplots(2,2,figsize=(15, 8))\n",
        "\n",
        "ax1 = df_cleaned['SHOT_DIST'].plot.hist(bins=30,ax=axs[0,0])\n",
        "ax1.set_title(\"Shooting distance [m]\")\n",
        "\n",
        "ax2 = df_cleaned['CLOSE_DEF_DIST'].plot.hist(bins=30,ax=axs[0,1])\n",
        "ax2.set_title(\"Closest defender distance [m]\")\n",
        "\n",
        "ax3 = df_cleaned['DRIBBLES'].plot.hist(bins=30,ax=axs[1,0])\n",
        "ax3.set_title(\"Number of dribbles\")\n",
        "\n",
        "ax4 = df_cleaned['TOUCH_TIME'].plot.hist(bins=30,ax=axs[1,1])\n",
        "ax4.set_title(\"Ball in hand [s]\")\n",
        "\n",
        "plt.show()"
      ],
      "metadata": {
        "colab": {
          "base_uri": "https://localhost:8080/",
          "height": 577
        },
        "id": "AEw3ExEPw5Nl",
        "outputId": "5ee4eeb8-a786-4c1c-a62d-bf2d8afd8ca8"
      },
      "execution_count": 420,
      "outputs": [
        {
          "output_type": "display_data",
          "data": {
            "text/plain": [
              "<Figure size 1200x640 with 4 Axes>"
            ],
            "image/png": "[encoded data removed]"
          },
          "metadata": {}
        }
      ]
    },
    {
      "cell_type": "code",
      "source": [
        "fig, axs = plt.subplots(1,2,figsize=(15, 8))\n",
        "\n",
        "\n",
        "ax1 = df_cleaned['PTS_TYPE'].value_counts().plot(kind=\"bar\",title=\"Number of 2 and 3 pointers\",ax=axs[0])\n",
        "ax1.set_xticklabels((2,3),rotation='horizontal')\n",
        "\n",
        "ax2 = df_cleaned['SHOT_NUMBER'].plot.hist(bins=20,ax=axs[1])\n",
        "ax2.set_title(\"Shot number\")\n",
        "\n",
        "plt.show()"
      ],
      "metadata": {
        "colab": {
          "base_uri": "https://localhost:8080/",
          "height": 577
        },
        "id": "hV8dvT84v2ob",
        "outputId": "b70fcc75-b163-465c-b171-d90cacb95d6a"
      },
      "execution_count": 427,
      "outputs": [
        {
          "output_type": "display_data",
          "data": {
            "text/plain": [
              "<Figure size 1200x640 with 2 Axes>"
            ],
            "image/png": "[encoded data removed]"
          },
          "metadata": {}
        }
      ]
    },
    {
      "cell_type": "code",
      "source": [
        "np.round((df_cleaned['PTS_TYPE'].value_counts() / len(df_cleaned) * 100),2).astype(str) + '%'"
      ],
      "metadata": {
        "colab": {
          "base_uri": "https://localhost:8080/"
        },
        "id": "qcyL-KXQwj3w",
        "outputId": "1a87d5c7-2168-4696-a606-8f55a979d594"
      },
      "execution_count": 392,
      "outputs": [
        {
          "output_type": "execute_result",
          "data": {
            "text/plain": [
              "2    74.16%\n",
              "3    25.84%\n",
              "Name: PTS_TYPE, dtype: object"
            ]
          },
          "metadata": {},
          "execution_count": 392
        }
      ]
    },
    {
      "cell_type": "markdown",
      "source": [
        "# Pogledajmo odnos vrijednosti nekih značajki u usporedbi da li je koš zabijen ili promašen."
      ],
      "metadata": {
        "id": "SycZ1Pww6R_N"
      }
    },
    {
      "cell_type": "code",
      "source": [
        "fig, axs = plt.subplots(1,4,figsize=(20, 8))\n",
        "\n",
        "my_pal = {1: \"g\", 0: \"r\"}\n",
        "\n",
        "\n",
        "ax1 = sns.boxplot(x=df_cleaned['FGM'],y=df_cleaned['SHOT_DIST'],ax=axs[0],palette=my_pal)\n",
        "\n",
        "ax2 = sns.boxplot(x=df_cleaned['FGM'],y=df_cleaned['CLOSE_DEF_DIST'],ax=axs[1],palette=my_pal)\n",
        "\n",
        "ax3 = sns.boxplot(x=df_cleaned['FGM'],y=df_cleaned['TOUCH_TIME'],ax=axs[2],palette=my_pal)\n",
        "\n",
        "ax4 = sns.boxplot(x=df_cleaned['FGM'],y=df_cleaned['DRIBBLES'],ax=axs[3],palette=my_pal)\n",
        "\n",
        "plt.show()"
      ],
      "metadata": {
        "colab": {
          "base_uri": "https://localhost:8080/",
          "height": 585
        },
        "id": "-O6htR7i6y9x",
        "outputId": "401b537a-26cb-4ca9-f2c5-21396d21055e"
      },
      "execution_count": 445,
      "outputs": [
        {
          "output_type": "display_data",
          "data": {
            "text/plain": [
              "<Figure size 1600x640 with 4 Axes>"
            ],
            "image/png": "[encoded data removed]"
          },
          "metadata": {}
        }
      ]
    },
    {
      "cell_type": "markdown",
      "source": [
        "### Analiza korelacije značajki"
      ],
      "metadata": {
        "id": "J3ar1OdTI2-h"
      }
    },
    {
      "cell_type": "code",
      "source": [
        "sns.set(rc={'figure.figsize':(25,10)})\n",
        "sns.heatmap(df_cleaned.corr(), annot=True, fmt=\".2f\", cmap=\"YlGnBu\", linewidths=.5)\n",
        "plt.show()"
      ],
      "metadata": {
        "colab": {
          "base_uri": "https://localhost:8080/",
          "height": 720
        },
        "id": "ZrWBips3I8Qz",
        "outputId": "328f5ea3-2dbb-4464-c49e-bd22f20d816d"
      },
      "execution_count": 447,
      "outputs": [
        {
          "output_type": "display_data",
          "data": {
            "text/plain": [
              "<Figure size 2000x800 with 2 Axes>"
            ],
            "image/png": "[encoded data removed]"
          },
          "metadata": {}
        }
      ]
    }
  ]
}